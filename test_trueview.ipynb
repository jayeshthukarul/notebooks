{
 "cells": [
  {
   "cell_type": "code",
   "execution_count": 4,
   "metadata": {},
   "outputs": [],
   "source": [
    "import pandas as pd\n",
    "import numpy as np\n",
    "from sklearn.preprocessing import LabelEncoder\n",
    "import category_encoders as ce\n",
    "from sklearn.preprocessing import MinMaxScaler\n",
    "from sklearn.linear_model import LogisticRegression\n",
    "import xgboost as xgb\n",
    "from sklearn.model_selection import train_test_split\n",
    "from sklearn.metrics import f1_score,classification_report\n",
    "from sklearn.metrics import log_loss, precision_score, recall_score\n",
    "from sklearn.metrics import accuracy_score\n"
   ]
  },
  {
   "cell_type": "code",
   "execution_count": 2,
   "metadata": {},
   "outputs": [],
   "source": [
    "raw_data = pd.read_csv('./data.csv')"
   ]
  },
  {
   "cell_type": "code",
   "execution_count": 3,
   "metadata": {
    "scrolled": true
   },
   "outputs": [
    {
     "data": {
      "text/html": [
       "<div>\n",
       "<style scoped>\n",
       "    .dataframe tbody tr th:only-of-type {\n",
       "        vertical-align: middle;\n",
       "    }\n",
       "\n",
       "    .dataframe tbody tr th {\n",
       "        vertical-align: top;\n",
       "    }\n",
       "\n",
       "    .dataframe thead th {\n",
       "        text-align: right;\n",
       "    }\n",
       "</style>\n",
       "<table border=\"1\" class=\"dataframe\">\n",
       "  <thead>\n",
       "    <tr style=\"text-align: right;\">\n",
       "      <th></th>\n",
       "      <th>visitor</th>\n",
       "      <th>session</th>\n",
       "      <th>browser</th>\n",
       "      <th>sessions_before</th>\n",
       "      <th>sessions_with_affil_before</th>\n",
       "      <th>affil_after_p1_prev_session</th>\n",
       "      <th>sessions_before_with_checkout</th>\n",
       "      <th>sessions_before_with_cart</th>\n",
       "      <th>sessions_before_with_product</th>\n",
       "      <th>daily_sessions</th>\n",
       "      <th>...</th>\n",
       "      <th>entry_home</th>\n",
       "      <th>entry_product</th>\n",
       "      <th>page_depth</th>\n",
       "      <th>first_page_affil</th>\n",
       "      <th>coupon_run_on_checkout</th>\n",
       "      <th>coupon_run_on_cart</th>\n",
       "      <th>coupon_run_on_product</th>\n",
       "      <th>products_viewed</th>\n",
       "      <th>mal_cb</th>\n",
       "      <th>coupon_run</th>\n",
       "    </tr>\n",
       "  </thead>\n",
       "  <tbody>\n",
       "    <tr>\n",
       "      <th>0</th>\n",
       "      <td>00006362-4996-4898-9aae-21317547d39e</td>\n",
       "      <td>8196a21e-e172-414a-bebe-231bfd8019ab</td>\n",
       "      <td>IE</td>\n",
       "      <td>0</td>\n",
       "      <td>0</td>\n",
       "      <td>0</td>\n",
       "      <td>0</td>\n",
       "      <td>0</td>\n",
       "      <td>0</td>\n",
       "      <td>0</td>\n",
       "      <td>...</td>\n",
       "      <td>1</td>\n",
       "      <td>0</td>\n",
       "      <td>14</td>\n",
       "      <td>0</td>\n",
       "      <td>0</td>\n",
       "      <td>0</td>\n",
       "      <td>0</td>\n",
       "      <td>5</td>\n",
       "      <td>0</td>\n",
       "      <td>0</td>\n",
       "    </tr>\n",
       "    <tr>\n",
       "      <th>1</th>\n",
       "      <td>00006362-4996-4898-9aae-21317547d39e</td>\n",
       "      <td>93660917-7a56-42f8-a59e-d06af115daad</td>\n",
       "      <td>IE</td>\n",
       "      <td>1</td>\n",
       "      <td>0</td>\n",
       "      <td>0</td>\n",
       "      <td>0</td>\n",
       "      <td>0</td>\n",
       "      <td>1</td>\n",
       "      <td>0</td>\n",
       "      <td>...</td>\n",
       "      <td>1</td>\n",
       "      <td>0</td>\n",
       "      <td>1</td>\n",
       "      <td>0</td>\n",
       "      <td>0</td>\n",
       "      <td>0</td>\n",
       "      <td>0</td>\n",
       "      <td>0</td>\n",
       "      <td>0</td>\n",
       "      <td>0</td>\n",
       "    </tr>\n",
       "    <tr>\n",
       "      <th>2</th>\n",
       "      <td>00006362-4996-4898-9aae-21317547d39e</td>\n",
       "      <td>8bf4bde4-6bf3-4fb8-ae03-0e52a9c41238</td>\n",
       "      <td>IE</td>\n",
       "      <td>2</td>\n",
       "      <td>0</td>\n",
       "      <td>0</td>\n",
       "      <td>0</td>\n",
       "      <td>0</td>\n",
       "      <td>1</td>\n",
       "      <td>1</td>\n",
       "      <td>...</td>\n",
       "      <td>1</td>\n",
       "      <td>0</td>\n",
       "      <td>1</td>\n",
       "      <td>0</td>\n",
       "      <td>0</td>\n",
       "      <td>0</td>\n",
       "      <td>0</td>\n",
       "      <td>0</td>\n",
       "      <td>0</td>\n",
       "      <td>0</td>\n",
       "    </tr>\n",
       "    <tr>\n",
       "      <th>3</th>\n",
       "      <td>0000879b-5642-476a-b307-da1736aa0e23</td>\n",
       "      <td>61398de4-3c0b-4630-b7e8-09610d19935b</td>\n",
       "      <td>IE</td>\n",
       "      <td>0</td>\n",
       "      <td>0</td>\n",
       "      <td>0</td>\n",
       "      <td>0</td>\n",
       "      <td>0</td>\n",
       "      <td>0</td>\n",
       "      <td>0</td>\n",
       "      <td>...</td>\n",
       "      <td>1</td>\n",
       "      <td>0</td>\n",
       "      <td>34</td>\n",
       "      <td>0</td>\n",
       "      <td>0</td>\n",
       "      <td>0</td>\n",
       "      <td>0</td>\n",
       "      <td>4</td>\n",
       "      <td>0</td>\n",
       "      <td>0</td>\n",
       "    </tr>\n",
       "    <tr>\n",
       "      <th>4</th>\n",
       "      <td>0000879b-5642-476a-b307-da1736aa0e23</td>\n",
       "      <td>62725745-7a89-46c7-a07d-4b745daffd69</td>\n",
       "      <td>IE</td>\n",
       "      <td>1</td>\n",
       "      <td>0</td>\n",
       "      <td>0</td>\n",
       "      <td>0</td>\n",
       "      <td>1</td>\n",
       "      <td>1</td>\n",
       "      <td>1</td>\n",
       "      <td>...</td>\n",
       "      <td>1</td>\n",
       "      <td>0</td>\n",
       "      <td>2</td>\n",
       "      <td>0</td>\n",
       "      <td>0</td>\n",
       "      <td>0</td>\n",
       "      <td>0</td>\n",
       "      <td>0</td>\n",
       "      <td>0</td>\n",
       "      <td>0</td>\n",
       "    </tr>\n",
       "  </tbody>\n",
       "</table>\n",
       "<p>5 rows × 35 columns</p>\n",
       "</div>"
      ],
      "text/plain": [
       "                                visitor                               session  \\\n",
       "0  00006362-4996-4898-9aae-21317547d39e  8196a21e-e172-414a-bebe-231bfd8019ab   \n",
       "1  00006362-4996-4898-9aae-21317547d39e  93660917-7a56-42f8-a59e-d06af115daad   \n",
       "2  00006362-4996-4898-9aae-21317547d39e  8bf4bde4-6bf3-4fb8-ae03-0e52a9c41238   \n",
       "3  0000879b-5642-476a-b307-da1736aa0e23  61398de4-3c0b-4630-b7e8-09610d19935b   \n",
       "4  0000879b-5642-476a-b307-da1736aa0e23  62725745-7a89-46c7-a07d-4b745daffd69   \n",
       "\n",
       "  browser  sessions_before  sessions_with_affil_before  \\\n",
       "0      IE                0                           0   \n",
       "1      IE                1                           0   \n",
       "2      IE                2                           0   \n",
       "3      IE                0                           0   \n",
       "4      IE                1                           0   \n",
       "\n",
       "   affil_after_p1_prev_session  sessions_before_with_checkout  \\\n",
       "0                            0                              0   \n",
       "1                            0                              0   \n",
       "2                            0                              0   \n",
       "3                            0                              0   \n",
       "4                            0                              0   \n",
       "\n",
       "   sessions_before_with_cart  sessions_before_with_product  daily_sessions  \\\n",
       "0                          0                             0               0   \n",
       "1                          0                             1               0   \n",
       "2                          0                             1               1   \n",
       "3                          0                             0               0   \n",
       "4                          1                             1               1   \n",
       "\n",
       "      ...      entry_home  entry_product  page_depth  first_page_affil  \\\n",
       "0     ...               1              0          14                 0   \n",
       "1     ...               1              0           1                 0   \n",
       "2     ...               1              0           1                 0   \n",
       "3     ...               1              0          34                 0   \n",
       "4     ...               1              0           2                 0   \n",
       "\n",
       "   coupon_run_on_checkout  coupon_run_on_cart  coupon_run_on_product  \\\n",
       "0                       0                   0                      0   \n",
       "1                       0                   0                      0   \n",
       "2                       0                   0                      0   \n",
       "3                       0                   0                      0   \n",
       "4                       0                   0                      0   \n",
       "\n",
       "   products_viewed  mal_cb  coupon_run  \n",
       "0                5       0           0  \n",
       "1                0       0           0  \n",
       "2                0       0           0  \n",
       "3                4       0           0  \n",
       "4                0       0           0  \n",
       "\n",
       "[5 rows x 35 columns]"
      ]
     },
     "execution_count": 3,
     "metadata": {},
     "output_type": "execute_result"
    }
   ],
   "source": [
    "raw_data.head()"
   ]
  },
  {
   "cell_type": "code",
   "execution_count": 4,
   "metadata": {},
   "outputs": [],
   "source": [
    "#raw_data.to_csv('./data.csv')"
   ]
  },
  {
   "cell_type": "code",
   "execution_count": null,
   "metadata": {},
   "outputs": [],
   "source": []
  },
  {
   "cell_type": "code",
   "execution_count": null,
   "metadata": {},
   "outputs": [],
   "source": []
  },
  {
   "cell_type": "code",
   "execution_count": 5,
   "metadata": {},
   "outputs": [],
   "source": [
    "def coupon_run(x):\n",
    "    x1 = bool(x)"
   ]
  },
  {
   "cell_type": "code",
   "execution_count": null,
   "metadata": {},
   "outputs": [],
   "source": []
  },
  {
   "cell_type": "code",
   "execution_count": null,
   "metadata": {},
   "outputs": [],
   "source": []
  },
  {
   "cell_type": "code",
   "execution_count": 6,
   "metadata": {},
   "outputs": [],
   "source": [
    "def coupon_run(x,y,z):\n",
    "    print(type(x))\n",
    "    print(type(x==1))"
   ]
  },
  {
   "cell_type": "code",
   "execution_count": 7,
   "metadata": {},
   "outputs": [],
   "source": [
    "tst_idx = raw_data[(raw_data['coupon_run_on_cart']==1)|(raw_data['coupon_run_on_checkout']==1)|(raw_data['coupon_run_on_product']==1)]"
   ]
  },
  {
   "cell_type": "code",
   "execution_count": 8,
   "metadata": {},
   "outputs": [
    {
     "data": {
      "text/plain": [
       "2           6245\n",
       "5            826\n",
       "3            702\n",
       "Edge         518\n",
       "IE           327\n",
       "7              4\n",
       "Vivaldi        1\n",
       "Chromium       1\n",
       "Name: browser, dtype: int64"
      ]
     },
     "execution_count": 8,
     "metadata": {},
     "output_type": "execute_result"
    }
   ],
   "source": [
    "tst_idx['browser'].value_counts()"
   ]
  },
  {
   "cell_type": "code",
   "execution_count": 9,
   "metadata": {},
   "outputs": [
    {
     "data": {
      "text/plain": [
       "775198"
      ]
     },
     "execution_count": 9,
     "metadata": {},
     "output_type": "execute_result"
    }
   ],
   "source": [
    "len(raw_data)"
   ]
  },
  {
   "cell_type": "code",
   "execution_count": 10,
   "metadata": {},
   "outputs": [],
   "source": [
    "test_df = []"
   ]
  },
  {
   "cell_type": "code",
   "execution_count": 11,
   "metadata": {},
   "outputs": [],
   "source": [
    "for i in range(len(raw_data)):\n",
    "    if(i in tst_idx.index):\n",
    "        test_df.append(1)\n",
    "    else:\n",
    "        test_df.append(0)"
   ]
  },
  {
   "cell_type": "code",
   "execution_count": 12,
   "metadata": {},
   "outputs": [],
   "source": [
    "test_df_arr = np.array(test_df)"
   ]
  },
  {
   "cell_type": "code",
   "execution_count": 13,
   "metadata": {},
   "outputs": [
    {
     "data": {
      "text/plain": [
       "(775198,)"
      ]
     },
     "execution_count": 13,
     "metadata": {},
     "output_type": "execute_result"
    }
   ],
   "source": [
    "test_df_arr.shape"
   ]
  },
  {
   "cell_type": "code",
   "execution_count": 14,
   "metadata": {},
   "outputs": [],
   "source": [
    "raw_data['coupon_run'] = test_df_arr"
   ]
  },
  {
   "cell_type": "code",
   "execution_count": 15,
   "metadata": {},
   "outputs": [
    {
     "data": {
      "text/plain": [
       "0    766574\n",
       "1      8624\n",
       "Name: coupon_run, dtype: int64"
      ]
     },
     "execution_count": 15,
     "metadata": {},
     "output_type": "execute_result"
    }
   ],
   "source": [
    "raw_data['coupon_run'].value_counts()"
   ]
  },
  {
   "cell_type": "code",
   "execution_count": 16,
   "metadata": {},
   "outputs": [],
   "source": [
    "pd.options.display.max_columns = 1000"
   ]
  },
  {
   "cell_type": "code",
   "execution_count": 17,
   "metadata": {},
   "outputs": [
    {
     "data": {
      "text/html": [
       "<div>\n",
       "<style scoped>\n",
       "    .dataframe tbody tr th:only-of-type {\n",
       "        vertical-align: middle;\n",
       "    }\n",
       "\n",
       "    .dataframe tbody tr th {\n",
       "        vertical-align: top;\n",
       "    }\n",
       "\n",
       "    .dataframe thead th {\n",
       "        text-align: right;\n",
       "    }\n",
       "</style>\n",
       "<table border=\"1\" class=\"dataframe\">\n",
       "  <thead>\n",
       "    <tr style=\"text-align: right;\">\n",
       "      <th></th>\n",
       "      <th>sessions_before</th>\n",
       "      <th>sessions_with_affil_before</th>\n",
       "      <th>affil_after_p1_prev_session</th>\n",
       "      <th>sessions_before_with_checkout</th>\n",
       "      <th>sessions_before_with_cart</th>\n",
       "      <th>sessions_before_with_product</th>\n",
       "      <th>daily_sessions</th>\n",
       "      <th>trialy_sessions</th>\n",
       "      <th>quintally_sessions</th>\n",
       "      <th>tenally_sessions</th>\n",
       "      <th>coupon_run_prev_ses_checkout_session</th>\n",
       "      <th>coupon_run_prev_ses_cart_session</th>\n",
       "      <th>coupon_run_prev_ses_product_session</th>\n",
       "      <th>time_spent</th>\n",
       "      <th>day_between_previous_session</th>\n",
       "      <th>daily_visitor</th>\n",
       "      <th>trialy_visitor</th>\n",
       "      <th>quintally_visitor</th>\n",
       "      <th>tenally_visitor</th>\n",
       "      <th>previous_session_cart</th>\n",
       "      <th>previous_session_checkout</th>\n",
       "      <th>previous_session_product</th>\n",
       "      <th>entry_home</th>\n",
       "      <th>entry_product</th>\n",
       "      <th>page_depth</th>\n",
       "      <th>first_page_affil</th>\n",
       "      <th>coupon_run_on_checkout</th>\n",
       "      <th>coupon_run_on_cart</th>\n",
       "      <th>coupon_run_on_product</th>\n",
       "      <th>products_viewed</th>\n",
       "      <th>mal_cb</th>\n",
       "      <th>coupon_run</th>\n",
       "    </tr>\n",
       "  </thead>\n",
       "  <tbody>\n",
       "    <tr>\n",
       "      <th>count</th>\n",
       "      <td>8624.000000</td>\n",
       "      <td>8624.000000</td>\n",
       "      <td>8624.000000</td>\n",
       "      <td>8624.000000</td>\n",
       "      <td>8624.000000</td>\n",
       "      <td>8624.000000</td>\n",
       "      <td>8624.000000</td>\n",
       "      <td>8624.000000</td>\n",
       "      <td>8624.000000</td>\n",
       "      <td>8624.000000</td>\n",
       "      <td>8624.000000</td>\n",
       "      <td>8624.000000</td>\n",
       "      <td>8624.000000</td>\n",
       "      <td>8.624000e+03</td>\n",
       "      <td>8624.000000</td>\n",
       "      <td>8624.000000</td>\n",
       "      <td>8624.000000</td>\n",
       "      <td>8624.000000</td>\n",
       "      <td>8624.000000</td>\n",
       "      <td>8624.000000</td>\n",
       "      <td>8624.000000</td>\n",
       "      <td>8624.000000</td>\n",
       "      <td>8624.000000</td>\n",
       "      <td>8624.000000</td>\n",
       "      <td>8624.000000</td>\n",
       "      <td>8624.000000</td>\n",
       "      <td>8624.000000</td>\n",
       "      <td>8624.000000</td>\n",
       "      <td>8624.000000</td>\n",
       "      <td>8624.000000</td>\n",
       "      <td>8624.000000</td>\n",
       "      <td>8624.0</td>\n",
       "    </tr>\n",
       "    <tr>\n",
       "      <th>mean</th>\n",
       "      <td>2.625000</td>\n",
       "      <td>0.827226</td>\n",
       "      <td>1.321197</td>\n",
       "      <td>0.169991</td>\n",
       "      <td>0.800325</td>\n",
       "      <td>1.711155</td>\n",
       "      <td>0.527713</td>\n",
       "      <td>0.439471</td>\n",
       "      <td>0.306238</td>\n",
       "      <td>0.609810</td>\n",
       "      <td>0.008581</td>\n",
       "      <td>0.143785</td>\n",
       "      <td>0.164889</td>\n",
       "      <td>8.719834e+05</td>\n",
       "      <td>1.774003</td>\n",
       "      <td>0.357375</td>\n",
       "      <td>0.152597</td>\n",
       "      <td>0.065051</td>\n",
       "      <td>0.079661</td>\n",
       "      <td>0.214634</td>\n",
       "      <td>0.040816</td>\n",
       "      <td>0.483186</td>\n",
       "      <td>0.390770</td>\n",
       "      <td>0.249536</td>\n",
       "      <td>23.048237</td>\n",
       "      <td>0.122565</td>\n",
       "      <td>0.064355</td>\n",
       "      <td>0.455705</td>\n",
       "      <td>0.520524</td>\n",
       "      <td>4.520292</td>\n",
       "      <td>0.085111</td>\n",
       "      <td>1.0</td>\n",
       "    </tr>\n",
       "    <tr>\n",
       "      <th>std</th>\n",
       "      <td>4.400316</td>\n",
       "      <td>1.881524</td>\n",
       "      <td>3.990745</td>\n",
       "      <td>0.591877</td>\n",
       "      <td>1.798441</td>\n",
       "      <td>2.809039</td>\n",
       "      <td>0.929460</td>\n",
       "      <td>1.069888</td>\n",
       "      <td>0.983113</td>\n",
       "      <td>1.769312</td>\n",
       "      <td>0.093488</td>\n",
       "      <td>0.547808</td>\n",
       "      <td>0.525752</td>\n",
       "      <td>1.117128e+07</td>\n",
       "      <td>3.828949</td>\n",
       "      <td>0.479254</td>\n",
       "      <td>0.359620</td>\n",
       "      <td>0.246630</td>\n",
       "      <td>0.270784</td>\n",
       "      <td>0.410592</td>\n",
       "      <td>0.197876</td>\n",
       "      <td>0.499746</td>\n",
       "      <td>0.490322</td>\n",
       "      <td>0.432770</td>\n",
       "      <td>21.273613</td>\n",
       "      <td>0.327956</td>\n",
       "      <td>0.245399</td>\n",
       "      <td>0.498063</td>\n",
       "      <td>0.499608</td>\n",
       "      <td>5.976998</td>\n",
       "      <td>0.279063</td>\n",
       "      <td>0.0</td>\n",
       "    </tr>\n",
       "    <tr>\n",
       "      <th>min</th>\n",
       "      <td>0.000000</td>\n",
       "      <td>0.000000</td>\n",
       "      <td>0.000000</td>\n",
       "      <td>0.000000</td>\n",
       "      <td>0.000000</td>\n",
       "      <td>0.000000</td>\n",
       "      <td>0.000000</td>\n",
       "      <td>0.000000</td>\n",
       "      <td>0.000000</td>\n",
       "      <td>0.000000</td>\n",
       "      <td>0.000000</td>\n",
       "      <td>0.000000</td>\n",
       "      <td>0.000000</td>\n",
       "      <td>8.220000e+00</td>\n",
       "      <td>0.000000</td>\n",
       "      <td>0.000000</td>\n",
       "      <td>0.000000</td>\n",
       "      <td>0.000000</td>\n",
       "      <td>0.000000</td>\n",
       "      <td>0.000000</td>\n",
       "      <td>0.000000</td>\n",
       "      <td>0.000000</td>\n",
       "      <td>0.000000</td>\n",
       "      <td>0.000000</td>\n",
       "      <td>2.000000</td>\n",
       "      <td>0.000000</td>\n",
       "      <td>0.000000</td>\n",
       "      <td>0.000000</td>\n",
       "      <td>0.000000</td>\n",
       "      <td>0.000000</td>\n",
       "      <td>0.000000</td>\n",
       "      <td>1.0</td>\n",
       "    </tr>\n",
       "    <tr>\n",
       "      <th>25%</th>\n",
       "      <td>0.000000</td>\n",
       "      <td>0.000000</td>\n",
       "      <td>0.000000</td>\n",
       "      <td>0.000000</td>\n",
       "      <td>0.000000</td>\n",
       "      <td>0.000000</td>\n",
       "      <td>0.000000</td>\n",
       "      <td>0.000000</td>\n",
       "      <td>0.000000</td>\n",
       "      <td>0.000000</td>\n",
       "      <td>0.000000</td>\n",
       "      <td>0.000000</td>\n",
       "      <td>0.000000</td>\n",
       "      <td>1.827496e+04</td>\n",
       "      <td>0.000000</td>\n",
       "      <td>0.000000</td>\n",
       "      <td>0.000000</td>\n",
       "      <td>0.000000</td>\n",
       "      <td>0.000000</td>\n",
       "      <td>0.000000</td>\n",
       "      <td>0.000000</td>\n",
       "      <td>0.000000</td>\n",
       "      <td>0.000000</td>\n",
       "      <td>0.000000</td>\n",
       "      <td>9.000000</td>\n",
       "      <td>0.000000</td>\n",
       "      <td>0.000000</td>\n",
       "      <td>0.000000</td>\n",
       "      <td>0.000000</td>\n",
       "      <td>1.000000</td>\n",
       "      <td>0.000000</td>\n",
       "      <td>1.0</td>\n",
       "    </tr>\n",
       "    <tr>\n",
       "      <th>50%</th>\n",
       "      <td>1.000000</td>\n",
       "      <td>0.000000</td>\n",
       "      <td>0.000000</td>\n",
       "      <td>0.000000</td>\n",
       "      <td>0.000000</td>\n",
       "      <td>1.000000</td>\n",
       "      <td>0.000000</td>\n",
       "      <td>0.000000</td>\n",
       "      <td>0.000000</td>\n",
       "      <td>0.000000</td>\n",
       "      <td>0.000000</td>\n",
       "      <td>0.000000</td>\n",
       "      <td>0.000000</td>\n",
       "      <td>3.534490e+04</td>\n",
       "      <td>0.000000</td>\n",
       "      <td>0.000000</td>\n",
       "      <td>0.000000</td>\n",
       "      <td>0.000000</td>\n",
       "      <td>0.000000</td>\n",
       "      <td>0.000000</td>\n",
       "      <td>0.000000</td>\n",
       "      <td>0.000000</td>\n",
       "      <td>0.000000</td>\n",
       "      <td>0.000000</td>\n",
       "      <td>17.000000</td>\n",
       "      <td>0.000000</td>\n",
       "      <td>0.000000</td>\n",
       "      <td>0.000000</td>\n",
       "      <td>1.000000</td>\n",
       "      <td>3.000000</td>\n",
       "      <td>0.000000</td>\n",
       "      <td>1.0</td>\n",
       "    </tr>\n",
       "    <tr>\n",
       "      <th>75%</th>\n",
       "      <td>3.000000</td>\n",
       "      <td>1.000000</td>\n",
       "      <td>1.000000</td>\n",
       "      <td>0.000000</td>\n",
       "      <td>1.000000</td>\n",
       "      <td>2.000000</td>\n",
       "      <td>1.000000</td>\n",
       "      <td>1.000000</td>\n",
       "      <td>0.000000</td>\n",
       "      <td>1.000000</td>\n",
       "      <td>0.000000</td>\n",
       "      <td>0.000000</td>\n",
       "      <td>0.000000</td>\n",
       "      <td>7.070520e+04</td>\n",
       "      <td>2.000000</td>\n",
       "      <td>1.000000</td>\n",
       "      <td>0.000000</td>\n",
       "      <td>0.000000</td>\n",
       "      <td>0.000000</td>\n",
       "      <td>0.000000</td>\n",
       "      <td>0.000000</td>\n",
       "      <td>1.000000</td>\n",
       "      <td>1.000000</td>\n",
       "      <td>0.000000</td>\n",
       "      <td>29.000000</td>\n",
       "      <td>0.000000</td>\n",
       "      <td>0.000000</td>\n",
       "      <td>1.000000</td>\n",
       "      <td>1.000000</td>\n",
       "      <td>6.000000</td>\n",
       "      <td>0.000000</td>\n",
       "      <td>1.0</td>\n",
       "    </tr>\n",
       "    <tr>\n",
       "      <th>max</th>\n",
       "      <td>82.000000</td>\n",
       "      <td>64.000000</td>\n",
       "      <td>94.000000</td>\n",
       "      <td>10.000000</td>\n",
       "      <td>31.000000</td>\n",
       "      <td>35.000000</td>\n",
       "      <td>15.000000</td>\n",
       "      <td>24.000000</td>\n",
       "      <td>53.000000</td>\n",
       "      <td>58.000000</td>\n",
       "      <td>2.000000</td>\n",
       "      <td>11.000000</td>\n",
       "      <td>6.000000</td>\n",
       "      <td>6.648551e+08</td>\n",
       "      <td>29.000000</td>\n",
       "      <td>1.000000</td>\n",
       "      <td>1.000000</td>\n",
       "      <td>1.000000</td>\n",
       "      <td>1.000000</td>\n",
       "      <td>1.000000</td>\n",
       "      <td>1.000000</td>\n",
       "      <td>1.000000</td>\n",
       "      <td>2.000000</td>\n",
       "      <td>1.000000</td>\n",
       "      <td>238.000000</td>\n",
       "      <td>1.000000</td>\n",
       "      <td>1.000000</td>\n",
       "      <td>1.000000</td>\n",
       "      <td>1.000000</td>\n",
       "      <td>131.000000</td>\n",
       "      <td>1.000000</td>\n",
       "      <td>1.0</td>\n",
       "    </tr>\n",
       "  </tbody>\n",
       "</table>\n",
       "</div>"
      ],
      "text/plain": [
       "       sessions_before  sessions_with_affil_before  \\\n",
       "count      8624.000000                 8624.000000   \n",
       "mean          2.625000                    0.827226   \n",
       "std           4.400316                    1.881524   \n",
       "min           0.000000                    0.000000   \n",
       "25%           0.000000                    0.000000   \n",
       "50%           1.000000                    0.000000   \n",
       "75%           3.000000                    1.000000   \n",
       "max          82.000000                   64.000000   \n",
       "\n",
       "       affil_after_p1_prev_session  sessions_before_with_checkout  \\\n",
       "count                  8624.000000                    8624.000000   \n",
       "mean                      1.321197                       0.169991   \n",
       "std                       3.990745                       0.591877   \n",
       "min                       0.000000                       0.000000   \n",
       "25%                       0.000000                       0.000000   \n",
       "50%                       0.000000                       0.000000   \n",
       "75%                       1.000000                       0.000000   \n",
       "max                      94.000000                      10.000000   \n",
       "\n",
       "       sessions_before_with_cart  sessions_before_with_product  \\\n",
       "count                8624.000000                   8624.000000   \n",
       "mean                    0.800325                      1.711155   \n",
       "std                     1.798441                      2.809039   \n",
       "min                     0.000000                      0.000000   \n",
       "25%                     0.000000                      0.000000   \n",
       "50%                     0.000000                      1.000000   \n",
       "75%                     1.000000                      2.000000   \n",
       "max                    31.000000                     35.000000   \n",
       "\n",
       "       daily_sessions  trialy_sessions  quintally_sessions  tenally_sessions  \\\n",
       "count     8624.000000      8624.000000         8624.000000       8624.000000   \n",
       "mean         0.527713         0.439471            0.306238          0.609810   \n",
       "std          0.929460         1.069888            0.983113          1.769312   \n",
       "min          0.000000         0.000000            0.000000          0.000000   \n",
       "25%          0.000000         0.000000            0.000000          0.000000   \n",
       "50%          0.000000         0.000000            0.000000          0.000000   \n",
       "75%          1.000000         1.000000            0.000000          1.000000   \n",
       "max         15.000000        24.000000           53.000000         58.000000   \n",
       "\n",
       "       coupon_run_prev_ses_checkout_session  coupon_run_prev_ses_cart_session  \\\n",
       "count                           8624.000000                       8624.000000   \n",
       "mean                               0.008581                          0.143785   \n",
       "std                                0.093488                          0.547808   \n",
       "min                                0.000000                          0.000000   \n",
       "25%                                0.000000                          0.000000   \n",
       "50%                                0.000000                          0.000000   \n",
       "75%                                0.000000                          0.000000   \n",
       "max                                2.000000                         11.000000   \n",
       "\n",
       "       coupon_run_prev_ses_product_session    time_spent  \\\n",
       "count                          8624.000000  8.624000e+03   \n",
       "mean                              0.164889  8.719834e+05   \n",
       "std                               0.525752  1.117128e+07   \n",
       "min                               0.000000  8.220000e+00   \n",
       "25%                               0.000000  1.827496e+04   \n",
       "50%                               0.000000  3.534490e+04   \n",
       "75%                               0.000000  7.070520e+04   \n",
       "max                               6.000000  6.648551e+08   \n",
       "\n",
       "       day_between_previous_session  daily_visitor  trialy_visitor  \\\n",
       "count                   8624.000000    8624.000000     8624.000000   \n",
       "mean                       1.774003       0.357375        0.152597   \n",
       "std                        3.828949       0.479254        0.359620   \n",
       "min                        0.000000       0.000000        0.000000   \n",
       "25%                        0.000000       0.000000        0.000000   \n",
       "50%                        0.000000       0.000000        0.000000   \n",
       "75%                        2.000000       1.000000        0.000000   \n",
       "max                       29.000000       1.000000        1.000000   \n",
       "\n",
       "       quintally_visitor  tenally_visitor  previous_session_cart  \\\n",
       "count        8624.000000      8624.000000            8624.000000   \n",
       "mean            0.065051         0.079661               0.214634   \n",
       "std             0.246630         0.270784               0.410592   \n",
       "min             0.000000         0.000000               0.000000   \n",
       "25%             0.000000         0.000000               0.000000   \n",
       "50%             0.000000         0.000000               0.000000   \n",
       "75%             0.000000         0.000000               0.000000   \n",
       "max             1.000000         1.000000               1.000000   \n",
       "\n",
       "       previous_session_checkout  previous_session_product   entry_home  \\\n",
       "count                8624.000000               8624.000000  8624.000000   \n",
       "mean                    0.040816                  0.483186     0.390770   \n",
       "std                     0.197876                  0.499746     0.490322   \n",
       "min                     0.000000                  0.000000     0.000000   \n",
       "25%                     0.000000                  0.000000     0.000000   \n",
       "50%                     0.000000                  0.000000     0.000000   \n",
       "75%                     0.000000                  1.000000     1.000000   \n",
       "max                     1.000000                  1.000000     2.000000   \n",
       "\n",
       "       entry_product   page_depth  first_page_affil  coupon_run_on_checkout  \\\n",
       "count    8624.000000  8624.000000       8624.000000             8624.000000   \n",
       "mean        0.249536    23.048237          0.122565                0.064355   \n",
       "std         0.432770    21.273613          0.327956                0.245399   \n",
       "min         0.000000     2.000000          0.000000                0.000000   \n",
       "25%         0.000000     9.000000          0.000000                0.000000   \n",
       "50%         0.000000    17.000000          0.000000                0.000000   \n",
       "75%         0.000000    29.000000          0.000000                0.000000   \n",
       "max         1.000000   238.000000          1.000000                1.000000   \n",
       "\n",
       "       coupon_run_on_cart  coupon_run_on_product  products_viewed  \\\n",
       "count         8624.000000            8624.000000      8624.000000   \n",
       "mean             0.455705               0.520524         4.520292   \n",
       "std              0.498063               0.499608         5.976998   \n",
       "min              0.000000               0.000000         0.000000   \n",
       "25%              0.000000               0.000000         1.000000   \n",
       "50%              0.000000               1.000000         3.000000   \n",
       "75%              1.000000               1.000000         6.000000   \n",
       "max              1.000000               1.000000       131.000000   \n",
       "\n",
       "            mal_cb  coupon_run  \n",
       "count  8624.000000      8624.0  \n",
       "mean      0.085111         1.0  \n",
       "std       0.279063         0.0  \n",
       "min       0.000000         1.0  \n",
       "25%       0.000000         1.0  \n",
       "50%       0.000000         1.0  \n",
       "75%       0.000000         1.0  \n",
       "max       1.000000         1.0  "
      ]
     },
     "execution_count": 17,
     "metadata": {},
     "output_type": "execute_result"
    }
   ],
   "source": [
    "# anlysis on raw data\n",
    "raw_data[raw_data['coupon_run']==1].describe()\n"
   ]
  },
  {
   "cell_type": "code",
   "execution_count": 18,
   "metadata": {},
   "outputs": [
    {
     "data": {
      "text/html": [
       "<div>\n",
       "<style scoped>\n",
       "    .dataframe tbody tr th:only-of-type {\n",
       "        vertical-align: middle;\n",
       "    }\n",
       "\n",
       "    .dataframe tbody tr th {\n",
       "        vertical-align: top;\n",
       "    }\n",
       "\n",
       "    .dataframe thead th {\n",
       "        text-align: right;\n",
       "    }\n",
       "</style>\n",
       "<table border=\"1\" class=\"dataframe\">\n",
       "  <thead>\n",
       "    <tr style=\"text-align: right;\">\n",
       "      <th></th>\n",
       "      <th>sessions_before</th>\n",
       "      <th>sessions_with_affil_before</th>\n",
       "      <th>affil_after_p1_prev_session</th>\n",
       "      <th>sessions_before_with_checkout</th>\n",
       "      <th>sessions_before_with_cart</th>\n",
       "      <th>sessions_before_with_product</th>\n",
       "      <th>daily_sessions</th>\n",
       "      <th>trialy_sessions</th>\n",
       "      <th>quintally_sessions</th>\n",
       "      <th>tenally_sessions</th>\n",
       "      <th>coupon_run_prev_ses_checkout_session</th>\n",
       "      <th>coupon_run_prev_ses_cart_session</th>\n",
       "      <th>coupon_run_prev_ses_product_session</th>\n",
       "      <th>time_spent</th>\n",
       "      <th>day_between_previous_session</th>\n",
       "      <th>daily_visitor</th>\n",
       "      <th>trialy_visitor</th>\n",
       "      <th>quintally_visitor</th>\n",
       "      <th>tenally_visitor</th>\n",
       "      <th>previous_session_cart</th>\n",
       "      <th>previous_session_checkout</th>\n",
       "      <th>previous_session_product</th>\n",
       "      <th>entry_home</th>\n",
       "      <th>entry_product</th>\n",
       "      <th>page_depth</th>\n",
       "      <th>first_page_affil</th>\n",
       "      <th>coupon_run_on_checkout</th>\n",
       "      <th>coupon_run_on_cart</th>\n",
       "      <th>coupon_run_on_product</th>\n",
       "      <th>products_viewed</th>\n",
       "      <th>mal_cb</th>\n",
       "      <th>coupon_run</th>\n",
       "    </tr>\n",
       "  </thead>\n",
       "  <tbody>\n",
       "    <tr>\n",
       "      <th>count</th>\n",
       "      <td>766574.000000</td>\n",
       "      <td>766574.000000</td>\n",
       "      <td>766574.000000</td>\n",
       "      <td>766574.000000</td>\n",
       "      <td>766574.000000</td>\n",
       "      <td>766574.000000</td>\n",
       "      <td>766574.000000</td>\n",
       "      <td>766574.000000</td>\n",
       "      <td>766574.000000</td>\n",
       "      <td>766574.000000</td>\n",
       "      <td>766574.000000</td>\n",
       "      <td>766574.000000</td>\n",
       "      <td>766574.000000</td>\n",
       "      <td>7.665740e+05</td>\n",
       "      <td>766574.000000</td>\n",
       "      <td>766574.000000</td>\n",
       "      <td>766574.000000</td>\n",
       "      <td>766574.000000</td>\n",
       "      <td>766574.000000</td>\n",
       "      <td>766574.000000</td>\n",
       "      <td>766574.000000</td>\n",
       "      <td>766574.000000</td>\n",
       "      <td>766574.000000</td>\n",
       "      <td>766574.000000</td>\n",
       "      <td>766574.000000</td>\n",
       "      <td>766574.000000</td>\n",
       "      <td>766574.0</td>\n",
       "      <td>766574.0</td>\n",
       "      <td>766574.0</td>\n",
       "      <td>766574.000000</td>\n",
       "      <td>766574.000000</td>\n",
       "      <td>766574.0</td>\n",
       "    </tr>\n",
       "    <tr>\n",
       "      <th>mean</th>\n",
       "      <td>3.335405</td>\n",
       "      <td>0.108277</td>\n",
       "      <td>0.149303</td>\n",
       "      <td>0.150522</td>\n",
       "      <td>0.571230</td>\n",
       "      <td>1.951174</td>\n",
       "      <td>0.616539</td>\n",
       "      <td>0.592003</td>\n",
       "      <td>0.384331</td>\n",
       "      <td>0.774454</td>\n",
       "      <td>0.001818</td>\n",
       "      <td>0.015278</td>\n",
       "      <td>0.014938</td>\n",
       "      <td>2.640935e+06</td>\n",
       "      <td>2.061759</td>\n",
       "      <td>0.345136</td>\n",
       "      <td>0.157099</td>\n",
       "      <td>0.069411</td>\n",
       "      <td>0.096734</td>\n",
       "      <td>0.124655</td>\n",
       "      <td>0.033750</td>\n",
       "      <td>0.456744</td>\n",
       "      <td>0.402159</td>\n",
       "      <td>0.169155</td>\n",
       "      <td>8.251514</td>\n",
       "      <td>0.012039</td>\n",
       "      <td>0.0</td>\n",
       "      <td>0.0</td>\n",
       "      <td>0.0</td>\n",
       "      <td>1.869135</td>\n",
       "      <td>0.035747</td>\n",
       "      <td>0.0</td>\n",
       "    </tr>\n",
       "    <tr>\n",
       "      <th>std</th>\n",
       "      <td>8.495479</td>\n",
       "      <td>0.731061</td>\n",
       "      <td>1.154949</td>\n",
       "      <td>0.995264</td>\n",
       "      <td>1.881794</td>\n",
       "      <td>5.239577</td>\n",
       "      <td>2.030250</td>\n",
       "      <td>2.732810</td>\n",
       "      <td>1.743419</td>\n",
       "      <td>2.245324</td>\n",
       "      <td>0.043273</td>\n",
       "      <td>0.166194</td>\n",
       "      <td>0.153295</td>\n",
       "      <td>8.056131e+07</td>\n",
       "      <td>4.142459</td>\n",
       "      <td>0.475413</td>\n",
       "      <td>0.363894</td>\n",
       "      <td>0.254153</td>\n",
       "      <td>0.295596</td>\n",
       "      <td>0.330327</td>\n",
       "      <td>0.180586</td>\n",
       "      <td>0.498126</td>\n",
       "      <td>0.491978</td>\n",
       "      <td>0.374889</td>\n",
       "      <td>13.348851</td>\n",
       "      <td>0.109061</td>\n",
       "      <td>0.0</td>\n",
       "      <td>0.0</td>\n",
       "      <td>0.0</td>\n",
       "      <td>7.787498</td>\n",
       "      <td>0.185660</td>\n",
       "      <td>0.0</td>\n",
       "    </tr>\n",
       "    <tr>\n",
       "      <th>min</th>\n",
       "      <td>0.000000</td>\n",
       "      <td>0.000000</td>\n",
       "      <td>0.000000</td>\n",
       "      <td>0.000000</td>\n",
       "      <td>0.000000</td>\n",
       "      <td>0.000000</td>\n",
       "      <td>0.000000</td>\n",
       "      <td>0.000000</td>\n",
       "      <td>0.000000</td>\n",
       "      <td>0.000000</td>\n",
       "      <td>0.000000</td>\n",
       "      <td>0.000000</td>\n",
       "      <td>0.000000</td>\n",
       "      <td>6.000000e+00</td>\n",
       "      <td>0.000000</td>\n",
       "      <td>0.000000</td>\n",
       "      <td>0.000000</td>\n",
       "      <td>0.000000</td>\n",
       "      <td>0.000000</td>\n",
       "      <td>0.000000</td>\n",
       "      <td>0.000000</td>\n",
       "      <td>0.000000</td>\n",
       "      <td>0.000000</td>\n",
       "      <td>0.000000</td>\n",
       "      <td>1.000000</td>\n",
       "      <td>0.000000</td>\n",
       "      <td>0.0</td>\n",
       "      <td>0.0</td>\n",
       "      <td>0.0</td>\n",
       "      <td>0.000000</td>\n",
       "      <td>0.000000</td>\n",
       "      <td>0.0</td>\n",
       "    </tr>\n",
       "    <tr>\n",
       "      <th>25%</th>\n",
       "      <td>0.000000</td>\n",
       "      <td>0.000000</td>\n",
       "      <td>0.000000</td>\n",
       "      <td>0.000000</td>\n",
       "      <td>0.000000</td>\n",
       "      <td>0.000000</td>\n",
       "      <td>0.000000</td>\n",
       "      <td>0.000000</td>\n",
       "      <td>0.000000</td>\n",
       "      <td>0.000000</td>\n",
       "      <td>0.000000</td>\n",
       "      <td>0.000000</td>\n",
       "      <td>0.000000</td>\n",
       "      <td>1.347605e+04</td>\n",
       "      <td>0.000000</td>\n",
       "      <td>0.000000</td>\n",
       "      <td>0.000000</td>\n",
       "      <td>0.000000</td>\n",
       "      <td>0.000000</td>\n",
       "      <td>0.000000</td>\n",
       "      <td>0.000000</td>\n",
       "      <td>0.000000</td>\n",
       "      <td>0.000000</td>\n",
       "      <td>0.000000</td>\n",
       "      <td>2.000000</td>\n",
       "      <td>0.000000</td>\n",
       "      <td>0.0</td>\n",
       "      <td>0.0</td>\n",
       "      <td>0.0</td>\n",
       "      <td>0.000000</td>\n",
       "      <td>0.000000</td>\n",
       "      <td>0.0</td>\n",
       "    </tr>\n",
       "    <tr>\n",
       "      <th>50%</th>\n",
       "      <td>1.000000</td>\n",
       "      <td>0.000000</td>\n",
       "      <td>0.000000</td>\n",
       "      <td>0.000000</td>\n",
       "      <td>0.000000</td>\n",
       "      <td>1.000000</td>\n",
       "      <td>0.000000</td>\n",
       "      <td>0.000000</td>\n",
       "      <td>0.000000</td>\n",
       "      <td>0.000000</td>\n",
       "      <td>0.000000</td>\n",
       "      <td>0.000000</td>\n",
       "      <td>0.000000</td>\n",
       "      <td>3.181565e+04</td>\n",
       "      <td>0.000000</td>\n",
       "      <td>0.000000</td>\n",
       "      <td>0.000000</td>\n",
       "      <td>0.000000</td>\n",
       "      <td>0.000000</td>\n",
       "      <td>0.000000</td>\n",
       "      <td>0.000000</td>\n",
       "      <td>0.000000</td>\n",
       "      <td>0.000000</td>\n",
       "      <td>0.000000</td>\n",
       "      <td>4.000000</td>\n",
       "      <td>0.000000</td>\n",
       "      <td>0.0</td>\n",
       "      <td>0.0</td>\n",
       "      <td>0.0</td>\n",
       "      <td>1.000000</td>\n",
       "      <td>0.000000</td>\n",
       "      <td>0.0</td>\n",
       "    </tr>\n",
       "    <tr>\n",
       "      <th>75%</th>\n",
       "      <td>3.000000</td>\n",
       "      <td>0.000000</td>\n",
       "      <td>0.000000</td>\n",
       "      <td>0.000000</td>\n",
       "      <td>0.000000</td>\n",
       "      <td>2.000000</td>\n",
       "      <td>1.000000</td>\n",
       "      <td>1.000000</td>\n",
       "      <td>0.000000</td>\n",
       "      <td>1.000000</td>\n",
       "      <td>0.000000</td>\n",
       "      <td>0.000000</td>\n",
       "      <td>0.000000</td>\n",
       "      <td>6.802645e+04</td>\n",
       "      <td>2.000000</td>\n",
       "      <td>1.000000</td>\n",
       "      <td>0.000000</td>\n",
       "      <td>0.000000</td>\n",
       "      <td>0.000000</td>\n",
       "      <td>0.000000</td>\n",
       "      <td>0.000000</td>\n",
       "      <td>1.000000</td>\n",
       "      <td>1.000000</td>\n",
       "      <td>0.000000</td>\n",
       "      <td>10.000000</td>\n",
       "      <td>0.000000</td>\n",
       "      <td>0.0</td>\n",
       "      <td>0.0</td>\n",
       "      <td>0.0</td>\n",
       "      <td>2.000000</td>\n",
       "      <td>0.000000</td>\n",
       "      <td>0.0</td>\n",
       "    </tr>\n",
       "    <tr>\n",
       "      <th>max</th>\n",
       "      <td>292.000000</td>\n",
       "      <td>65.000000</td>\n",
       "      <td>117.000000</td>\n",
       "      <td>64.000000</td>\n",
       "      <td>81.000000</td>\n",
       "      <td>244.000000</td>\n",
       "      <td>47.000000</td>\n",
       "      <td>95.000000</td>\n",
       "      <td>95.000000</td>\n",
       "      <td>64.000000</td>\n",
       "      <td>2.000000</td>\n",
       "      <td>9.000000</td>\n",
       "      <td>7.000000</td>\n",
       "      <td>6.084348e+10</td>\n",
       "      <td>29.000000</td>\n",
       "      <td>1.000000</td>\n",
       "      <td>1.000000</td>\n",
       "      <td>1.000000</td>\n",
       "      <td>1.000000</td>\n",
       "      <td>1.000000</td>\n",
       "      <td>1.000000</td>\n",
       "      <td>1.000000</td>\n",
       "      <td>5.000000</td>\n",
       "      <td>1.000000</td>\n",
       "      <td>2303.000000</td>\n",
       "      <td>1.000000</td>\n",
       "      <td>0.0</td>\n",
       "      <td>0.0</td>\n",
       "      <td>0.0</td>\n",
       "      <td>2303.000000</td>\n",
       "      <td>1.000000</td>\n",
       "      <td>0.0</td>\n",
       "    </tr>\n",
       "  </tbody>\n",
       "</table>\n",
       "</div>"
      ],
      "text/plain": [
       "       sessions_before  sessions_with_affil_before  \\\n",
       "count    766574.000000               766574.000000   \n",
       "mean          3.335405                    0.108277   \n",
       "std           8.495479                    0.731061   \n",
       "min           0.000000                    0.000000   \n",
       "25%           0.000000                    0.000000   \n",
       "50%           1.000000                    0.000000   \n",
       "75%           3.000000                    0.000000   \n",
       "max         292.000000                   65.000000   \n",
       "\n",
       "       affil_after_p1_prev_session  sessions_before_with_checkout  \\\n",
       "count                766574.000000                  766574.000000   \n",
       "mean                      0.149303                       0.150522   \n",
       "std                       1.154949                       0.995264   \n",
       "min                       0.000000                       0.000000   \n",
       "25%                       0.000000                       0.000000   \n",
       "50%                       0.000000                       0.000000   \n",
       "75%                       0.000000                       0.000000   \n",
       "max                     117.000000                      64.000000   \n",
       "\n",
       "       sessions_before_with_cart  sessions_before_with_product  \\\n",
       "count              766574.000000                 766574.000000   \n",
       "mean                    0.571230                      1.951174   \n",
       "std                     1.881794                      5.239577   \n",
       "min                     0.000000                      0.000000   \n",
       "25%                     0.000000                      0.000000   \n",
       "50%                     0.000000                      1.000000   \n",
       "75%                     0.000000                      2.000000   \n",
       "max                    81.000000                    244.000000   \n",
       "\n",
       "       daily_sessions  trialy_sessions  quintally_sessions  tenally_sessions  \\\n",
       "count   766574.000000    766574.000000       766574.000000     766574.000000   \n",
       "mean         0.616539         0.592003            0.384331          0.774454   \n",
       "std          2.030250         2.732810            1.743419          2.245324   \n",
       "min          0.000000         0.000000            0.000000          0.000000   \n",
       "25%          0.000000         0.000000            0.000000          0.000000   \n",
       "50%          0.000000         0.000000            0.000000          0.000000   \n",
       "75%          1.000000         1.000000            0.000000          1.000000   \n",
       "max         47.000000        95.000000           95.000000         64.000000   \n",
       "\n",
       "       coupon_run_prev_ses_checkout_session  coupon_run_prev_ses_cart_session  \\\n",
       "count                         766574.000000                     766574.000000   \n",
       "mean                               0.001818                          0.015278   \n",
       "std                                0.043273                          0.166194   \n",
       "min                                0.000000                          0.000000   \n",
       "25%                                0.000000                          0.000000   \n",
       "50%                                0.000000                          0.000000   \n",
       "75%                                0.000000                          0.000000   \n",
       "max                                2.000000                          9.000000   \n",
       "\n",
       "       coupon_run_prev_ses_product_session    time_spent  \\\n",
       "count                        766574.000000  7.665740e+05   \n",
       "mean                              0.014938  2.640935e+06   \n",
       "std                               0.153295  8.056131e+07   \n",
       "min                               0.000000  6.000000e+00   \n",
       "25%                               0.000000  1.347605e+04   \n",
       "50%                               0.000000  3.181565e+04   \n",
       "75%                               0.000000  6.802645e+04   \n",
       "max                               7.000000  6.084348e+10   \n",
       "\n",
       "       day_between_previous_session  daily_visitor  trialy_visitor  \\\n",
       "count                 766574.000000  766574.000000   766574.000000   \n",
       "mean                       2.061759       0.345136        0.157099   \n",
       "std                        4.142459       0.475413        0.363894   \n",
       "min                        0.000000       0.000000        0.000000   \n",
       "25%                        0.000000       0.000000        0.000000   \n",
       "50%                        0.000000       0.000000        0.000000   \n",
       "75%                        2.000000       1.000000        0.000000   \n",
       "max                       29.000000       1.000000        1.000000   \n",
       "\n",
       "       quintally_visitor  tenally_visitor  previous_session_cart  \\\n",
       "count      766574.000000    766574.000000          766574.000000   \n",
       "mean            0.069411         0.096734               0.124655   \n",
       "std             0.254153         0.295596               0.330327   \n",
       "min             0.000000         0.000000               0.000000   \n",
       "25%             0.000000         0.000000               0.000000   \n",
       "50%             0.000000         0.000000               0.000000   \n",
       "75%             0.000000         0.000000               0.000000   \n",
       "max             1.000000         1.000000               1.000000   \n",
       "\n",
       "       previous_session_checkout  previous_session_product     entry_home  \\\n",
       "count              766574.000000             766574.000000  766574.000000   \n",
       "mean                    0.033750                  0.456744       0.402159   \n",
       "std                     0.180586                  0.498126       0.491978   \n",
       "min                     0.000000                  0.000000       0.000000   \n",
       "25%                     0.000000                  0.000000       0.000000   \n",
       "50%                     0.000000                  0.000000       0.000000   \n",
       "75%                     0.000000                  1.000000       1.000000   \n",
       "max                     1.000000                  1.000000       5.000000   \n",
       "\n",
       "       entry_product     page_depth  first_page_affil  coupon_run_on_checkout  \\\n",
       "count  766574.000000  766574.000000     766574.000000                766574.0   \n",
       "mean        0.169155       8.251514          0.012039                     0.0   \n",
       "std         0.374889      13.348851          0.109061                     0.0   \n",
       "min         0.000000       1.000000          0.000000                     0.0   \n",
       "25%         0.000000       2.000000          0.000000                     0.0   \n",
       "50%         0.000000       4.000000          0.000000                     0.0   \n",
       "75%         0.000000      10.000000          0.000000                     0.0   \n",
       "max         1.000000    2303.000000          1.000000                     0.0   \n",
       "\n",
       "       coupon_run_on_cart  coupon_run_on_product  products_viewed  \\\n",
       "count            766574.0               766574.0    766574.000000   \n",
       "mean                  0.0                    0.0         1.869135   \n",
       "std                   0.0                    0.0         7.787498   \n",
       "min                   0.0                    0.0         0.000000   \n",
       "25%                   0.0                    0.0         0.000000   \n",
       "50%                   0.0                    0.0         1.000000   \n",
       "75%                   0.0                    0.0         2.000000   \n",
       "max                   0.0                    0.0      2303.000000   \n",
       "\n",
       "              mal_cb  coupon_run  \n",
       "count  766574.000000    766574.0  \n",
       "mean        0.035747         0.0  \n",
       "std         0.185660         0.0  \n",
       "min         0.000000         0.0  \n",
       "25%         0.000000         0.0  \n",
       "50%         0.000000         0.0  \n",
       "75%         0.000000         0.0  \n",
       "max         1.000000         0.0  "
      ]
     },
     "execution_count": 18,
     "metadata": {},
     "output_type": "execute_result"
    }
   ],
   "source": [
    "raw_data[raw_data['coupon_run']==0].describe()"
   ]
  },
  {
   "cell_type": "code",
   "execution_count": null,
   "metadata": {},
   "outputs": [],
   "source": []
  },
  {
   "cell_type": "code",
   "execution_count": 19,
   "metadata": {},
   "outputs": [],
   "source": [
    "final_data = raw_data.drop(['visitor','session','browser','coupon_run_on_cart','coupon_run_on_checkout','coupon_run_on_product'],axis=1)"
   ]
  },
  {
   "cell_type": "code",
   "execution_count": 20,
   "metadata": {},
   "outputs": [
    {
     "data": {
      "text/plain": [
       "(775198, 29)"
      ]
     },
     "execution_count": 20,
     "metadata": {},
     "output_type": "execute_result"
    }
   ],
   "source": [
    "final_data.shape"
   ]
  },
  {
   "cell_type": "markdown",
   "metadata": {},
   "source": [
    "## PCA visualization"
   ]
  },
  {
   "cell_type": "code",
   "execution_count": 43,
   "metadata": {},
   "outputs": [
    {
     "name": "stdout",
     "output_type": "stream",
     "text": [
      "The shape of variance matrix =  (28, 28)\n"
     ]
    }
   ],
   "source": [
    "# PCA visualization\n",
    "sample_data = np.square(X)\n",
    "\n",
    "# matrix multiplication using numpy\n",
    "covar_matrix = np.matmul(sample_data.T , sample_data)\n",
    "\n",
    "print ( \"The shape of variance matrix = \", covar_matrix.shape)\n"
   ]
  },
  {
   "cell_type": "code",
   "execution_count": 44,
   "metadata": {},
   "outputs": [
    {
     "name": "stdout",
     "output_type": "stream",
     "text": [
      "Shape of eigen vectors =  (28, 2)\n",
      "Updated shape of eigen vectors =  (2, 28)\n"
     ]
    }
   ],
   "source": [
    "from scipy.linalg import eigh \n",
    "\n",
    "# the parameter 'eigvals' is defined (low value to heigh value) \n",
    "# eigh function will return the eigen values in asending order\n",
    "# this code generates only the top 2 (782 and 783) eigenvalues.\n",
    "values, vectors = eigh(covar_matrix, eigvals=(26,27))\n",
    "\n",
    "print(\"Shape of eigen vectors = \",vectors.shape)\n",
    "# converting the eigen vectors into (2,d) shape for easyness of further computations\n",
    "vectors = vectors.T\n",
    "\n",
    "print(\"Updated shape of eigen vectors = \",vectors.shape)\n",
    "# here the vectors[1] represent the eigen vector corresponding 1st principal eigen vector\n",
    "# here the vectors[0] represent the eigen vector corresponding 2nd principal eigen vecto"
   ]
  },
  {
   "cell_type": "code",
   "execution_count": 45,
   "metadata": {},
   "outputs": [
    {
     "name": "stdout",
     "output_type": "stream",
     "text": [
      " resultanat new data points' shape  (2, 28) X (28, 775198)  =  (2, 775198)\n"
     ]
    }
   ],
   "source": [
    "import matplotlib.pyplot as plt\n",
    "new_coordinates = np.matmul(vectors, sample_data.T)\n",
    "\n",
    "print (\" resultanat new data points' shape \", vectors.shape, \"X\", sample_data.T.shape,\" = \", new_coordinates.shape)"
   ]
  },
  {
   "cell_type": "code",
   "execution_count": 46,
   "metadata": {},
   "outputs": [
    {
     "name": "stdout",
     "output_type": "stream",
     "text": [
      "   1st_principal  2nd_principal  label\n",
      "0       2.415294  -3.299780e+09    0.0\n",
      "1      -6.853327  -1.631240e+08    0.0\n",
      "2      -0.045876  -1.405647e+08    0.0\n",
      "3      13.982148  -1.303875e+10    0.0\n",
      "4      -0.098539  -2.421758e+08    0.0\n"
     ]
    }
   ],
   "source": [
    "import pandas as pd\n",
    "labels=Y\n",
    "# appending label to the 2d projected data\n",
    "new_coordinates = np.vstack((new_coordinates, labels)).T\n",
    "\n",
    "# creating a new data frame for ploting the labeled points.\n",
    "dataframe = pd.DataFrame(data=new_coordinates, columns=(\"1st_principal\", \"2nd_principal\", \"label\"))\n",
    "print(dataframe.head())"
   ]
  },
  {
   "cell_type": "code",
   "execution_count": 47,
   "metadata": {},
   "outputs": [
    {
     "name": "stderr",
     "output_type": "stream",
     "text": [
      "C:\\Users\\JAYESH\\Anaconda3\\lib\\site-packages\\seaborn\\axisgrid.py:230: UserWarning: The `size` paramter has been renamed to `height`; please update your code.\n",
      "  warnings.warn(msg, UserWarning)\n"
     ]
    },
    {
     "data": {
      "image/png": "[encoded data removed]",
      "text/plain": [
       "<Figure size 483.875x432 with 1 Axes>"
      ]
     },
     "metadata": {
      "needs_background": "light"
     },
     "output_type": "display_data"
    }
   ],
   "source": [
    "import seaborn as sn\n",
    "sn.FacetGrid(dataframe, hue=\"label\", size=6).map(plt.scatter, '1st_principal', '2nd_principal').add_legend()\n",
    "plt.show()"
   ]
  },
  {
   "cell_type": "code",
   "execution_count": null,
   "metadata": {},
   "outputs": [],
   "source": []
  },
  {
   "cell_type": "code",
   "execution_count": 22,
   "metadata": {},
   "outputs": [
    {
     "data": {
      "text/plain": [
       "(775198, 29)"
      ]
     },
     "execution_count": 22,
     "metadata": {},
     "output_type": "execute_result"
    }
   ],
   "source": [
    "final_data.shape"
   ]
  },
  {
   "cell_type": "code",
   "execution_count": 21,
   "metadata": {},
   "outputs": [],
   "source": [
    "X = final_data.iloc[:,:final_data.shape[1]-1]\n",
    "Y = final_data.iloc[:,final_data.shape[1]-1]"
   ]
  },
  {
   "cell_type": "code",
   "execution_count": 22,
   "metadata": {},
   "outputs": [],
   "source": [
    "processed_data = X"
   ]
  },
  {
   "cell_type": "code",
   "execution_count": 24,
   "metadata": {},
   "outputs": [
    {
     "data": {
      "text/plain": [
       "620158"
      ]
     },
     "execution_count": 24,
     "metadata": {},
     "output_type": "execute_result"
    }
   ],
   "source": [
    "#train test split\n",
    "int(0.8*len(final_data))\n"
   ]
  },
  {
   "cell_type": "code",
   "execution_count": 32,
   "metadata": {},
   "outputs": [],
   "source": [
    "train = final_data[:620157]\n",
    "test = final_data[620157:]"
   ]
  },
  {
   "cell_type": "code",
   "execution_count": null,
   "metadata": {},
   "outputs": [],
   "source": []
  },
  {
   "cell_type": "code",
   "execution_count": null,
   "metadata": {},
   "outputs": [],
   "source": [
    "train['coupon_run'].value_counts()"
   ]
  },
  {
   "cell_type": "code",
   "execution_count": null,
   "metadata": {},
   "outputs": [],
   "source": [
    "test['coupon_run'].value_counts()"
   ]
  },
  {
   "cell_type": "code",
   "execution_count": null,
   "metadata": {},
   "outputs": [],
   "source": [
    "x_train = train.iloc[:,:train.shape[1]-1]\n",
    "x_test = test.iloc[:,:test.shape[1]-1]"
   ]
  },
  {
   "cell_type": "code",
   "execution_count": null,
   "metadata": {},
   "outputs": [],
   "source": [
    "y_train = train.iloc[:,train.shape[1]-1]\n",
    "y_test = test.iloc[:,test.shape[1]-1]"
   ]
  },
  {
   "cell_type": "code",
   "execution_count": 135,
   "metadata": {},
   "outputs": [
    {
     "name": "stderr",
     "output_type": "stream",
     "text": [
      "C:\\Users\\JAYESH\\Anaconda3\\lib\\site-packages\\sklearn\\preprocessing\\data.py:323: DataConversionWarning: Data with input dtype int64, float64 were all converted to float64 by MinMaxScaler.\n",
      "  return self.partial_fit(X, y)\n"
     ]
    }
   ],
   "source": [
    "scaler = MinMaxScaler()\n",
    "X_train = scaler.fit_transform(x_train)"
   ]
  },
  {
   "cell_type": "code",
   "execution_count": 136,
   "metadata": {},
   "outputs": [],
   "source": [
    "X_test = scaler.transform(x_test)"
   ]
  },
  {
   "cell_type": "code",
   "execution_count": null,
   "metadata": {},
   "outputs": [],
   "source": []
  },
  {
   "cell_type": "code",
   "execution_count": 73,
   "metadata": {},
   "outputs": [
    {
     "name": "stderr",
     "output_type": "stream",
     "text": [
      "C:\\Users\\JAYESH\\Anaconda3\\lib\\site-packages\\sklearn\\linear_model\\logistic.py:432: FutureWarning: Default solver will be changed to 'lbfgs' in 0.22. Specify a solver to silence this warning.\n",
      "  FutureWarning)\n"
     ]
    }
   ],
   "source": [
    "optimal_lr = LogisticRegression(class_weight='balanced')\n",
    "lp = optimal_lr.fit(X_train, y_train)\n"
   ]
  },
  {
   "cell_type": "code",
   "execution_count": 74,
   "metadata": {},
   "outputs": [],
   "source": [
    "log_prd = optimal_lr.predict(X_test)"
   ]
  },
  {
   "cell_type": "code",
   "execution_count": 75,
   "metadata": {},
   "outputs": [
    {
     "name": "stdout",
     "output_type": "stream",
     "text": [
      "\n",
      "The accuracy of the Logistic Regression is {} 85.81342999593656\n"
     ]
    }
   ],
   "source": [
    "acc = accuracy_score(y_test, log_prd) * 100\n",
    "print('\\nThe accuracy of the Logistic Regression is {}' , acc)"
   ]
  },
  {
   "cell_type": "code",
   "execution_count": 76,
   "metadata": {},
   "outputs": [
    {
     "name": "stdout",
     "output_type": "stream",
     "text": [
      "Classification Report\n",
      "              precision    recall  f1-score   support\n",
      "\n",
      "           0       1.00      0.86      0.92    153232\n",
      "           1       0.06      0.73      0.11      1809\n",
      "\n",
      "   micro avg       0.86      0.86      0.86    155041\n",
      "   macro avg       0.53      0.80      0.52    155041\n",
      "weighted avg       0.99      0.86      0.91    155041\n",
      "\n"
     ]
    }
   ],
   "source": [
    "print(\"Classification Report\")\n",
    "print(classification_report(y_test,log_prd))"
   ]
  },
  {
   "cell_type": "code",
   "execution_count": null,
   "metadata": {},
   "outputs": [],
   "source": []
  },
  {
   "cell_type": "code",
   "execution_count": 70,
   "metadata": {},
   "outputs": [],
   "source": [
    "xgb_model = xgb.XGBClassifier()\n",
    "\n",
    "xgb_model = xgb_model.fit(X_train, y_train)\n"
   ]
  },
  {
   "cell_type": "code",
   "execution_count": 71,
   "metadata": {},
   "outputs": [],
   "source": [
    "xgb_prd = xgb_model.predict(X_test)"
   ]
  },
  {
   "cell_type": "code",
   "execution_count": 72,
   "metadata": {},
   "outputs": [
    {
     "name": "stdout",
     "output_type": "stream",
     "text": [
      "\n",
      "The accuracy of the Logistic Regression is {} 98.84933662708573\n",
      "Classification Report\n",
      "              precision    recall  f1-score   support\n",
      "\n",
      "           0       0.99      1.00      0.99    153232\n",
      "           1       0.70      0.02      0.05      1809\n",
      "\n",
      "   micro avg       0.99      0.99      0.99    155041\n",
      "   macro avg       0.84      0.51      0.52    155041\n",
      "weighted avg       0.99      0.99      0.98    155041\n",
      "\n"
     ]
    }
   ],
   "source": [
    "acc = accuracy_score(y_test, xgb_prd) * 100\n",
    "print('\\nThe accuracy of the Logistic Regression is {}' , acc)\n",
    "\n",
    "print(\"Classification Report\")\n",
    "print(classification_report(y_test,xgb_prd))"
   ]
  },
  {
   "cell_type": "code",
   "execution_count": null,
   "metadata": {},
   "outputs": [],
   "source": []
  },
  {
   "cell_type": "code",
   "execution_count": 81,
   "metadata": {},
   "outputs": [],
   "source": [
    "Count_Normal_transacation = len(final_data[final_data[\"coupon_run\"]==0]) # normal transaction are repersented by 0\n",
    "Count_Fraud_transacation = len(final_data[final_data[\"coupon_run\"]==1])"
   ]
  },
  {
   "cell_type": "code",
   "execution_count": 91,
   "metadata": {},
   "outputs": [
    {
     "data": {
      "text/plain": [
       "775198"
      ]
     },
     "execution_count": 91,
     "metadata": {},
     "output_type": "execute_result"
    }
   ],
   "source": [
    "len(final_data)"
   ]
  },
  {
   "cell_type": "code",
   "execution_count": 95,
   "metadata": {},
   "outputs": [],
   "source": [
    "def undersample(normal_indices,fraud_indices,times):#times denote the normal data = times*fraud data\n",
    "    Normal_indices_undersample = np.array(np.random.choice(normal_indices,(times*Count_Fraud_transacation),replace=False))\n",
    "    undersample_data= np.concatenate([fraud_indices,Normal_indices_undersample])\n",
    "    undersample_data = final_data.iloc[undersample_data,:]\n",
    "    \n",
    "    print(\"the normal transacation proportion is :\",len(undersample_data[undersample_data.coupon_run==0])/len(undersample_data))\n",
    "    print(\"the fraud transacation proportion is :\",len(undersample_data[undersample_data.coupon_run==1])/len(undersample_data))\n",
    "    print(\"total number of record in resampled data is:\",len(undersample_data))\n",
    "    return(undersample_data)"
   ]
  },
  {
   "cell_type": "code",
   "execution_count": 96,
   "metadata": {},
   "outputs": [],
   "source": [
    "normal_indices = np.array(final_data[final_data.coupon_run==0].index)\n",
    "abnormal_indices = np.array(final_data[final_data.coupon_run==1].index)"
   ]
  },
  {
   "cell_type": "code",
   "execution_count": 97,
   "metadata": {},
   "outputs": [
    {
     "name": "stdout",
     "output_type": "stream",
     "text": [
      "the normal transacation proportion is : 0.5\n",
      "the fraud transacation proportion is : 0.5\n",
      "total number of record in resampled data is: 17248\n"
     ]
    }
   ],
   "source": [
    "Undersample_data = undersample(normal_indices,abnormal_indices,1)"
   ]
  },
  {
   "cell_type": "code",
   "execution_count": 104,
   "metadata": {},
   "outputs": [],
   "source": [
    "X_undersample = Undersample_data.iloc[:,:Undersample_data.shape[1]-1]\n",
    "\n",
    "Y_undersample = Undersample_data.iloc[:,Undersample_data.shape[1]-1]\n"
   ]
  },
  {
   "cell_type": "code",
   "execution_count": 118,
   "metadata": {},
   "outputs": [],
   "source": [
    "X_undersample = np.array(X_undersample)\n",
    "Y_undersample = np.array(Y_undersample)"
   ]
  },
  {
   "cell_type": "code",
   "execution_count": null,
   "metadata": {},
   "outputs": [],
   "source": []
  },
  {
   "cell_type": "code",
   "execution_count": 140,
   "metadata": {},
   "outputs": [],
   "source": [
    "X_train_under, X_test_under, y_train_under, y_test_under = train_test_split(X_undersample, Y_undersample, test_size=0.3, random_state=42)"
   ]
  },
  {
   "cell_type": "code",
   "execution_count": null,
   "metadata": {},
   "outputs": [],
   "source": []
  },
  {
   "cell_type": "code",
   "execution_count": 141,
   "metadata": {},
   "outputs": [
    {
     "name": "stdout",
     "output_type": "stream",
     "text": [
      "\n",
      "The accuracy of the Logistic Regression is {} 50.08695652173913\n",
      "Classification Report\n",
      "              precision    recall  f1-score   support\n",
      "\n",
      "           0       0.50      1.00      0.67      2592\n",
      "           1       0.00      0.00      0.00      2583\n",
      "\n",
      "   micro avg       0.50      0.50      0.50      5175\n",
      "   macro avg       0.25      0.50      0.33      5175\n",
      "weighted avg       0.25      0.50      0.33      5175\n",
      "\n"
     ]
    },
    {
     "name": "stderr",
     "output_type": "stream",
     "text": [
      "C:\\Users\\JAYESH\\Anaconda3\\lib\\site-packages\\sklearn\\linear_model\\logistic.py:432: FutureWarning: Default solver will be changed to 'lbfgs' in 0.22. Specify a solver to silence this warning.\n",
      "  FutureWarning)\n",
      "C:\\Users\\JAYESH\\Anaconda3\\lib\\site-packages\\sklearn\\metrics\\classification.py:1143: UndefinedMetricWarning: Precision and F-score are ill-defined and being set to 0.0 in labels with no predicted samples.\n",
      "  'precision', 'predicted', average, warn_for)\n"
     ]
    }
   ],
   "source": [
    "optimal_lr_under = LogisticRegression(class_weight='balanced')\n",
    "lp = optimal_lr_under.fit(X_train_under, y_train_under)\n",
    "\n",
    "log_prd_undersmp = optimal_lr_under.predict(X_test_under)\n",
    "\n",
    "acc = accuracy_score(y_test_under, log_prd_undersmp) * 100\n",
    "print('\\nThe accuracy of the Logistic Regression is {}' , acc)\n",
    "\n",
    "print(\"Classification Report\")\n",
    "print(classification_report(y_test_under,log_prd_undersmp))"
   ]
  },
  {
   "cell_type": "code",
   "execution_count": null,
   "metadata": {},
   "outputs": [],
   "source": []
  },
  {
   "cell_type": "code",
   "execution_count": 172,
   "metadata": {},
   "outputs": [
    {
     "name": "stdout",
     "output_type": "stream",
     "text": [
      "\n",
      "The accuracy of the Logistic Regression is {} 98.83321186008862\n",
      "Classification Report\n",
      "              precision    recall  f1-score   support\n",
      "\n",
      "           0       0.99      1.00      0.99    153232\n",
      "           1       0.00      0.00      0.00      1809\n",
      "\n",
      "   micro avg       0.99      0.99      0.99    155041\n",
      "   macro avg       0.49      0.50      0.50    155041\n",
      "weighted avg       0.98      0.99      0.98    155041\n",
      "\n"
     ]
    },
    {
     "name": "stderr",
     "output_type": "stream",
     "text": [
      "C:\\Users\\JAYESH\\Anaconda3\\lib\\site-packages\\sklearn\\metrics\\classification.py:1143: UndefinedMetricWarning: Precision and F-score are ill-defined and being set to 0.0 in labels with no predicted samples.\n",
      "  'precision', 'predicted', average, warn_for)\n",
      "C:\\Users\\JAYESH\\Anaconda3\\lib\\site-packages\\sklearn\\metrics\\classification.py:1143: UndefinedMetricWarning: Precision and F-score are ill-defined and being set to 0.0 in labels with no predicted samples.\n",
      "  'precision', 'predicted', average, warn_for)\n",
      "C:\\Users\\JAYESH\\Anaconda3\\lib\\site-packages\\sklearn\\metrics\\classification.py:1143: UndefinedMetricWarning: Precision and F-score are ill-defined and being set to 0.0 in labels with no predicted samples.\n",
      "  'precision', 'predicted', average, warn_for)\n"
     ]
    }
   ],
   "source": [
    "xgb_model_under = xgb.XGBClassifier()\n",
    "\n",
    "xgb_model_under = xgb_model_under.fit(X_train_under, y_train_under)\n",
    "\n",
    "\n",
    "xgb_prd_undersmpl = xgb_model_under.predict(X_test)\n",
    "\n",
    "acc = accuracy_score(y_test, xgb_prd_undersmpl) * 100\n",
    "print('\\nThe accuracy of the Logistic Regression is {}' , acc)\n",
    "\n",
    "print(\"Classification Report\")\n",
    "print(classification_report(y_test,xgb_prd_undersmpl))"
   ]
  },
  {
   "cell_type": "markdown",
   "metadata": {},
   "source": [
    "### using imblearn "
   ]
  },
  {
   "cell_type": "code",
   "execution_count": 29,
   "metadata": {},
   "outputs": [
    {
     "data": {
      "text/plain": [
       "0.01112489970304361"
      ]
     },
     "execution_count": 29,
     "metadata": {},
     "output_type": "execute_result"
    }
   ],
   "source": [
    "len(final_data[final_data['coupon_run']==1])/len(final_data)"
   ]
  },
  {
   "cell_type": "code",
   "execution_count": 56,
   "metadata": {},
   "outputs": [],
   "source": [
    "X_train_imb, X_test_imb, y_train_imb, y_test_imb = train_test_split(processed_data, Y, test_size=0.3, random_state=42)"
   ]
  },
  {
   "cell_type": "code",
   "execution_count": 57,
   "metadata": {},
   "outputs": [
    {
     "data": {
      "text/plain": [
       "(542638, 31)"
      ]
     },
     "execution_count": 57,
     "metadata": {},
     "output_type": "execute_result"
    }
   ],
   "source": [
    "X_train_imb.shape"
   ]
  },
  {
   "cell_type": "code",
   "execution_count": 53,
   "metadata": {},
   "outputs": [
    {
     "name": "stdout",
     "output_type": "stream",
     "text": [
      "MinMaxScaler(copy=True, feature_range=(0, 1))\n"
     ]
    }
   ],
   "source": []
  },
  {
   "cell_type": "code",
   "execution_count": 58,
   "metadata": {},
   "outputs": [],
   "source": [
    "from imblearn.over_sampling import SMOTE\n",
    "smote = SMOTE(ratio='minority')\n",
    "X_sm, y_sm = smote.fit_sample(X_train_imb,y_train_imb)"
   ]
  },
  {
   "cell_type": "code",
   "execution_count": 59,
   "metadata": {},
   "outputs": [],
   "source": [
    "X_train_smote, X_test_smote, y_train_smote, y_test_smote = train_test_split(X_sm, y_sm, test_size=0.3, random_state=42)"
   ]
  },
  {
   "cell_type": "code",
   "execution_count": 141,
   "metadata": {},
   "outputs": [],
   "source": [
    "from sklearn.preprocessing import StandardScaler"
   ]
  },
  {
   "cell_type": "code",
   "execution_count": 142,
   "metadata": {},
   "outputs": [],
   "source": [
    "scal = StandardScaler()\n",
    "X_train_smote = scal.fit_transform(X_train_smote)\n",
    "X_test_smote = scal.transform(X_test_smote)\n"
   ]
  },
  {
   "cell_type": "code",
   "execution_count": null,
   "metadata": {},
   "outputs": [],
   "source": []
  },
  {
   "cell_type": "code",
   "execution_count": 143,
   "metadata": {},
   "outputs": [
    {
     "name": "stderr",
     "output_type": "stream",
     "text": [
      "C:\\Users\\JAYESH\\Anaconda3\\lib\\site-packages\\ipykernel_launcher.py:1: DataConversionWarning: Data with input dtype int32, int64, float64 were all converted to float64 by StandardScaler.\n",
      "  \"\"\"Entry point for launching an IPython kernel.\n"
     ]
    }
   ],
   "source": [
    "x_test_imb = scal.transform(X_test_imb)"
   ]
  },
  {
   "cell_type": "code",
   "execution_count": 144,
   "metadata": {},
   "outputs": [],
   "source": [
    "from sklearn.naive_bayes import BernoulliNB\n",
    "optimal_nb_sm = BernoulliNB(alpha=100)\n",
    "lp = optimal_nb_sm.fit(X_train_smote, y_train_smote)\n"
   ]
  },
  {
   "cell_type": "code",
   "execution_count": 145,
   "metadata": {},
   "outputs": [
    {
     "name": "stdout",
     "output_type": "stream",
     "text": [
      "\n",
      "The accuracy of the Logistic Regression is {} 64.81381148950808\n",
      "Classification Report\n",
      "              precision    recall  f1-score   support\n",
      "\n",
      "           0       0.99      0.65      0.78    229969\n",
      "           1       0.02      0.66      0.04      2591\n",
      "\n",
      "   micro avg       0.65      0.65      0.65    232560\n",
      "   macro avg       0.51      0.65      0.41    232560\n",
      "weighted avg       0.98      0.65      0.78    232560\n",
      "\n"
     ]
    }
   ],
   "source": [
    "\n",
    "nb_prd_sm = optimal_nb_sm.predict(x_test_imb)\n",
    "\n",
    "acc = accuracy_score(y_test_imb, nb_prd_sm) * 100\n",
    "print('\\nThe accuracy of the Logistic Regression is {}' , acc)\n",
    "\n",
    "print(\"Classification Report\")\n",
    "print(classification_report(y_test_imb,nb_prd_sm))"
   ]
  },
  {
   "cell_type": "code",
   "execution_count": 154,
   "metadata": {},
   "outputs": [
    {
     "name": "stdout",
     "output_type": "stream",
     "text": [
      "True positive rate: 65.88189888074103\n",
      "False positive rate: 35.19822236910192\n",
      "True negative rate: 64.80177763089809\n",
      "False negative rate: 34.118101119258974\n"
     ]
    },
    {
     "data": {
      "image/png": "[encoded data removed]",
      "text/plain": [
       "<Figure size 432x288 with 2 Axes>"
      ]
     },
     "metadata": {
      "needs_background": "light"
     },
     "output_type": "display_data"
    }
   ],
   "source": [
    "#y_test_np= np.asarray(y_test)\n",
    "from sklearn.metrics import confusion_matrix\n",
    "import seaborn as sns\n",
    "import matplotlib.pyplot as plt\n",
    "\n",
    "mat = confusion_matrix(y_test_imb,nb_prd_sm)\n",
    "tn, fp, fn, tp = confusion_matrix(y_test_imb,nb_prd_sm).ravel()\n",
    "\n",
    "sns.heatmap(mat.T, square=True, annot=True, fmt='d', cbar=True,cmap='RdYlBu_r',\n",
    "            xticklabels=['0','1'], yticklabels=['0','1'])\n",
    "plt.title(\"confusion Matrix\")\n",
    "plt.xlabel('true label')\n",
    "plt.ylabel('predicted label');\n",
    "\n",
    "print(\"True positive rate:\",(tp/(tp+fn))*100)\n",
    "print(\"False positive rate:\",(fp/(tn+fp))*100)\n",
    "print(\"True negative rate:\",(tn/(tn+fp))*100)\n",
    "print(\"False negative rate:\",(fn/(tp+fn))*100)"
   ]
  },
  {
   "cell_type": "code",
   "execution_count": 146,
   "metadata": {},
   "outputs": [
    {
     "name": "stderr",
     "output_type": "stream",
     "text": [
      "C:\\Users\\JAYESH\\Anaconda3\\lib\\site-packages\\sklearn\\linear_model\\logistic.py:432: FutureWarning: Default solver will be changed to 'lbfgs' in 0.22. Specify a solver to silence this warning.\n",
      "  FutureWarning)\n"
     ]
    }
   ],
   "source": [
    "optimal_lr_sm = LogisticRegression(C=100,class_weight='balanced')\n",
    "lp = optimal_lr_sm.fit(X_train_smote, y_train_smote)\n"
   ]
  },
  {
   "cell_type": "code",
   "execution_count": 147,
   "metadata": {},
   "outputs": [
    {
     "name": "stdout",
     "output_type": "stream",
     "text": [
      "\n",
      "The accuracy of the Logistic Regression is {} 95.70734434124527\n",
      "Classification Report\n",
      "              precision    recall  f1-score   support\n",
      "\n",
      "           0       0.99      0.97      0.98    229969\n",
      "           1       0.02      0.07      0.03      2591\n",
      "\n",
      "   micro avg       0.96      0.96      0.96    232560\n",
      "   macro avg       0.51      0.52      0.51    232560\n",
      "weighted avg       0.98      0.96      0.97    232560\n",
      "\n"
     ]
    }
   ],
   "source": [
    "\n",
    "log_prd_sm = optimal_lr_sm.predict(x_test_imb)\n",
    "\n",
    "acc = accuracy_score(y_test_imb, log_prd_sm) * 100\n",
    "print('\\nThe accuracy of the Logistic Regression is {}' , acc)\n",
    "\n",
    "print(\"Classification Report\")\n",
    "print(classification_report(y_test_imb,log_prd_sm))"
   ]
  },
  {
   "cell_type": "code",
   "execution_count": 148,
   "metadata": {},
   "outputs": [
    {
     "name": "stdout",
     "output_type": "stream",
     "text": [
      "True positive rate: 6.869934388267078\n",
      "False positive rate: 3.2917480182111505\n",
      "True negative rate: 96.70825198178885\n",
      "False negative rate: 93.13006561173293\n"
     ]
    },
    {
     "data": {
      "image/png": "[encoded data removed]",
      "text/plain": [
       "<Figure size 432x288 with 2 Axes>"
      ]
     },
     "metadata": {
      "needs_background": "light"
     },
     "output_type": "display_data"
    }
   ],
   "source": [
    "#y_test_np= np.asarray(y_test)\n",
    "from sklearn.metrics import confusion_matrix\n",
    "import seaborn as sns\n",
    "import matplotlib.pyplot as plt\n",
    "\n",
    "mat = confusion_matrix(y_test_imb,log_prd_sm)\n",
    "tn, fp, fn, tp = confusion_matrix(y_test_imb,log_prd_sm).ravel()\n",
    "\n",
    "sns.heatmap(mat.T, square=True, annot=True, fmt='d', cbar=True,cmap='RdYlBu_r',\n",
    "            xticklabels=['0','1'], yticklabels=['0','1'])\n",
    "plt.title(\"confusion Matrix\")\n",
    "plt.xlabel('true label')\n",
    "plt.ylabel('predicted label');\n",
    "\n",
    "print(\"True positive rate:\",(tp/(tp+fn))*100)\n",
    "print(\"False positive rate:\",(fp/(tn+fp))*100)\n",
    "print(\"True negative rate:\",(tn/(tn+fp))*100)\n",
    "print(\"False negative rate:\",(fn/(tp+fn))*100)"
   ]
  },
  {
   "cell_type": "code",
   "execution_count": null,
   "metadata": {},
   "outputs": [],
   "source": []
  },
  {
   "cell_type": "code",
   "execution_count": null,
   "metadata": {},
   "outputs": [],
   "source": []
  },
  {
   "cell_type": "code",
   "execution_count": null,
   "metadata": {},
   "outputs": [],
   "source": []
  },
  {
   "cell_type": "code",
   "execution_count": 149,
   "metadata": {},
   "outputs": [],
   "source": [
    "xgb_model_sm = xgb.XGBClassifier()\n",
    "\n",
    "xgb_model_sm = xgb_model_sm.fit(X_train_smote, y_train_smote)\n"
   ]
  },
  {
   "cell_type": "code",
   "execution_count": 150,
   "metadata": {},
   "outputs": [],
   "source": [
    "x_test_df = np.array(x_test_imb)"
   ]
  },
  {
   "cell_type": "code",
   "execution_count": 151,
   "metadata": {},
   "outputs": [
    {
     "data": {
      "text/plain": [
       "(232560, 31)"
      ]
     },
     "execution_count": 151,
     "metadata": {},
     "output_type": "execute_result"
    }
   ],
   "source": [
    "x_test_df.shape"
   ]
  },
  {
   "cell_type": "code",
   "execution_count": 152,
   "metadata": {},
   "outputs": [],
   "source": [
    "xgb_prd_smote = xgb_model_sm.predict(x_test_df)"
   ]
  },
  {
   "cell_type": "code",
   "execution_count": 153,
   "metadata": {},
   "outputs": [
    {
     "name": "stdout",
     "output_type": "stream",
     "text": [
      "\n",
      "The accuracy of the xgboost is {} 96.81759545923633\n",
      "Classification Report\n",
      "              precision    recall  f1-score   support\n",
      "\n",
      "           0       0.99      0.98      0.98    229969\n",
      "           1       0.11      0.27      0.16      2591\n",
      "\n",
      "   micro avg       0.97      0.97      0.97    232560\n",
      "   macro avg       0.55      0.62      0.57    232560\n",
      "weighted avg       0.98      0.97      0.97    232560\n",
      "\n"
     ]
    }
   ],
   "source": [
    "\n",
    "acc = accuracy_score(y_test_imb, xgb_prd_smote) * 100\n",
    "print('\\nThe accuracy of the xgboost is {}' , acc)\n",
    "\n",
    "print(\"Classification Report\")\n",
    "print(classification_report(y_test_imb,xgb_prd_smote))"
   ]
  },
  {
   "cell_type": "code",
   "execution_count": 64,
   "metadata": {},
   "outputs": [
    {
     "name": "stderr",
     "output_type": "stream",
     "text": [
      "C:\\Users\\JAYESH\\Anaconda3\\lib\\site-packages\\sklearn\\ensemble\\forest.py:248: FutureWarning: The default value of n_estimators will change from 10 in version 0.20 to 100 in 0.22.\n",
      "  \"10 in version 0.20 to 100 in 0.22.\", FutureWarning)\n"
     ]
    }
   ],
   "source": [
    "from sklearn.ensemble import RandomForestClassifier\n",
    "opt_rf = RandomForestClassifier()\n",
    "opt_rf = opt_rf.fit(X_train_smote,y_train_smote)\n"
   ]
  },
  {
   "cell_type": "code",
   "execution_count": 67,
   "metadata": {},
   "outputs": [],
   "source": [
    "prd_opt = opt_rf.predict(x_test_imb)"
   ]
  },
  {
   "cell_type": "code",
   "execution_count": 68,
   "metadata": {},
   "outputs": [
    {
     "name": "stdout",
     "output_type": "stream",
     "text": [
      "\n",
      "The accuracy of the xgboost is {} 98.72205022359822\n",
      "Classification Report\n",
      "              precision    recall  f1-score   support\n",
      "\n",
      "           0       0.99      1.00      0.99    229969\n",
      "           1       0.17      0.04      0.06      2591\n",
      "\n",
      "   micro avg       0.99      0.99      0.99    232560\n",
      "   macro avg       0.58      0.52      0.53    232560\n",
      "weighted avg       0.98      0.99      0.98    232560\n",
      "\n"
     ]
    }
   ],
   "source": [
    "\n",
    "acc = accuracy_score(y_test_imb, prd_opt) * 100\n",
    "print('\\nThe accuracy of the xgboost is {}' , acc)\n",
    "\n",
    "print(\"Classification Report\")\n",
    "print(classification_report(y_test_imb,prd_opt))"
   ]
  },
  {
   "cell_type": "code",
   "execution_count": null,
   "metadata": {},
   "outputs": [],
   "source": []
  },
  {
   "cell_type": "code",
   "execution_count": null,
   "metadata": {},
   "outputs": [],
   "source": []
  },
  {
   "cell_type": "code",
   "execution_count": null,
   "metadata": {},
   "outputs": [],
   "source": []
  },
  {
   "cell_type": "code",
   "execution_count": 155,
   "metadata": {},
   "outputs": [
    {
     "name": "stderr",
     "output_type": "stream",
     "text": [
      "C:\\Users\\JAYESH\\Anaconda3\\lib\\site-packages\\sklearn\\linear_model\\logistic.py:432: FutureWarning: Default solver will be changed to 'lbfgs' in 0.22. Specify a solver to silence this warning.\n",
      "  FutureWarning)\n",
      "C:\\Users\\JAYESH\\Anaconda3\\lib\\site-packages\\sklearn\\linear_model\\logistic.py:432: FutureWarning: Default solver will be changed to 'lbfgs' in 0.22. Specify a solver to silence this warning.\n",
      "  FutureWarning)\n",
      "C:\\Users\\JAYESH\\Anaconda3\\lib\\site-packages\\sklearn\\linear_model\\logistic.py:432: FutureWarning: Default solver will be changed to 'lbfgs' in 0.22. Specify a solver to silence this warning.\n",
      "  FutureWarning)\n",
      "C:\\Users\\JAYESH\\Anaconda3\\lib\\site-packages\\sklearn\\linear_model\\logistic.py:432: FutureWarning: Default solver will be changed to 'lbfgs' in 0.22. Specify a solver to silence this warning.\n",
      "  FutureWarning)\n"
     ]
    }
   ],
   "source": [
    "from mlxtend.classifier import StackingClassifier\n",
    "lr =LogisticRegression(C=100)\n",
    "sclf = StackingClassifier(classifiers=[optimal_nb_sm,optimal_lr_sm], meta_classifier=lr, use_probas=False)\n",
    "#sclf2 = StackingClassifier(classifiers=[sclf,optimal_nb_sm,optimal_lr_sm], meta_classifier=lr, use_probas=False)\n",
    "sclf2 = sclf2.fit(X_train_smote, y_train_smote)"
   ]
  },
  {
   "cell_type": "code",
   "execution_count": 156,
   "metadata": {},
   "outputs": [],
   "source": [
    "x_test_df = np.array(x_test_imb)\n",
    "\n",
    "x_test_df.shape\n",
    "\n",
    "sclf_prd_smote = sclf2.predict(x_test_df)\n"
   ]
  },
  {
   "cell_type": "code",
   "execution_count": 157,
   "metadata": {},
   "outputs": [
    {
     "name": "stdout",
     "output_type": "stream",
     "text": [
      "\n",
      "The accuracy of the xgboost is {} 62.59029927760578\n",
      "Classification Report\n",
      "              precision    recall  f1-score   support\n",
      "\n",
      "           0       0.99      0.63      0.77    229969\n",
      "           1       0.02      0.69      0.04      2591\n",
      "\n",
      "   micro avg       0.63      0.63      0.63    232560\n",
      "   macro avg       0.51      0.66      0.40    232560\n",
      "weighted avg       0.98      0.63      0.76    232560\n",
      "\n"
     ]
    }
   ],
   "source": [
    "acc = accuracy_score(y_test_imb, sclf_prd_smote) * 100\n",
    "print('\\nThe accuracy of the xgboost is {}' , acc)\n",
    "\n",
    "print(\"Classification Report\")\n",
    "print(classification_report(y_test_imb,sclf_prd_smote))"
   ]
  },
  {
   "cell_type": "code",
   "execution_count": 159,
   "metadata": {},
   "outputs": [
    {
     "name": "stdout",
     "output_type": "stream",
     "text": [
      "True positive rate: 68.73793901968352\n",
      "False positive rate: 37.47896455609234\n",
      "True negative rate: 62.52103544390766\n",
      "False negative rate: 31.26206098031648\n"
     ]
    },
    {
     "data": {
      "image/png": "[encoded data removed]",
      "text/plain": [
       "<Figure size 432x288 with 2 Axes>"
      ]
     },
     "metadata": {
      "needs_background": "light"
     },
     "output_type": "display_data"
    }
   ],
   "source": [
    "#y_test_np= np.asarray(y_test)\n",
    "from sklearn.metrics import confusion_matrix\n",
    "import seaborn as sns\n",
    "import matplotlib.pyplot as plt\n",
    "\n",
    "mat = confusion_matrix(y_test_imb,sclf_prd_smote)\n",
    "tn, fp, fn, tp = confusion_matrix(y_test_imb,sclf_prd_smote).ravel()\n",
    "\n",
    "sns.heatmap(mat.T, square=True, annot=True, fmt='d', cbar=True,cmap='RdYlBu_r',\n",
    "            xticklabels=['0','1'], yticklabels=['0','1'])\n",
    "plt.title(\"confusion Matrix\")\n",
    "plt.xlabel('true label')\n",
    "plt.ylabel('predicted label');\n",
    "\n",
    "print(\"True positive rate:\",(tp/(tp+fn))*100)\n",
    "print(\"False positive rate:\",(fp/(tn+fp))*100)\n",
    "print(\"True negative rate:\",(tn/(tn+fp))*100)\n",
    "print(\"False negative rate:\",(fn/(tp+fn))*100)"
   ]
  },
  {
   "cell_type": "code",
   "execution_count": null,
   "metadata": {},
   "outputs": [],
   "source": []
  },
  {
   "cell_type": "markdown",
   "metadata": {},
   "source": [
    "# anomoly detection"
   ]
  },
  {
   "cell_type": "markdown",
   "metadata": {},
   "source": [
    "### Using isolation forest"
   ]
  },
  {
   "cell_type": "code",
   "execution_count": 23,
   "metadata": {},
   "outputs": [],
   "source": [
    "outliers_fraction = 0.0112"
   ]
  },
  {
   "cell_type": "code",
   "execution_count": 24,
   "metadata": {},
   "outputs": [],
   "source": [
    "from sklearn.cluster import KMeans\n",
    "from sklearn.covariance import EllipticEnvelope\n",
    "#from pyemma import msm # not available on Kaggle Kernel\n",
    "from sklearn.ensemble import IsolationForest\n",
    "from sklearn.svm import OneClassSVM\n",
    "from sklearn import preprocessing"
   ]
  },
  {
   "cell_type": "code",
   "execution_count": 25,
   "metadata": {},
   "outputs": [
    {
     "name": "stderr",
     "output_type": "stream",
     "text": [
      "C:\\Users\\JAYESH\\Anaconda3\\lib\\site-packages\\sklearn\\preprocessing\\data.py:617: DataConversionWarning: Data with input dtype int64, float64 were all converted to float64 by StandardScaler.\n",
      "  return self.partial_fit(X, y)\n",
      "C:\\Users\\JAYESH\\Anaconda3\\lib\\site-packages\\sklearn\\base.py:462: DataConversionWarning: Data with input dtype int64, float64 were all converted to float64 by StandardScaler.\n",
      "  return self.fit(X, **fit_params).transform(X)\n"
     ]
    }
   ],
   "source": [
    "min_max_scaler = preprocessing.StandardScaler()\n",
    "np_scaled = min_max_scaler.fit_transform(X)\n",
    "data = pd.DataFrame(np_scaled)"
   ]
  },
  {
   "cell_type": "code",
   "execution_count": 26,
   "metadata": {},
   "outputs": [],
   "source": [
    "#hyperparamter tuning for isolation forest"
   ]
  },
  {
   "cell_type": "code",
   "execution_count": null,
   "metadata": {},
   "outputs": [],
   "source": []
  },
  {
   "cell_type": "code",
   "execution_count": null,
   "metadata": {},
   "outputs": [],
   "source": []
  },
  {
   "cell_type": "code",
   "execution_count": null,
   "metadata": {},
   "outputs": [],
   "source": []
  },
  {
   "cell_type": "code",
   "execution_count": 27,
   "metadata": {},
   "outputs": [
    {
     "name": "stderr",
     "output_type": "stream",
     "text": [
      "C:\\Users\\JAYESH\\Anaconda3\\lib\\site-packages\\sklearn\\ensemble\\iforest.py:224: FutureWarning: behaviour=\"old\" is deprecated and will be removed in version 0.22. Please use behaviour=\"new\", which makes the decision_function change to match other anomaly detection algorithm API.\n",
      "  FutureWarning)\n"
     ]
    },
    {
     "data": {
      "text/plain": [
       "IsolationForest(behaviour='old', bootstrap=False, contamination=0.0112,\n",
       "        max_features=1.0, max_samples='auto', n_estimators=100,\n",
       "        n_jobs=None, random_state=None, verbose=0)"
      ]
     },
     "execution_count": 27,
     "metadata": {},
     "output_type": "execute_result"
    }
   ],
   "source": [
    "model =  IsolationForest(contamination = outliers_fraction)\n",
    "model.fit(data)"
   ]
  },
  {
   "cell_type": "code",
   "execution_count": 28,
   "metadata": {},
   "outputs": [
    {
     "name": "stderr",
     "output_type": "stream",
     "text": [
      "C:\\Users\\JAYESH\\Anaconda3\\lib\\site-packages\\sklearn\\ensemble\\iforest.py:418: DeprecationWarning: threshold_ attribute is deprecated in 0.20 and will be removed in 0.22.\n",
      "  \" be removed in 0.22.\", DeprecationWarning)\n"
     ]
    }
   ],
   "source": [
    "processed_data['anomalyIF'] = pd.Series(model.predict(data))\n"
   ]
  },
  {
   "cell_type": "code",
   "execution_count": 29,
   "metadata": {},
   "outputs": [
    {
     "data": {
      "text/plain": [
       " 1    766515\n",
       "-1      8683\n",
       "Name: anomalyIF, dtype: int64"
      ]
     },
     "execution_count": 29,
     "metadata": {},
     "output_type": "execute_result"
    }
   ],
   "source": [
    "processed_data['anomalyIF'].value_counts()"
   ]
  },
  {
   "cell_type": "code",
   "execution_count": 30,
   "metadata": {},
   "outputs": [
    {
     "name": "stdout",
     "output_type": "stream",
     "text": [
      "0    766515\n",
      "1      8683\n",
      "Name: anomalyIF, dtype: int64\n"
     ]
    }
   ],
   "source": [
    "processed_data['anomalyIF'] = processed_data['anomalyIF'].map( {1: 0, -1: 1} )\n",
    "print(processed_data['anomalyIF'].value_counts())"
   ]
  },
  {
   "cell_type": "code",
   "execution_count": 31,
   "metadata": {},
   "outputs": [],
   "source": [
    "idx = set(processed_data[processed_data['anomalyIF']==1].index)"
   ]
  },
  {
   "cell_type": "code",
   "execution_count": 32,
   "metadata": {},
   "outputs": [],
   "source": [
    "true_idx = set(Y[Y==1].index)"
   ]
  },
  {
   "cell_type": "code",
   "execution_count": 33,
   "metadata": {},
   "outputs": [
    {
     "data": {
      "text/plain": [
       "485"
      ]
     },
     "execution_count": 33,
     "metadata": {},
     "output_type": "execute_result"
    }
   ],
   "source": [
    "len(idx & true_idx)"
   ]
  },
  {
   "cell_type": "code",
   "execution_count": null,
   "metadata": {},
   "outputs": [],
   "source": []
  },
  {
   "cell_type": "code",
   "execution_count": null,
   "metadata": {},
   "outputs": [],
   "source": []
  },
  {
   "cell_type": "code",
   "execution_count": null,
   "metadata": {},
   "outputs": [],
   "source": []
  },
  {
   "cell_type": "code",
   "execution_count": null,
   "metadata": {},
   "outputs": [],
   "source": []
  },
  {
   "cell_type": "code",
   "execution_count": 34,
   "metadata": {},
   "outputs": [
    {
     "name": "stderr",
     "output_type": "stream",
     "text": [
      "C:\\Users\\JAYESH\\Anaconda3\\lib\\site-packages\\sklearn\\covariance\\robust_covariance.py:171: RuntimeWarning: Determinant has increased; this should not happen: log(det) > log(previous_det) (-8.640139498960897 > -10.215937415258388). You may want to try with a higher value of support_fraction (current value: 0.503).\n",
      "  RuntimeWarning)\n",
      "C:\\Users\\JAYESH\\Anaconda3\\lib\\site-packages\\sklearn\\covariance\\robust_covariance.py:171: RuntimeWarning: Determinant has increased; this should not happen: log(det) > log(previous_det) (-14.031883481082110 > -16.638385236912818). You may want to try with a higher value of support_fraction (current value: 0.503).\n",
      "  RuntimeWarning)\n",
      "C:\\Users\\JAYESH\\Anaconda3\\lib\\site-packages\\sklearn\\covariance\\robust_covariance.py:171: RuntimeWarning: Determinant has increased; this should not happen: log(det) > log(previous_det) (-18.140929537269344 > -18.632522602403476). You may want to try with a higher value of support_fraction (current value: 0.503).\n",
      "  RuntimeWarning)\n",
      "C:\\Users\\JAYESH\\Anaconda3\\lib\\site-packages\\sklearn\\covariance\\robust_covariance.py:171: RuntimeWarning: Determinant has increased; this should not happen: log(det) > log(previous_det) (-25.049462060900328 > -88.910572423267951). You may want to try with a higher value of support_fraction (current value: 0.503).\n",
      "  RuntimeWarning)\n",
      "C:\\Users\\JAYESH\\Anaconda3\\lib\\site-packages\\sklearn\\covariance\\robust_covariance.py:171: RuntimeWarning: Determinant has increased; this should not happen: log(det) > log(previous_det) (-20.140376356116882 > -20.470266638553802). You may want to try with a higher value of support_fraction (current value: 0.503).\n",
      "  RuntimeWarning)\n",
      "C:\\Users\\JAYESH\\Anaconda3\\lib\\site-packages\\sklearn\\covariance\\robust_covariance.py:171: RuntimeWarning: Determinant has increased; this should not happen: log(det) > log(previous_det) (-31.317039105354763 > -87.641772301824005). You may want to try with a higher value of support_fraction (current value: 0.503).\n",
      "  RuntimeWarning)\n",
      "C:\\Users\\JAYESH\\Anaconda3\\lib\\site-packages\\sklearn\\covariance\\robust_covariance.py:171: RuntimeWarning: Determinant has increased; this should not happen: log(det) > log(previous_det) (-18.098083348791587 > -21.503313294127807). You may want to try with a higher value of support_fraction (current value: 0.503).\n",
      "  RuntimeWarning)\n",
      "C:\\Users\\JAYESH\\Anaconda3\\lib\\site-packages\\sklearn\\covariance\\robust_covariance.py:171: RuntimeWarning: Determinant has increased; this should not happen: log(det) > log(previous_det) (-23.665536210758134 > -136.957070221108438). You may want to try with a higher value of support_fraction (current value: 0.503).\n",
      "  RuntimeWarning)\n",
      "C:\\Users\\JAYESH\\Anaconda3\\lib\\site-packages\\sklearn\\covariance\\robust_covariance.py:171: RuntimeWarning: Determinant has increased; this should not happen: log(det) > log(previous_det) (-17.238335551865013 > -19.716969767331850). You may want to try with a higher value of support_fraction (current value: 0.503).\n",
      "  RuntimeWarning)\n",
      "C:\\Users\\JAYESH\\Anaconda3\\lib\\site-packages\\sklearn\\covariance\\robust_covariance.py:171: RuntimeWarning: Determinant has increased; this should not happen: log(det) > log(previous_det) (-33.075618030931679 > -57.449930274621352). You may want to try with a higher value of support_fraction (current value: 0.503).\n",
      "  RuntimeWarning)\n",
      "C:\\Users\\JAYESH\\Anaconda3\\lib\\site-packages\\sklearn\\covariance\\robust_covariance.py:171: RuntimeWarning: Determinant has increased; this should not happen: log(det) > log(previous_det) (-18.474617404895845 > -20.288230671636313). You may want to try with a higher value of support_fraction (current value: 0.503).\n",
      "  RuntimeWarning)\n",
      "C:\\Users\\JAYESH\\Anaconda3\\lib\\site-packages\\sklearn\\covariance\\robust_covariance.py:171: RuntimeWarning: Determinant has increased; this should not happen: log(det) > log(previous_det) (-11.647338892205946 > -11.979247532352556). You may want to try with a higher value of support_fraction (current value: 0.503).\n",
      "  RuntimeWarning)\n",
      "C:\\Users\\JAYESH\\Anaconda3\\lib\\site-packages\\sklearn\\covariance\\robust_covariance.py:171: RuntimeWarning: Determinant has increased; this should not happen: log(det) > log(previous_det) (-13.329359280362855 > -13.714329719648628). You may want to try with a higher value of support_fraction (current value: 0.503).\n",
      "  RuntimeWarning)\n",
      "C:\\Users\\JAYESH\\Anaconda3\\lib\\site-packages\\sklearn\\covariance\\robust_covariance.py:171: RuntimeWarning: Determinant has increased; this should not happen: log(det) > log(previous_det) (-28.243873291816868 > -95.855117737494297). You may want to try with a higher value of support_fraction (current value: 0.503).\n",
      "  RuntimeWarning)\n",
      "C:\\Users\\JAYESH\\Anaconda3\\lib\\site-packages\\sklearn\\covariance\\robust_covariance.py:171: RuntimeWarning: Determinant has increased; this should not happen: log(det) > log(previous_det) (-24.504621334016772 > -54.699308307728970). You may want to try with a higher value of support_fraction (current value: 0.503).\n",
      "  RuntimeWarning)\n",
      "C:\\Users\\JAYESH\\Anaconda3\\lib\\site-packages\\sklearn\\covariance\\robust_covariance.py:171: RuntimeWarning: Determinant has increased; this should not happen: log(det) > log(previous_det) (-23.928569101223758 > -48.977700366124218). You may want to try with a higher value of support_fraction (current value: 0.503).\n",
      "  RuntimeWarning)\n",
      "C:\\Users\\JAYESH\\Anaconda3\\lib\\site-packages\\sklearn\\covariance\\robust_covariance.py:171: RuntimeWarning: Determinant has increased; this should not happen: log(det) > log(previous_det) (-57.611568230765201 > -85.713239919085140). You may want to try with a higher value of support_fraction (current value: 0.503).\n",
      "  RuntimeWarning)\n",
      "C:\\Users\\JAYESH\\Anaconda3\\lib\\site-packages\\sklearn\\covariance\\robust_covariance.py:171: RuntimeWarning: Determinant has increased; this should not happen: log(det) > log(previous_det) (-18.659545578333582 > -30.811611866051457). You may want to try with a higher value of support_fraction (current value: 0.503).\n",
      "  RuntimeWarning)\n",
      "C:\\Users\\JAYESH\\Anaconda3\\lib\\site-packages\\sklearn\\covariance\\robust_covariance.py:171: RuntimeWarning: Determinant has increased; this should not happen: log(det) > log(previous_det) (-19.002057148469067 > -26.646916949299218). You may want to try with a higher value of support_fraction (current value: 0.503).\n",
      "  RuntimeWarning)\n",
      "C:\\Users\\JAYESH\\Anaconda3\\lib\\site-packages\\sklearn\\covariance\\robust_covariance.py:171: RuntimeWarning: Determinant has increased; this should not happen: log(det) > log(previous_det) (-14.166008611547104 > -19.576553896948916). You may want to try with a higher value of support_fraction (current value: 0.503).\n",
      "  RuntimeWarning)\n",
      "C:\\Users\\JAYESH\\Anaconda3\\lib\\site-packages\\sklearn\\covariance\\robust_covariance.py:171: RuntimeWarning: Determinant has increased; this should not happen: log(det) > log(previous_det) (-18.520560393113612 > -24.511226451440251). You may want to try with a higher value of support_fraction (current value: 0.503).\n",
      "  RuntimeWarning)\n",
      "C:\\Users\\JAYESH\\Anaconda3\\lib\\site-packages\\sklearn\\covariance\\robust_covariance.py:171: RuntimeWarning: Determinant has increased; this should not happen: log(det) > log(previous_det) (-14.166008611547104 > -18.724373817507704). You may want to try with a higher value of support_fraction (current value: 0.503).\n",
      "  RuntimeWarning)\n",
      "C:\\Users\\JAYESH\\Anaconda3\\lib\\site-packages\\sklearn\\covariance\\robust_covariance.py:171: RuntimeWarning: Determinant has increased; this should not happen: log(det) > log(previous_det) (-30.667547212104051 > -68.420430503972909). You may want to try with a higher value of support_fraction (current value: 0.503).\n",
      "  RuntimeWarning)\n",
      "C:\\Users\\JAYESH\\Anaconda3\\lib\\site-packages\\sklearn\\covariance\\robust_covariance.py:171: RuntimeWarning: Determinant has increased; this should not happen: log(det) > log(previous_det) (-30.687332278976356 > -53.439464458842679). You may want to try with a higher value of support_fraction (current value: 0.503).\n",
      "  RuntimeWarning)\n",
      "C:\\Users\\JAYESH\\Anaconda3\\lib\\site-packages\\sklearn\\covariance\\robust_covariance.py:171: RuntimeWarning: Determinant has increased; this should not happen: log(det) > log(previous_det) (-30.425816380499832 > -50.109911322707717). You may want to try with a higher value of support_fraction (current value: 0.503).\n",
      "  RuntimeWarning)\n",
      "C:\\Users\\JAYESH\\Anaconda3\\lib\\site-packages\\sklearn\\covariance\\robust_covariance.py:171: RuntimeWarning: Determinant has increased; this should not happen: log(det) > log(previous_det) (-19.235775461492416 > -23.519809187714330). You may want to try with a higher value of support_fraction (current value: 0.503).\n",
      "  RuntimeWarning)\n"
     ]
    },
    {
     "name": "stderr",
     "output_type": "stream",
     "text": [
      "C:\\Users\\JAYESH\\Anaconda3\\lib\\site-packages\\sklearn\\covariance\\robust_covariance.py:171: RuntimeWarning: Determinant has increased; this should not happen: log(det) > log(previous_det) (-22.045838042834966 > -56.163069558412289). You may want to try with a higher value of support_fraction (current value: 0.503).\n",
      "  RuntimeWarning)\n",
      "C:\\Users\\JAYESH\\Anaconda3\\lib\\site-packages\\sklearn\\covariance\\robust_covariance.py:171: RuntimeWarning: Determinant has increased; this should not happen: log(det) > log(previous_det) (-23.980063605284858 > -57.876517637174366). You may want to try with a higher value of support_fraction (current value: 0.503).\n",
      "  RuntimeWarning)\n",
      "C:\\Users\\JAYESH\\Anaconda3\\lib\\site-packages\\sklearn\\covariance\\robust_covariance.py:171: RuntimeWarning: Determinant has increased; this should not happen: log(det) > log(previous_det) (-17.152830889793570 > -19.806835734574697). You may want to try with a higher value of support_fraction (current value: 0.503).\n",
      "  RuntimeWarning)\n",
      "C:\\Users\\JAYESH\\Anaconda3\\lib\\site-packages\\sklearn\\covariance\\robust_covariance.py:171: RuntimeWarning: Determinant has increased; this should not happen: log(det) > log(previous_det) (-26.378953738013664 > -49.414592254597011). You may want to try with a higher value of support_fraction (current value: 0.503).\n",
      "  RuntimeWarning)\n",
      "C:\\Users\\JAYESH\\Anaconda3\\lib\\site-packages\\sklearn\\covariance\\robust_covariance.py:171: RuntimeWarning: Determinant has increased; this should not happen: log(det) > log(previous_det) (-18.796418594854849 > -22.646700306545245). You may want to try with a higher value of support_fraction (current value: 0.503).\n",
      "  RuntimeWarning)\n",
      "C:\\Users\\JAYESH\\Anaconda3\\lib\\site-packages\\sklearn\\covariance\\robust_covariance.py:171: RuntimeWarning: Determinant has increased; this should not happen: log(det) > log(previous_det) (-31.243239244487519 > -47.320367899222745). You may want to try with a higher value of support_fraction (current value: 0.503).\n",
      "  RuntimeWarning)\n",
      "C:\\Users\\JAYESH\\Anaconda3\\lib\\site-packages\\sklearn\\covariance\\robust_covariance.py:171: RuntimeWarning: Determinant has increased; this should not happen: log(det) > log(previous_det) (-24.011936685685818 > -26.474035821308561). You may want to try with a higher value of support_fraction (current value: 0.503).\n",
      "  RuntimeWarning)\n",
      "C:\\Users\\JAYESH\\Anaconda3\\lib\\site-packages\\sklearn\\covariance\\robust_covariance.py:171: RuntimeWarning: Determinant has increased; this should not happen: log(det) > log(previous_det) (-13.083903550448454 > -40.656182836626705). You may want to try with a higher value of support_fraction (current value: 0.503).\n",
      "  RuntimeWarning)\n",
      "C:\\Users\\JAYESH\\Anaconda3\\lib\\site-packages\\sklearn\\covariance\\robust_covariance.py:171: RuntimeWarning: Determinant has increased; this should not happen: log(det) > log(previous_det) (-27.112433366345975 > -90.020706553743281). You may want to try with a higher value of support_fraction (current value: 0.503).\n",
      "  RuntimeWarning)\n",
      "C:\\Users\\JAYESH\\Anaconda3\\lib\\site-packages\\sklearn\\covariance\\robust_covariance.py:171: RuntimeWarning: Determinant has increased; this should not happen: log(det) > log(previous_det) (-33.727413527220349 > -85.850650483498015). You may want to try with a higher value of support_fraction (current value: 0.503).\n",
      "  RuntimeWarning)\n",
      "C:\\Users\\JAYESH\\Anaconda3\\lib\\site-packages\\sklearn\\covariance\\robust_covariance.py:171: RuntimeWarning: Determinant has increased; this should not happen: log(det) > log(previous_det) (-28.486665526224289 > -102.106977845921918). You may want to try with a higher value of support_fraction (current value: 0.503).\n",
      "  RuntimeWarning)\n",
      "C:\\Users\\JAYESH\\Anaconda3\\lib\\site-packages\\sklearn\\covariance\\robust_covariance.py:171: RuntimeWarning: Determinant has increased; this should not happen: log(det) > log(previous_det) (-12.946016130020960 > -16.495146279856812). You may want to try with a higher value of support_fraction (current value: 0.503).\n",
      "  RuntimeWarning)\n",
      "C:\\Users\\JAYESH\\Anaconda3\\lib\\site-packages\\sklearn\\covariance\\robust_covariance.py:171: RuntimeWarning: Determinant has increased; this should not happen: log(det) > log(previous_det) (-16.047010316292393 > -16.137854945137718). You may want to try with a higher value of support_fraction (current value: 0.503).\n",
      "  RuntimeWarning)\n",
      "C:\\Users\\JAYESH\\Anaconda3\\lib\\site-packages\\sklearn\\covariance\\robust_covariance.py:171: RuntimeWarning: Determinant has increased; this should not happen: log(det) > log(previous_det) (-13.614936889661607 > -14.983169381277548). You may want to try with a higher value of support_fraction (current value: 0.503).\n",
      "  RuntimeWarning)\n",
      "C:\\Users\\JAYESH\\Anaconda3\\lib\\site-packages\\sklearn\\covariance\\robust_covariance.py:171: RuntimeWarning: Determinant has increased; this should not happen: log(det) > log(previous_det) (-16.217897715538232 > -19.460943432850474). You may want to try with a higher value of support_fraction (current value: 0.503).\n",
      "  RuntimeWarning)\n",
      "C:\\Users\\JAYESH\\Anaconda3\\lib\\site-packages\\sklearn\\covariance\\robust_covariance.py:171: RuntimeWarning: Determinant has increased; this should not happen: log(det) > log(previous_det) (-13.614936889661607 > -17.501763483555493). You may want to try with a higher value of support_fraction (current value: 0.503).\n",
      "  RuntimeWarning)\n",
      "C:\\Users\\JAYESH\\Anaconda3\\lib\\site-packages\\sklearn\\covariance\\robust_covariance.py:171: RuntimeWarning: Determinant has increased; this should not happen: log(det) > log(previous_det) (-16.047010316292393 > -47.223009618168717). You may want to try with a higher value of support_fraction (current value: 0.503).\n",
      "  RuntimeWarning)\n",
      "C:\\Users\\JAYESH\\Anaconda3\\lib\\site-packages\\sklearn\\covariance\\robust_covariance.py:171: RuntimeWarning: Determinant has increased; this should not happen: log(det) > log(previous_det) (-15.400473438646426 > -43.024425436696852). You may want to try with a higher value of support_fraction (current value: 0.503).\n",
      "  RuntimeWarning)\n",
      "C:\\Users\\JAYESH\\Anaconda3\\lib\\site-packages\\sklearn\\covariance\\robust_covariance.py:171: RuntimeWarning: Determinant has increased; this should not happen: log(det) > log(previous_det) (-33.998134684618108 > -136.568574316714859). You may want to try with a higher value of support_fraction (current value: 0.503).\n",
      "  RuntimeWarning)\n",
      "C:\\Users\\JAYESH\\Anaconda3\\lib\\site-packages\\sklearn\\covariance\\robust_covariance.py:171: RuntimeWarning: Determinant has increased; this should not happen: log(det) > log(previous_det) (-33.800234542183610 > -59.809391893208058). You may want to try with a higher value of support_fraction (current value: 0.503).\n",
      "  RuntimeWarning)\n",
      "C:\\Users\\JAYESH\\Anaconda3\\lib\\site-packages\\sklearn\\covariance\\robust_covariance.py:171: RuntimeWarning: Determinant has increased; this should not happen: log(det) > log(previous_det) (-21.432538053729211 > -93.503980420133217). You may want to try with a higher value of support_fraction (current value: 0.503).\n",
      "  RuntimeWarning)\n",
      "C:\\Users\\JAYESH\\Anaconda3\\lib\\site-packages\\sklearn\\covariance\\robust_covariance.py:171: RuntimeWarning: Determinant has increased; this should not happen: log(det) > log(previous_det) (-60.568231030596834 > -100.624965283723355). You may want to try with a higher value of support_fraction (current value: 0.503).\n",
      "  RuntimeWarning)\n",
      "C:\\Users\\JAYESH\\Anaconda3\\lib\\site-packages\\sklearn\\covariance\\robust_covariance.py:171: RuntimeWarning: Determinant has increased; this should not happen: log(det) > log(previous_det) (-34.683303027093167 > -54.167756783315653). You may want to try with a higher value of support_fraction (current value: 0.503).\n",
      "  RuntimeWarning)\n",
      "C:\\Users\\JAYESH\\Anaconda3\\lib\\site-packages\\sklearn\\covariance\\robust_covariance.py:171: RuntimeWarning: Determinant has increased; this should not happen: log(det) > log(previous_det) (-24.794982205235364 > -60.313795418825748). You may want to try with a higher value of support_fraction (current value: 0.503).\n",
      "  RuntimeWarning)\n",
      "C:\\Users\\JAYESH\\Anaconda3\\lib\\site-packages\\sklearn\\covariance\\robust_covariance.py:171: RuntimeWarning: Determinant has increased; this should not happen: log(det) > log(previous_det) (-26.245547046681889 > -31.920229283503662). You may want to try with a higher value of support_fraction (current value: 0.503).\n",
      "  RuntimeWarning)\n"
     ]
    },
    {
     "name": "stderr",
     "output_type": "stream",
     "text": [
      "C:\\Users\\JAYESH\\Anaconda3\\lib\\site-packages\\sklearn\\covariance\\robust_covariance.py:171: RuntimeWarning: Determinant has increased; this should not happen: log(det) > log(previous_det) (-23.076326797965628 > -23.369108089497075). You may want to try with a higher value of support_fraction (current value: 0.503).\n",
      "  RuntimeWarning)\n",
      "C:\\Users\\JAYESH\\Anaconda3\\lib\\site-packages\\sklearn\\covariance\\robust_covariance.py:171: RuntimeWarning: Determinant has increased; this should not happen: log(det) > log(previous_det) (-24.200930022657012 > -88.547192146771991). You may want to try with a higher value of support_fraction (current value: 0.503).\n",
      "  RuntimeWarning)\n",
      "C:\\Users\\JAYESH\\Anaconda3\\lib\\site-packages\\sklearn\\covariance\\robust_covariance.py:171: RuntimeWarning: Determinant has increased; this should not happen: log(det) > log(previous_det) (-24.960328838128127 > -83.675498871934806). You may want to try with a higher value of support_fraction (current value: 0.503).\n",
      "  RuntimeWarning)\n",
      "C:\\Users\\JAYESH\\Anaconda3\\lib\\site-packages\\sklearn\\covariance\\robust_covariance.py:171: RuntimeWarning: Determinant has increased; this should not happen: log(det) > log(previous_det) (-16.425338272945915 > -20.350240641649698). You may want to try with a higher value of support_fraction (current value: 0.503).\n",
      "  RuntimeWarning)\n",
      "C:\\Users\\JAYESH\\Anaconda3\\lib\\site-packages\\sklearn\\covariance\\robust_covariance.py:171: RuntimeWarning: Determinant has increased; this should not happen: log(det) > log(previous_det) (-17.561722610354241 > -21.779236718001044). You may want to try with a higher value of support_fraction (current value: 0.503).\n",
      "  RuntimeWarning)\n",
      "C:\\Users\\JAYESH\\Anaconda3\\lib\\site-packages\\sklearn\\covariance\\robust_covariance.py:171: RuntimeWarning: Determinant has increased; this should not happen: log(det) > log(previous_det) (-13.028907443542700 > -14.510946597444864). You may want to try with a higher value of support_fraction (current value: 0.503).\n",
      "  RuntimeWarning)\n",
      "C:\\Users\\JAYESH\\Anaconda3\\lib\\site-packages\\sklearn\\covariance\\robust_covariance.py:171: RuntimeWarning: Determinant has increased; this should not happen: log(det) > log(previous_det) (-16.425338272945915 > -17.527452056201120). You may want to try with a higher value of support_fraction (current value: 0.503).\n",
      "  RuntimeWarning)\n",
      "C:\\Users\\JAYESH\\Anaconda3\\lib\\site-packages\\sklearn\\covariance\\robust_covariance.py:171: RuntimeWarning: Determinant has increased; this should not happen: log(det) > log(previous_det) (-22.494977675302213 > -53.308009866105429). You may want to try with a higher value of support_fraction (current value: 0.503).\n",
      "  RuntimeWarning)\n",
      "C:\\Users\\JAYESH\\Anaconda3\\lib\\site-packages\\sklearn\\covariance\\robust_covariance.py:171: RuntimeWarning: Determinant has increased; this should not happen: log(det) > log(previous_det) (-24.530708082059519 > -47.477757795972458). You may want to try with a higher value of support_fraction (current value: 0.503).\n",
      "  RuntimeWarning)\n",
      "C:\\Users\\JAYESH\\Anaconda3\\lib\\site-packages\\sklearn\\covariance\\robust_covariance.py:171: RuntimeWarning: Determinant has increased; this should not happen: log(det) > log(previous_det) (-12.977236811924962 > -14.089792853586083). You may want to try with a higher value of support_fraction (current value: 0.503).\n",
      "  RuntimeWarning)\n",
      "C:\\Users\\JAYESH\\Anaconda3\\lib\\site-packages\\sklearn\\covariance\\robust_covariance.py:171: RuntimeWarning: Determinant has increased; this should not happen: log(det) > log(previous_det) (-15.064098098068508 > -18.192285907467127). You may want to try with a higher value of support_fraction (current value: 0.503).\n",
      "  RuntimeWarning)\n",
      "C:\\Users\\JAYESH\\Anaconda3\\lib\\site-packages\\sklearn\\covariance\\robust_covariance.py:171: RuntimeWarning: Determinant has increased; this should not happen: log(det) > log(previous_det) (-51.138299668916368 > -123.335526545208779). You may want to try with a higher value of support_fraction (current value: 0.503).\n",
      "  RuntimeWarning)\n",
      "C:\\Users\\JAYESH\\Anaconda3\\lib\\site-packages\\sklearn\\covariance\\robust_covariance.py:171: RuntimeWarning: Determinant has increased; this should not happen: log(det) > log(previous_det) (-12.780170628543985 > -14.670339863231803). You may want to try with a higher value of support_fraction (current value: 0.503).\n",
      "  RuntimeWarning)\n",
      "C:\\Users\\JAYESH\\Anaconda3\\lib\\site-packages\\sklearn\\covariance\\robust_covariance.py:171: RuntimeWarning: Determinant has increased; this should not happen: log(det) > log(previous_det) (-28.482560175350770 > -98.059468714486783). You may want to try with a higher value of support_fraction (current value: 0.503).\n",
      "  RuntimeWarning)\n",
      "C:\\Users\\JAYESH\\Anaconda3\\lib\\site-packages\\sklearn\\covariance\\robust_covariance.py:171: RuntimeWarning: Determinant has increased; this should not happen: log(det) > log(previous_det) (-22.450047460622304 > -51.124075693703404). You may want to try with a higher value of support_fraction (current value: 0.503).\n",
      "  RuntimeWarning)\n",
      "C:\\Users\\JAYESH\\Anaconda3\\lib\\site-packages\\sklearn\\covariance\\robust_covariance.py:171: RuntimeWarning: Determinant has increased; this should not happen: log(det) > log(previous_det) (-22.450047460622304 > -53.260901254933081). You may want to try with a higher value of support_fraction (current value: 0.503).\n",
      "  RuntimeWarning)\n",
      "C:\\Users\\JAYESH\\Anaconda3\\lib\\site-packages\\sklearn\\covariance\\robust_covariance.py:171: RuntimeWarning: Determinant has increased; this should not happen: log(det) > log(previous_det) (-15.051276611511401 > -17.637807796510643). You may want to try with a higher value of support_fraction (current value: 0.503).\n",
      "  RuntimeWarning)\n",
      "C:\\Users\\JAYESH\\Anaconda3\\lib\\site-packages\\sklearn\\covariance\\robust_covariance.py:171: RuntimeWarning: Determinant has increased; this should not happen: log(det) > log(previous_det) (-15.463977095308232 > -50.772745963630101). You may want to try with a higher value of support_fraction (current value: 0.503).\n",
      "  RuntimeWarning)\n",
      "C:\\Users\\JAYESH\\Anaconda3\\lib\\site-packages\\sklearn\\covariance\\robust_covariance.py:171: RuntimeWarning: Determinant has increased; this should not happen: log(det) > log(previous_det) (-18.157513872544051 > -22.447389252206399). You may want to try with a higher value of support_fraction (current value: 0.503).\n",
      "  RuntimeWarning)\n",
      "C:\\Users\\JAYESH\\Anaconda3\\lib\\site-packages\\sklearn\\covariance\\robust_covariance.py:171: RuntimeWarning: Determinant has increased; this should not happen: log(det) > log(previous_det) (-38.433739119492728 > -62.272934494038907). You may want to try with a higher value of support_fraction (current value: 0.503).\n",
      "  RuntimeWarning)\n",
      "C:\\Users\\JAYESH\\Anaconda3\\lib\\site-packages\\sklearn\\covariance\\robust_covariance.py:171: RuntimeWarning: Determinant has increased; this should not happen: log(det) > log(previous_det) (-23.638076884156810 > -25.426491984125747). You may want to try with a higher value of support_fraction (current value: 0.503).\n",
      "  RuntimeWarning)\n",
      "C:\\Users\\JAYESH\\Anaconda3\\lib\\site-packages\\sklearn\\covariance\\robust_covariance.py:171: RuntimeWarning: Determinant has increased; this should not happen: log(det) > log(previous_det) (-30.217213888589527 > -49.092231432633909). You may want to try with a higher value of support_fraction (current value: 0.503).\n",
      "  RuntimeWarning)\n",
      "C:\\Users\\JAYESH\\Anaconda3\\lib\\site-packages\\sklearn\\covariance\\robust_covariance.py:171: RuntimeWarning: Determinant has increased; this should not happen: log(det) > log(previous_det) (-9.781202097040556 > -10.642712822896058). You may want to try with a higher value of support_fraction (current value: 0.503).\n",
      "  RuntimeWarning)\n",
      "C:\\Users\\JAYESH\\Anaconda3\\lib\\site-packages\\sklearn\\covariance\\robust_covariance.py:171: RuntimeWarning: Determinant has increased; this should not happen: log(det) > log(previous_det) (-22.414939238330163 > -31.325392566683693). You may want to try with a higher value of support_fraction (current value: 0.503).\n",
      "  RuntimeWarning)\n",
      "C:\\Users\\JAYESH\\Anaconda3\\lib\\site-packages\\sklearn\\covariance\\robust_covariance.py:171: RuntimeWarning: Determinant has increased; this should not happen: log(det) > log(previous_det) (-25.520320931083479 > -25.587718619938904). You may want to try with a higher value of support_fraction (current value: 0.503).\n",
      "  RuntimeWarning)\n",
      "C:\\Users\\JAYESH\\Anaconda3\\lib\\site-packages\\sklearn\\covariance\\robust_covariance.py:171: RuntimeWarning: Determinant has increased; this should not happen: log(det) > log(previous_det) (-14.250108100582519 > -17.622538319748912). You may want to try with a higher value of support_fraction (current value: 0.503).\n",
      "  RuntimeWarning)\n"
     ]
    },
    {
     "name": "stderr",
     "output_type": "stream",
     "text": [
      "C:\\Users\\JAYESH\\Anaconda3\\lib\\site-packages\\sklearn\\covariance\\robust_covariance.py:171: RuntimeWarning: Determinant has increased; this should not happen: log(det) > log(previous_det) (-14.255787630430957 > -15.961360483874344). You may want to try with a higher value of support_fraction (current value: 0.503).\n",
      "  RuntimeWarning)\n",
      "C:\\Users\\JAYESH\\Anaconda3\\lib\\site-packages\\sklearn\\covariance\\robust_covariance.py:171: RuntimeWarning: Determinant has increased; this should not happen: log(det) > log(previous_det) (-13.406830411360632 > -17.758567106361230). You may want to try with a higher value of support_fraction (current value: 0.503).\n",
      "  RuntimeWarning)\n",
      "C:\\Users\\JAYESH\\Anaconda3\\lib\\site-packages\\sklearn\\covariance\\robust_covariance.py:171: RuntimeWarning: Determinant has increased; this should not happen: log(det) > log(previous_det) (-10.944615653887769 > -13.596781795972909). You may want to try with a higher value of support_fraction (current value: 0.503).\n",
      "  RuntimeWarning)\n",
      "C:\\Users\\JAYESH\\Anaconda3\\lib\\site-packages\\sklearn\\covariance\\robust_covariance.py:171: RuntimeWarning: Determinant has increased; this should not happen: log(det) > log(previous_det) (-33.144263181191725 > -141.893287946947765). You may want to try with a higher value of support_fraction (current value: 0.503).\n",
      "  RuntimeWarning)\n",
      "C:\\Users\\JAYESH\\Anaconda3\\lib\\site-packages\\sklearn\\covariance\\robust_covariance.py:171: RuntimeWarning: Determinant has increased; this should not happen: log(det) > log(previous_det) (-18.207678859113127 > -20.573095125345340). You may want to try with a higher value of support_fraction (current value: 0.503).\n",
      "  RuntimeWarning)\n",
      "C:\\Users\\JAYESH\\Anaconda3\\lib\\site-packages\\sklearn\\covariance\\robust_covariance.py:171: RuntimeWarning: Determinant has increased; this should not happen: log(det) > log(previous_det) (-25.634279821271051 > -26.117564429861059). You may want to try with a higher value of support_fraction (current value: 0.503).\n",
      "  RuntimeWarning)\n",
      "C:\\Users\\JAYESH\\Anaconda3\\lib\\site-packages\\sklearn\\covariance\\robust_covariance.py:171: RuntimeWarning: Determinant has increased; this should not happen: log(det) > log(previous_det) (-25.853141907057481 > -50.614899789326287). You may want to try with a higher value of support_fraction (current value: 0.503).\n",
      "  RuntimeWarning)\n",
      "C:\\Users\\JAYESH\\Anaconda3\\lib\\site-packages\\sklearn\\covariance\\robust_covariance.py:171: RuntimeWarning: Determinant has increased; this should not happen: log(det) > log(previous_det) (-25.853141907057481 > -33.124961727016739). You may want to try with a higher value of support_fraction (current value: 0.503).\n",
      "  RuntimeWarning)\n",
      "C:\\Users\\JAYESH\\Anaconda3\\lib\\site-packages\\sklearn\\covariance\\robust_covariance.py:171: RuntimeWarning: Determinant has increased; this should not happen: log(det) > log(previous_det) (-29.854565985307033 > -95.527728364785034). You may want to try with a higher value of support_fraction (current value: 0.503).\n",
      "  RuntimeWarning)\n",
      "C:\\Users\\JAYESH\\Anaconda3\\lib\\site-packages\\sklearn\\covariance\\robust_covariance.py:171: RuntimeWarning: Determinant has increased; this should not happen: log(det) > log(previous_det) (-31.345349268779152 > -54.730825689061732). You may want to try with a higher value of support_fraction (current value: 0.503).\n",
      "  RuntimeWarning)\n",
      "C:\\Users\\JAYESH\\Anaconda3\\lib\\site-packages\\sklearn\\covariance\\robust_covariance.py:171: RuntimeWarning: Determinant has increased; this should not happen: log(det) > log(previous_det) (-18.866870953908297 > -97.937135593242687). You may want to try with a higher value of support_fraction (current value: 0.503).\n",
      "  RuntimeWarning)\n",
      "C:\\Users\\JAYESH\\Anaconda3\\lib\\site-packages\\sklearn\\covariance\\robust_covariance.py:171: RuntimeWarning: Determinant has increased; this should not happen: log(det) > log(previous_det) (-11.147827977520064 > -17.171934581676283). You may want to try with a higher value of support_fraction (current value: 0.503).\n",
      "  RuntimeWarning)\n",
      "C:\\Users\\JAYESH\\Anaconda3\\lib\\site-packages\\sklearn\\covariance\\robust_covariance.py:171: RuntimeWarning: Determinant has increased; this should not happen: log(det) > log(previous_det) (-16.492144107105979 > -17.465463127083858). You may want to try with a higher value of support_fraction (current value: 0.503).\n",
      "  RuntimeWarning)\n",
      "C:\\Users\\JAYESH\\Anaconda3\\lib\\site-packages\\sklearn\\covariance\\robust_covariance.py:171: RuntimeWarning: Determinant has increased; this should not happen: log(det) > log(previous_det) (-16.492144107105979 > -19.758470334656305). You may want to try with a higher value of support_fraction (current value: 0.503).\n",
      "  RuntimeWarning)\n",
      "C:\\Users\\JAYESH\\Anaconda3\\lib\\site-packages\\sklearn\\covariance\\robust_covariance.py:171: RuntimeWarning: Determinant has increased; this should not happen: log(det) > log(previous_det) (-17.072718114842516 > -20.034729837992089). You may want to try with a higher value of support_fraction (current value: 0.503).\n",
      "  RuntimeWarning)\n",
      "C:\\Users\\JAYESH\\Anaconda3\\lib\\site-packages\\sklearn\\covariance\\robust_covariance.py:171: RuntimeWarning: Determinant has increased; this should not happen: log(det) > log(previous_det) (-14.396641716231173 > -24.396896428775072). You may want to try with a higher value of support_fraction (current value: 0.503).\n",
      "  RuntimeWarning)\n",
      "C:\\Users\\JAYESH\\Anaconda3\\lib\\site-packages\\sklearn\\covariance\\robust_covariance.py:171: RuntimeWarning: Determinant has increased; this should not happen: log(det) > log(previous_det) (-18.451146658853606 > -94.234405329667908). You may want to try with a higher value of support_fraction (current value: 0.503).\n",
      "  RuntimeWarning)\n",
      "C:\\Users\\JAYESH\\Anaconda3\\lib\\site-packages\\sklearn\\covariance\\robust_covariance.py:171: RuntimeWarning: Determinant has increased; this should not happen: log(det) > log(previous_det) (-17.053172551097969 > -17.956966811870529). You may want to try with a higher value of support_fraction (current value: 0.503).\n",
      "  RuntimeWarning)\n",
      "C:\\Users\\JAYESH\\Anaconda3\\lib\\site-packages\\sklearn\\covariance\\robust_covariance.py:171: RuntimeWarning: Determinant has increased; this should not happen: log(det) > log(previous_det) (-15.696634197310527 > -53.956012536208334). You may want to try with a higher value of support_fraction (current value: 0.503).\n",
      "  RuntimeWarning)\n",
      "C:\\Users\\JAYESH\\Anaconda3\\lib\\site-packages\\sklearn\\covariance\\robust_covariance.py:171: RuntimeWarning: Determinant has increased; this should not happen: log(det) > log(previous_det) (-17.053172551097969 > -18.625964677877661). You may want to try with a higher value of support_fraction (current value: 0.503).\n",
      "  RuntimeWarning)\n",
      "C:\\Users\\JAYESH\\Anaconda3\\lib\\site-packages\\sklearn\\covariance\\robust_covariance.py:171: RuntimeWarning: Determinant has increased; this should not happen: log(det) > log(previous_det) (-15.696634197310527 > -46.721806747585866). You may want to try with a higher value of support_fraction (current value: 0.503).\n",
      "  RuntimeWarning)\n",
      "C:\\Users\\JAYESH\\Anaconda3\\lib\\site-packages\\sklearn\\covariance\\robust_covariance.py:171: RuntimeWarning: Determinant has increased; this should not happen: log(det) > log(previous_det) (-15.696634197310527 > -18.245907931255786). You may want to try with a higher value of support_fraction (current value: 0.503).\n",
      "  RuntimeWarning)\n",
      "C:\\Users\\JAYESH\\Anaconda3\\lib\\site-packages\\sklearn\\covariance\\robust_covariance.py:171: RuntimeWarning: Determinant has increased; this should not happen: log(det) > log(previous_det) (-15.696634197310527 > -17.808539058051359). You may want to try with a higher value of support_fraction (current value: 0.503).\n",
      "  RuntimeWarning)\n",
      "C:\\Users\\JAYESH\\Anaconda3\\lib\\site-packages\\sklearn\\covariance\\robust_covariance.py:171: RuntimeWarning: Determinant has increased; this should not happen: log(det) > log(previous_det) (-14.793808127159467 > -14.870511975947784). You may want to try with a higher value of support_fraction (current value: 0.503).\n",
      "  RuntimeWarning)\n",
      "C:\\Users\\JAYESH\\Anaconda3\\lib\\site-packages\\sklearn\\covariance\\robust_covariance.py:171: RuntimeWarning: Determinant has increased; this should not happen: log(det) > log(previous_det) (-27.694513438121874 > -61.451082478082952). You may want to try with a higher value of support_fraction (current value: 0.503).\n",
      "  RuntimeWarning)\n"
     ]
    },
    {
     "name": "stderr",
     "output_type": "stream",
     "text": [
      "C:\\Users\\JAYESH\\Anaconda3\\lib\\site-packages\\sklearn\\covariance\\robust_covariance.py:171: RuntimeWarning: Determinant has increased; this should not happen: log(det) > log(previous_det) (-36.044961551433992 > -64.558733384174531). You may want to try with a higher value of support_fraction (current value: 0.503).\n",
      "  RuntimeWarning)\n",
      "C:\\Users\\JAYESH\\Anaconda3\\lib\\site-packages\\sklearn\\covariance\\robust_covariance.py:171: RuntimeWarning: Determinant has increased; this should not happen: log(det) > log(previous_det) (-37.236859597029515 > -58.346675728148035). You may want to try with a higher value of support_fraction (current value: 0.503).\n",
      "  RuntimeWarning)\n",
      "C:\\Users\\JAYESH\\Anaconda3\\lib\\site-packages\\sklearn\\covariance\\robust_covariance.py:171: RuntimeWarning: Determinant has increased; this should not happen: log(det) > log(previous_det) (-64.558733384174531 > -93.676860267968607). You may want to try with a higher value of support_fraction (current value: 0.503).\n",
      "  RuntimeWarning)\n",
      "C:\\Users\\JAYESH\\Anaconda3\\lib\\site-packages\\sklearn\\covariance\\robust_covariance.py:171: RuntimeWarning: Determinant has increased; this should not happen: log(det) > log(previous_det) (-18.379775604725793 > -22.669504991844654). You may want to try with a higher value of support_fraction (current value: 0.503).\n",
      "  RuntimeWarning)\n",
      "C:\\Users\\JAYESH\\Anaconda3\\lib\\site-packages\\sklearn\\covariance\\robust_covariance.py:171: RuntimeWarning: Determinant has increased; this should not happen: log(det) > log(previous_det) (-17.660203142109303 > -22.674978281302067). You may want to try with a higher value of support_fraction (current value: 0.503).\n",
      "  RuntimeWarning)\n",
      "C:\\Users\\JAYESH\\Anaconda3\\lib\\site-packages\\sklearn\\covariance\\robust_covariance.py:171: RuntimeWarning: Determinant has increased; this should not happen: log(det) > log(previous_det) (-19.263148579138793 > -62.133622961596487). You may want to try with a higher value of support_fraction (current value: 0.503).\n",
      "  RuntimeWarning)\n",
      "C:\\Users\\JAYESH\\Anaconda3\\lib\\site-packages\\sklearn\\covariance\\robust_covariance.py:171: RuntimeWarning: Determinant has increased; this should not happen: log(det) > log(previous_det) (-21.483496982868079 > -24.608055154543585). You may want to try with a higher value of support_fraction (current value: 0.503).\n",
      "  RuntimeWarning)\n",
      "C:\\Users\\JAYESH\\Anaconda3\\lib\\site-packages\\sklearn\\covariance\\robust_covariance.py:171: RuntimeWarning: Determinant has increased; this should not happen: log(det) > log(previous_det) (-25.470371975767250 > -28.068108819240685). You may want to try with a higher value of support_fraction (current value: 0.503).\n",
      "  RuntimeWarning)\n",
      "C:\\Users\\JAYESH\\Anaconda3\\lib\\site-packages\\sklearn\\covariance\\robust_covariance.py:171: RuntimeWarning: Determinant has increased; this should not happen: log(det) > log(previous_det) (-56.691262273009031 > -95.346990704992209). You may want to try with a higher value of support_fraction (current value: 0.503).\n",
      "  RuntimeWarning)\n",
      "C:\\Users\\JAYESH\\Anaconda3\\lib\\site-packages\\sklearn\\covariance\\robust_covariance.py:171: RuntimeWarning: Determinant has increased; this should not happen: log(det) > log(previous_det) (-48.795136807136387 > -60.883232863194294). You may want to try with a higher value of support_fraction (current value: 0.503).\n",
      "  RuntimeWarning)\n",
      "C:\\Users\\JAYESH\\Anaconda3\\lib\\site-packages\\sklearn\\covariance\\robust_covariance.py:171: RuntimeWarning: Determinant has increased; this should not happen: log(det) > log(previous_det) (-42.273513643096628 > -56.691262273009031). You may want to try with a higher value of support_fraction (current value: 0.503).\n",
      "  RuntimeWarning)\n",
      "C:\\Users\\JAYESH\\Anaconda3\\lib\\site-packages\\sklearn\\covariance\\robust_covariance.py:171: RuntimeWarning: Determinant has increased; this should not happen: log(det) > log(previous_det) (-42.615974819700867 > -56.978296692571163). You may want to try with a higher value of support_fraction (current value: 0.503).\n",
      "  RuntimeWarning)\n",
      "C:\\Users\\JAYESH\\Anaconda3\\lib\\site-packages\\sklearn\\covariance\\robust_covariance.py:171: RuntimeWarning: Determinant has increased; this should not happen: log(det) > log(previous_det) (-16.370468560137674 > -19.415408010307292). You may want to try with a higher value of support_fraction (current value: 0.503).\n",
      "  RuntimeWarning)\n",
      "C:\\Users\\JAYESH\\Anaconda3\\lib\\site-packages\\sklearn\\covariance\\robust_covariance.py:171: RuntimeWarning: Determinant has increased; this should not happen: log(det) > log(previous_det) (-12.836690854983075 > -55.138998193925019). You may want to try with a higher value of support_fraction (current value: 0.503).\n",
      "  RuntimeWarning)\n",
      "C:\\Users\\JAYESH\\Anaconda3\\lib\\site-packages\\sklearn\\covariance\\robust_covariance.py:171: RuntimeWarning: Determinant has increased; this should not happen: log(det) > log(previous_det) (-12.836690854983075 > -14.283731088528201). You may want to try with a higher value of support_fraction (current value: 0.503).\n",
      "  RuntimeWarning)\n",
      "C:\\Users\\JAYESH\\Anaconda3\\lib\\site-packages\\sklearn\\covariance\\robust_covariance.py:171: RuntimeWarning: Determinant has increased; this should not happen: log(det) > log(previous_det) (-12.836690854983075 > -18.094482603994170). You may want to try with a higher value of support_fraction (current value: 0.503).\n",
      "  RuntimeWarning)\n",
      "C:\\Users\\JAYESH\\Anaconda3\\lib\\site-packages\\sklearn\\covariance\\robust_covariance.py:171: RuntimeWarning: Determinant has increased; this should not happen: log(det) > log(previous_det) (-29.192828350869057 > -29.299727619627816). You may want to try with a higher value of support_fraction (current value: 0.503).\n",
      "  RuntimeWarning)\n",
      "C:\\Users\\JAYESH\\Anaconda3\\lib\\site-packages\\sklearn\\covariance\\robust_covariance.py:171: RuntimeWarning: Determinant has increased; this should not happen: log(det) > log(previous_det) (-18.017552624034437 > -21.645655078003749). You may want to try with a higher value of support_fraction (current value: 0.503).\n",
      "  RuntimeWarning)\n",
      "C:\\Users\\JAYESH\\Anaconda3\\lib\\site-packages\\sklearn\\covariance\\robust_covariance.py:171: RuntimeWarning: Determinant has increased; this should not happen: log(det) > log(previous_det) (-18.538493329272022 > -80.622433002873180). You may want to try with a higher value of support_fraction (current value: 0.503).\n",
      "  RuntimeWarning)\n",
      "C:\\Users\\JAYESH\\Anaconda3\\lib\\site-packages\\sklearn\\covariance\\robust_covariance.py:171: RuntimeWarning: Determinant has increased; this should not happen: log(det) > log(previous_det) (-17.519655078640831 > -19.164066454024997). You may want to try with a higher value of support_fraction (current value: 0.503).\n",
      "  RuntimeWarning)\n",
      "C:\\Users\\JAYESH\\Anaconda3\\lib\\site-packages\\sklearn\\covariance\\robust_covariance.py:171: RuntimeWarning: Determinant has increased; this should not happen: log(det) > log(previous_det) (-15.772723848494270 > -87.349234272859249). You may want to try with a higher value of support_fraction (current value: 0.503).\n",
      "  RuntimeWarning)\n",
      "C:\\Users\\JAYESH\\Anaconda3\\lib\\site-packages\\sklearn\\covariance\\robust_covariance.py:171: RuntimeWarning: Determinant has increased; this should not happen: log(det) > log(previous_det) (-18.204567235889201 > -22.459651521063957). You may want to try with a higher value of support_fraction (current value: 0.503).\n",
      "  RuntimeWarning)\n",
      "C:\\Users\\JAYESH\\Anaconda3\\lib\\site-packages\\sklearn\\covariance\\robust_covariance.py:171: RuntimeWarning: Determinant has increased; this should not happen: log(det) > log(previous_det) (-16.885414760990564 > -19.531848686337298). You may want to try with a higher value of support_fraction (current value: 0.503).\n",
      "  RuntimeWarning)\n",
      "C:\\Users\\JAYESH\\Anaconda3\\lib\\site-packages\\sklearn\\covariance\\robust_covariance.py:171: RuntimeWarning: Determinant has increased; this should not happen: log(det) > log(previous_det) (-18.753087389144333 > -26.150175902608069). You may want to try with a higher value of support_fraction (current value: 0.503).\n",
      "  RuntimeWarning)\n",
      "C:\\Users\\JAYESH\\Anaconda3\\lib\\site-packages\\sklearn\\covariance\\robust_covariance.py:171: RuntimeWarning: Determinant has increased; this should not happen: log(det) > log(previous_det) (-12.281066897503784 > -12.795347537547455). You may want to try with a higher value of support_fraction (current value: 0.503).\n",
      "  RuntimeWarning)\n",
      "C:\\Users\\JAYESH\\Anaconda3\\lib\\site-packages\\sklearn\\covariance\\robust_covariance.py:171: RuntimeWarning: Determinant has increased; this should not happen: log(det) > log(previous_det) (-34.675317798744089 > -103.348472986747083). You may want to try with a higher value of support_fraction (current value: 0.503).\n",
      "  RuntimeWarning)\n"
     ]
    },
    {
     "name": "stderr",
     "output_type": "stream",
     "text": [
      "C:\\Users\\JAYESH\\Anaconda3\\lib\\site-packages\\sklearn\\covariance\\robust_covariance.py:171: RuntimeWarning: Determinant has increased; this should not happen: log(det) > log(previous_det) (-21.804865384596333 > -50.452464370268991). You may want to try with a higher value of support_fraction (current value: 0.503).\n",
      "  RuntimeWarning)\n",
      "C:\\Users\\JAYESH\\Anaconda3\\lib\\site-packages\\sklearn\\covariance\\robust_covariance.py:171: RuntimeWarning: Determinant has increased; this should not happen: log(det) > log(previous_det) (-23.560901518066181 > -43.904884230380667). You may want to try with a higher value of support_fraction (current value: 0.503).\n",
      "  RuntimeWarning)\n",
      "C:\\Users\\JAYESH\\Anaconda3\\lib\\site-packages\\sklearn\\covariance\\robust_covariance.py:171: RuntimeWarning: Determinant has increased; this should not happen: log(det) > log(previous_det) (-21.637810191928619 > -21.784841528113496). You may want to try with a higher value of support_fraction (current value: 0.503).\n",
      "  RuntimeWarning)\n",
      "C:\\Users\\JAYESH\\Anaconda3\\lib\\site-packages\\sklearn\\covariance\\robust_covariance.py:171: RuntimeWarning: Determinant has increased; this should not happen: log(det) > log(previous_det) (-17.927154692691495 > -46.177599607085945). You may want to try with a higher value of support_fraction (current value: 0.503).\n",
      "  RuntimeWarning)\n",
      "C:\\Users\\JAYESH\\Anaconda3\\lib\\site-packages\\sklearn\\covariance\\robust_covariance.py:171: RuntimeWarning: Determinant has increased; this should not happen: log(det) > log(previous_det) (-26.520843880995638 > -62.218086456915316). You may want to try with a higher value of support_fraction (current value: 0.503).\n",
      "  RuntimeWarning)\n",
      "C:\\Users\\JAYESH\\Anaconda3\\lib\\site-packages\\sklearn\\covariance\\robust_covariance.py:171: RuntimeWarning: Determinant has increased; this should not happen: log(det) > log(previous_det) (-22.197952450137308 > -60.267687521125453). You may want to try with a higher value of support_fraction (current value: 0.503).\n",
      "  RuntimeWarning)\n",
      "C:\\Users\\JAYESH\\Anaconda3\\lib\\site-packages\\sklearn\\covariance\\robust_covariance.py:171: RuntimeWarning: Determinant has increased; this should not happen: log(det) > log(previous_det) (-18.056044930595029 > -18.767598194729899). You may want to try with a higher value of support_fraction (current value: 0.503).\n",
      "  RuntimeWarning)\n",
      "C:\\Users\\JAYESH\\Anaconda3\\lib\\site-packages\\sklearn\\covariance\\robust_covariance.py:171: RuntimeWarning: Determinant has increased; this should not happen: log(det) > log(previous_det) (-20.047358686087986 > -57.662252246776539). You may want to try with a higher value of support_fraction (current value: 0.503).\n",
      "  RuntimeWarning)\n",
      "C:\\Users\\JAYESH\\Anaconda3\\lib\\site-packages\\sklearn\\covariance\\robust_covariance.py:171: RuntimeWarning: Determinant has increased; this should not happen: log(det) > log(previous_det) (-22.836954205932351 > -58.113509925925399). You may want to try with a higher value of support_fraction (current value: 0.503).\n",
      "  RuntimeWarning)\n",
      "C:\\Users\\JAYESH\\Anaconda3\\lib\\site-packages\\sklearn\\covariance\\robust_covariance.py:171: RuntimeWarning: Determinant has increased; this should not happen: log(det) > log(previous_det) (-22.836954205932351 > -27.960604040444995). You may want to try with a higher value of support_fraction (current value: 0.503).\n",
      "  RuntimeWarning)\n",
      "C:\\Users\\JAYESH\\Anaconda3\\lib\\site-packages\\sklearn\\covariance\\robust_covariance.py:171: RuntimeWarning: Determinant has increased; this should not happen: log(det) > log(previous_det) (-27.728841428771894 > -50.956432457832435). You may want to try with a higher value of support_fraction (current value: 0.503).\n",
      "  RuntimeWarning)\n",
      "C:\\Users\\JAYESH\\Anaconda3\\lib\\site-packages\\sklearn\\covariance\\robust_covariance.py:171: RuntimeWarning: Determinant has increased; this should not happen: log(det) > log(previous_det) (-17.162872485516857 > -18.725525838794756). You may want to try with a higher value of support_fraction (current value: 0.503).\n",
      "  RuntimeWarning)\n",
      "C:\\Users\\JAYESH\\Anaconda3\\lib\\site-packages\\sklearn\\covariance\\robust_covariance.py:171: RuntimeWarning: Determinant has increased; this should not happen: log(det) > log(previous_det) (-26.702558527786699 > -57.898751495758177). You may want to try with a higher value of support_fraction (current value: 0.503).\n",
      "  RuntimeWarning)\n",
      "C:\\Users\\JAYESH\\Anaconda3\\lib\\site-packages\\sklearn\\covariance\\robust_covariance.py:171: RuntimeWarning: Determinant has increased; this should not happen: log(det) > log(previous_det) (-27.914685967164036 > -89.467174552520390). You may want to try with a higher value of support_fraction (current value: 0.503).\n",
      "  RuntimeWarning)\n",
      "C:\\Users\\JAYESH\\Anaconda3\\lib\\site-packages\\sklearn\\covariance\\robust_covariance.py:171: RuntimeWarning: Determinant has increased; this should not happen: log(det) > log(previous_det) (-57.642440264475319 > -84.054199039559961). You may want to try with a higher value of support_fraction (current value: 0.503).\n",
      "  RuntimeWarning)\n",
      "C:\\Users\\JAYESH\\Anaconda3\\lib\\site-packages\\sklearn\\covariance\\robust_covariance.py:171: RuntimeWarning: Determinant has increased; this should not happen: log(det) > log(previous_det) (-17.431210534280812 > -117.192811647572228). You may want to try with a higher value of support_fraction (current value: 0.503).\n",
      "  RuntimeWarning)\n",
      "C:\\Users\\JAYESH\\Anaconda3\\lib\\site-packages\\sklearn\\covariance\\robust_covariance.py:171: RuntimeWarning: Determinant has increased; this should not happen: log(det) > log(previous_det) (-10.198367851382717 > -12.722259616292728). You may want to try with a higher value of support_fraction (current value: 0.503).\n",
      "  RuntimeWarning)\n",
      "C:\\Users\\JAYESH\\Anaconda3\\lib\\site-packages\\sklearn\\covariance\\robust_covariance.py:171: RuntimeWarning: Determinant has increased; this should not happen: log(det) > log(previous_det) (-11.745813758186072 > -22.018703904031316). You may want to try with a higher value of support_fraction (current value: 0.503).\n",
      "  RuntimeWarning)\n",
      "C:\\Users\\JAYESH\\Anaconda3\\lib\\site-packages\\sklearn\\covariance\\robust_covariance.py:171: RuntimeWarning: Determinant has increased; this should not happen: log(det) > log(previous_det) (-16.878374905113120 > -17.872475118659583). You may want to try with a higher value of support_fraction (current value: 0.503).\n",
      "  RuntimeWarning)\n",
      "C:\\Users\\JAYESH\\Anaconda3\\lib\\site-packages\\sklearn\\covariance\\robust_covariance.py:171: RuntimeWarning: Determinant has increased; this should not happen: log(det) > log(previous_det) (-14.707041034736225 > -21.716196732267960). You may want to try with a higher value of support_fraction (current value: 0.503).\n",
      "  RuntimeWarning)\n",
      "C:\\Users\\JAYESH\\Anaconda3\\lib\\site-packages\\sklearn\\covariance\\robust_covariance.py:171: RuntimeWarning: Determinant has increased; this should not happen: log(det) > log(previous_det) (-14.707041034736225 > -24.663484637658936). You may want to try with a higher value of support_fraction (current value: 0.503).\n",
      "  RuntimeWarning)\n",
      "C:\\Users\\JAYESH\\Anaconda3\\lib\\site-packages\\sklearn\\covariance\\robust_covariance.py:171: RuntimeWarning: Determinant has increased; this should not happen: log(det) > log(previous_det) (-30.163990943172116 > -48.689916690078086). You may want to try with a higher value of support_fraction (current value: 0.503).\n",
      "  RuntimeWarning)\n",
      "C:\\Users\\JAYESH\\Anaconda3\\lib\\site-packages\\sklearn\\covariance\\robust_covariance.py:171: RuntimeWarning: Determinant has increased; this should not happen: log(det) > log(previous_det) (-23.149401643657754 > -51.691680786297496). You may want to try with a higher value of support_fraction (current value: 0.503).\n",
      "  RuntimeWarning)\n",
      "C:\\Users\\JAYESH\\Anaconda3\\lib\\site-packages\\sklearn\\covariance\\robust_covariance.py:171: RuntimeWarning: Determinant has increased; this should not happen: log(det) > log(previous_det) (-23.703420383432110 > -24.782522226335502). You may want to try with a higher value of support_fraction (current value: 0.503).\n",
      "  RuntimeWarning)\n",
      "C:\\Users\\JAYESH\\Anaconda3\\lib\\site-packages\\sklearn\\covariance\\robust_covariance.py:171: RuntimeWarning: Determinant has increased; this should not happen: log(det) > log(previous_det) (-20.956121497322965 > -22.045202529988849). You may want to try with a higher value of support_fraction (current value: 0.503).\n",
      "  RuntimeWarning)\n"
     ]
    },
    {
     "name": "stderr",
     "output_type": "stream",
     "text": [
      "C:\\Users\\JAYESH\\Anaconda3\\lib\\site-packages\\sklearn\\covariance\\robust_covariance.py:171: RuntimeWarning: Determinant has increased; this should not happen: log(det) > log(previous_det) (-29.744797481148581 > -57.428614600926856). You may want to try with a higher value of support_fraction (current value: 0.503).\n",
      "  RuntimeWarning)\n",
      "C:\\Users\\JAYESH\\Anaconda3\\lib\\site-packages\\sklearn\\covariance\\robust_covariance.py:171: RuntimeWarning: Determinant has increased; this should not happen: log(det) > log(previous_det) (-35.355700435467348 > -66.115182344038303). You may want to try with a higher value of support_fraction (current value: 0.503).\n",
      "  RuntimeWarning)\n",
      "C:\\Users\\JAYESH\\Anaconda3\\lib\\site-packages\\sklearn\\covariance\\robust_covariance.py:171: RuntimeWarning: Determinant has increased; this should not happen: log(det) > log(previous_det) (-23.797324416942580 > -94.097244693206747). You may want to try with a higher value of support_fraction (current value: 0.503).\n",
      "  RuntimeWarning)\n",
      "C:\\Users\\JAYESH\\Anaconda3\\lib\\site-packages\\sklearn\\covariance\\robust_covariance.py:171: RuntimeWarning: Determinant has increased; this should not happen: log(det) > log(previous_det) (-19.831026402732682 > -20.930668498164042). You may want to try with a higher value of support_fraction (current value: 0.503).\n",
      "  RuntimeWarning)\n",
      "C:\\Users\\JAYESH\\Anaconda3\\lib\\site-packages\\sklearn\\covariance\\robust_covariance.py:171: RuntimeWarning: Determinant has increased; this should not happen: log(det) > log(previous_det) (-26.071054028572959 > -48.917051222716417). You may want to try with a higher value of support_fraction (current value: 0.503).\n",
      "  RuntimeWarning)\n",
      "C:\\Users\\JAYESH\\Anaconda3\\lib\\site-packages\\sklearn\\covariance\\robust_covariance.py:171: RuntimeWarning: Determinant has increased; this should not happen: log(det) > log(previous_det) (-15.030750801776207 > -48.674473875302894). You may want to try with a higher value of support_fraction (current value: 0.503).\n",
      "  RuntimeWarning)\n",
      "C:\\Users\\JAYESH\\Anaconda3\\lib\\site-packages\\sklearn\\covariance\\robust_covariance.py:171: RuntimeWarning: Determinant has increased; this should not happen: log(det) > log(previous_det) (-14.395623170957705 > -19.131175322214691). You may want to try with a higher value of support_fraction (current value: 0.503).\n",
      "  RuntimeWarning)\n",
      "C:\\Users\\JAYESH\\Anaconda3\\lib\\site-packages\\sklearn\\covariance\\robust_covariance.py:171: RuntimeWarning: Determinant has increased; this should not happen: log(det) > log(previous_det) (-17.473186820354513 > -22.698548162622593). You may want to try with a higher value of support_fraction (current value: 0.503).\n",
      "  RuntimeWarning)\n",
      "C:\\Users\\JAYESH\\Anaconda3\\lib\\site-packages\\sklearn\\covariance\\robust_covariance.py:171: RuntimeWarning: Determinant has increased; this should not happen: log(det) > log(previous_det) (-24.521723265291708 > -29.737539750390994). You may want to try with a higher value of support_fraction (current value: 0.503).\n",
      "  RuntimeWarning)\n",
      "C:\\Users\\JAYESH\\Anaconda3\\lib\\site-packages\\sklearn\\covariance\\robust_covariance.py:171: RuntimeWarning: Determinant has increased; this should not happen: log(det) > log(previous_det) (-20.415354846237481 > -25.764110077918378). You may want to try with a higher value of support_fraction (current value: 0.503).\n",
      "  RuntimeWarning)\n",
      "C:\\Users\\JAYESH\\Anaconda3\\lib\\site-packages\\sklearn\\covariance\\robust_covariance.py:171: RuntimeWarning: Determinant has increased; this should not happen: log(det) > log(previous_det) (-23.100238509819906 > -50.408700869358078). You may want to try with a higher value of support_fraction (current value: 0.503).\n",
      "  RuntimeWarning)\n",
      "C:\\Users\\JAYESH\\Anaconda3\\lib\\site-packages\\sklearn\\covariance\\robust_covariance.py:171: RuntimeWarning: Determinant has increased; this should not happen: log(det) > log(previous_det) (-17.525715719636182 > -19.444012652685522). You may want to try with a higher value of support_fraction (current value: 0.503).\n",
      "  RuntimeWarning)\n",
      "C:\\Users\\JAYESH\\Anaconda3\\lib\\site-packages\\sklearn\\covariance\\robust_covariance.py:171: RuntimeWarning: Determinant has increased; this should not happen: log(det) > log(previous_det) (-27.705763640232792 > -85.179153610064716). You may want to try with a higher value of support_fraction (current value: 0.503).\n",
      "  RuntimeWarning)\n",
      "C:\\Users\\JAYESH\\Anaconda3\\lib\\site-packages\\sklearn\\covariance\\robust_covariance.py:171: RuntimeWarning: Determinant has increased; this should not happen: log(det) > log(previous_det) (-14.226690833249435 > -43.397814198938157). You may want to try with a higher value of support_fraction (current value: 0.503).\n",
      "  RuntimeWarning)\n",
      "C:\\Users\\JAYESH\\Anaconda3\\lib\\site-packages\\sklearn\\covariance\\robust_covariance.py:171: RuntimeWarning: Determinant has increased; this should not happen: log(det) > log(previous_det) (-14.845362543867829 > -52.185488194983328). You may want to try with a higher value of support_fraction (current value: 0.503).\n",
      "  RuntimeWarning)\n",
      "C:\\Users\\JAYESH\\Anaconda3\\lib\\site-packages\\sklearn\\covariance\\robust_covariance.py:171: RuntimeWarning: Determinant has increased; this should not happen: log(det) > log(previous_det) (-13.307475560703596 > -40.446482874138326). You may want to try with a higher value of support_fraction (current value: 0.503).\n",
      "  RuntimeWarning)\n",
      "C:\\Users\\JAYESH\\Anaconda3\\lib\\site-packages\\sklearn\\covariance\\robust_covariance.py:171: RuntimeWarning: Determinant has increased; this should not happen: log(det) > log(previous_det) (-92.287011500825741 > -92.639827623873003). You may want to try with a higher value of support_fraction (current value: 0.501).\n",
      "  RuntimeWarning)\n",
      "C:\\Users\\JAYESH\\Anaconda3\\lib\\site-packages\\sklearn\\covariance\\robust_covariance.py:171: RuntimeWarning: Determinant has increased; this should not happen: log(det) > log(previous_det) (-57.293285433029652 > -90.083431682869985). You may want to try with a higher value of support_fraction (current value: 0.501).\n",
      "  RuntimeWarning)\n",
      "C:\\Users\\JAYESH\\Anaconda3\\lib\\site-packages\\sklearn\\covariance\\robust_covariance.py:171: RuntimeWarning: Determinant has increased; this should not happen: log(det) > log(previous_det) (-55.892490312212729 > -76.510049728387074). You may want to try with a higher value of support_fraction (current value: 0.501).\n",
      "  RuntimeWarning)\n",
      "C:\\Users\\JAYESH\\Anaconda3\\lib\\site-packages\\sklearn\\covariance\\robust_covariance.py:171: RuntimeWarning: Determinant has increased; this should not happen: log(det) > log(previous_det) (-55.865773831206745 > -79.708875737176086). You may want to try with a higher value of support_fraction (current value: 0.501).\n",
      "  RuntimeWarning)\n",
      "C:\\Users\\JAYESH\\Anaconda3\\lib\\site-packages\\sklearn\\covariance\\robust_covariance.py:171: RuntimeWarning: Determinant has increased; this should not happen: log(det) > log(previous_det) (-59.348176415137459 > -90.263978502354746). You may want to try with a higher value of support_fraction (current value: 0.501).\n",
      "  RuntimeWarning)\n",
      "C:\\Users\\JAYESH\\Anaconda3\\lib\\site-packages\\sklearn\\covariance\\robust_covariance.py:171: RuntimeWarning: Determinant has increased; this should not happen: log(det) > log(previous_det) (-57.550101570340146 > -86.316361811395197). You may want to try with a higher value of support_fraction (current value: 0.501).\n",
      "  RuntimeWarning)\n",
      "C:\\Users\\JAYESH\\Anaconda3\\lib\\site-packages\\sklearn\\covariance\\robust_covariance.py:171: RuntimeWarning: Determinant has increased; this should not happen: log(det) > log(previous_det) (-57.949940244975423 > -83.102851171569014). You may want to try with a higher value of support_fraction (current value: 0.501).\n",
      "  RuntimeWarning)\n",
      "C:\\Users\\JAYESH\\Anaconda3\\lib\\site-packages\\sklearn\\covariance\\robust_covariance.py:171: RuntimeWarning: Determinant has increased; this should not happen: log(det) > log(previous_det) (-58.428476582086148 > -87.802048104902866). You may want to try with a higher value of support_fraction (current value: 0.501).\n",
      "  RuntimeWarning)\n",
      "C:\\Users\\JAYESH\\Anaconda3\\lib\\site-packages\\sklearn\\covariance\\robust_covariance.py:171: RuntimeWarning: Determinant has increased; this should not happen: log(det) > log(previous_det) (-60.813574571940684 > -89.928844551628373). You may want to try with a higher value of support_fraction (current value: 0.501).\n",
      "  RuntimeWarning)\n"
     ]
    },
    {
     "name": "stderr",
     "output_type": "stream",
     "text": [
      "C:\\Users\\JAYESH\\Anaconda3\\lib\\site-packages\\sklearn\\covariance\\robust_covariance.py:171: RuntimeWarning: Determinant has increased; this should not happen: log(det) > log(previous_det) (-58.314554912976831 > -86.037350842942033). You may want to try with a higher value of support_fraction (current value: 0.501).\n",
      "  RuntimeWarning)\n",
      "C:\\Users\\JAYESH\\Anaconda3\\lib\\site-packages\\sklearn\\covariance\\robust_covariance.py:171: RuntimeWarning: Determinant has increased; this should not happen: log(det) > log(previous_det) (-57.631931587510962 > -84.528291458110331). You may want to try with a higher value of support_fraction (current value: 0.501).\n",
      "  RuntimeWarning)\n",
      "C:\\Users\\JAYESH\\Anaconda3\\lib\\site-packages\\sklearn\\covariance\\robust_covariance.py:171: RuntimeWarning: Determinant has increased; this should not happen: log(det) > log(previous_det) (-57.452138639192320 > -84.472248373886487). You may want to try with a higher value of support_fraction (current value: 0.501).\n",
      "  RuntimeWarning)\n",
      "C:\\Users\\JAYESH\\Anaconda3\\lib\\site-packages\\sklearn\\covariance\\robust_covariance.py:171: RuntimeWarning: Determinant has increased; this should not happen: log(det) > log(previous_det) (-57.963833402796830 > -84.970578525984109). You may want to try with a higher value of support_fraction (current value: 0.501).\n",
      "  RuntimeWarning)\n",
      "C:\\Users\\JAYESH\\Anaconda3\\lib\\site-packages\\sklearn\\covariance\\robust_covariance.py:171: RuntimeWarning: Determinant has increased; this should not happen: log(det) > log(previous_det) (-57.986846468204142 > -89.244508528618496). You may want to try with a higher value of support_fraction (current value: 0.501).\n",
      "  RuntimeWarning)\n",
      "C:\\Users\\JAYESH\\Anaconda3\\lib\\site-packages\\sklearn\\covariance\\robust_covariance.py:171: RuntimeWarning: Determinant has increased; this should not happen: log(det) > log(previous_det) (-57.299844519908575 > -91.206771421537610). You may want to try with a higher value of support_fraction (current value: 0.501).\n",
      "  RuntimeWarning)\n",
      "C:\\Users\\JAYESH\\Anaconda3\\lib\\site-packages\\sklearn\\covariance\\robust_covariance.py:171: RuntimeWarning: Determinant has increased; this should not happen: log(det) > log(previous_det) (-59.555072074274364 > -90.974430248278168). You may want to try with a higher value of support_fraction (current value: 0.501).\n",
      "  RuntimeWarning)\n",
      "C:\\Users\\JAYESH\\Anaconda3\\lib\\site-packages\\sklearn\\covariance\\robust_covariance.py:171: RuntimeWarning: Determinant has increased; this should not happen: log(det) > log(previous_det) (-57.116576574160085 > -78.231766582109699). You may want to try with a higher value of support_fraction (current value: 0.501).\n",
      "  RuntimeWarning)\n",
      "C:\\Users\\JAYESH\\Anaconda3\\lib\\site-packages\\sklearn\\covariance\\robust_covariance.py:171: RuntimeWarning: Determinant has increased; this should not happen: log(det) > log(previous_det) (-57.542532143414491 > -90.497087873853346). You may want to try with a higher value of support_fraction (current value: 0.501).\n",
      "  RuntimeWarning)\n",
      "C:\\Users\\JAYESH\\Anaconda3\\lib\\site-packages\\sklearn\\covariance\\robust_covariance.py:171: RuntimeWarning: Determinant has increased; this should not happen: log(det) > log(previous_det) (-56.050574380990462 > -86.597085877274083). You may want to try with a higher value of support_fraction (current value: 0.501).\n",
      "  RuntimeWarning)\n",
      "C:\\Users\\JAYESH\\Anaconda3\\lib\\site-packages\\sklearn\\covariance\\robust_covariance.py:171: RuntimeWarning: Determinant has increased; this should not happen: log(det) > log(previous_det) (-57.303758323168452 > -89.964690083859338). You may want to try with a higher value of support_fraction (current value: 0.501).\n",
      "  RuntimeWarning)\n",
      "C:\\Users\\JAYESH\\Anaconda3\\lib\\site-packages\\sklearn\\covariance\\robust_covariance.py:171: RuntimeWarning: Determinant has increased; this should not happen: log(det) > log(previous_det) (-55.912998893633223 > -76.295601348272044). You may want to try with a higher value of support_fraction (current value: 0.501).\n",
      "  RuntimeWarning)\n",
      "C:\\Users\\JAYESH\\Anaconda3\\lib\\site-packages\\sklearn\\covariance\\robust_covariance.py:171: RuntimeWarning: Determinant has increased; this should not happen: log(det) > log(previous_det) (-54.152846878622050 > -70.163633344873688). You may want to try with a higher value of support_fraction (current value: 0.501).\n",
      "  RuntimeWarning)\n",
      "C:\\Users\\JAYESH\\Anaconda3\\lib\\site-packages\\sklearn\\covariance\\robust_covariance.py:171: RuntimeWarning: Determinant has increased; this should not happen: log(det) > log(previous_det) (-57.079639690538592 > -89.253389083655662). You may want to try with a higher value of support_fraction (current value: 0.501).\n",
      "  RuntimeWarning)\n",
      "C:\\Users\\JAYESH\\Anaconda3\\lib\\site-packages\\sklearn\\covariance\\robust_covariance.py:171: RuntimeWarning: Determinant has increased; this should not happen: log(det) > log(previous_det) (-59.855807331618777 > -84.312011941874715). You may want to try with a higher value of support_fraction (current value: 0.501).\n",
      "  RuntimeWarning)\n",
      "C:\\Users\\JAYESH\\Anaconda3\\lib\\site-packages\\sklearn\\covariance\\robust_covariance.py:171: RuntimeWarning: Determinant has increased; this should not happen: log(det) > log(previous_det) (-58.250225806645844 > -92.609399562717414). You may want to try with a higher value of support_fraction (current value: 0.501).\n",
      "  RuntimeWarning)\n",
      "C:\\Users\\JAYESH\\Anaconda3\\lib\\site-packages\\sklearn\\covariance\\robust_covariance.py:171: RuntimeWarning: Determinant has increased; this should not happen: log(det) > log(previous_det) (-57.590861448304175 > -84.303920322617259). You may want to try with a higher value of support_fraction (current value: 0.501).\n",
      "  RuntimeWarning)\n",
      "C:\\Users\\JAYESH\\Anaconda3\\lib\\site-packages\\sklearn\\covariance\\robust_covariance.py:171: RuntimeWarning: Determinant has increased; this should not happen: log(det) > log(previous_det) (-53.041746980539337 > -73.851524200750703). You may want to try with a higher value of support_fraction (current value: 0.501).\n",
      "  RuntimeWarning)\n",
      "C:\\Users\\JAYESH\\Anaconda3\\lib\\site-packages\\sklearn\\covariance\\robust_covariance.py:171: RuntimeWarning: Determinant has increased; this should not happen: log(det) > log(previous_det) (-54.125097380198206 > -76.320269412196382). You may want to try with a higher value of support_fraction (current value: 0.501).\n",
      "  RuntimeWarning)\n",
      "C:\\Users\\JAYESH\\Anaconda3\\lib\\site-packages\\sklearn\\covariance\\robust_covariance.py:171: RuntimeWarning: Determinant has increased; this should not happen: log(det) > log(previous_det) (-57.443523257687922 > -78.547970385954997). You may want to try with a higher value of support_fraction (current value: 0.501).\n",
      "  RuntimeWarning)\n",
      "C:\\Users\\JAYESH\\Anaconda3\\lib\\site-packages\\sklearn\\covariance\\robust_covariance.py:171: RuntimeWarning: Determinant has increased; this should not happen: log(det) > log(previous_det) (-57.577681355593725 > -87.976077458293105). You may want to try with a higher value of support_fraction (current value: 0.501).\n",
      "  RuntimeWarning)\n",
      "C:\\Users\\JAYESH\\Anaconda3\\lib\\site-packages\\sklearn\\covariance\\robust_covariance.py:171: RuntimeWarning: Determinant has increased; this should not happen: log(det) > log(previous_det) (-57.827302206927030 > -87.925373304532172). You may want to try with a higher value of support_fraction (current value: 0.501).\n",
      "  RuntimeWarning)\n",
      "C:\\Users\\JAYESH\\Anaconda3\\lib\\site-packages\\sklearn\\covariance\\robust_covariance.py:171: RuntimeWarning: Determinant has increased; this should not happen: log(det) > log(previous_det) (-57.311937981725173 > -57.997192962851102). You may want to try with a higher value of support_fraction (current value: 0.501).\n",
      "  RuntimeWarning)\n",
      "C:\\Users\\JAYESH\\Anaconda3\\lib\\site-packages\\sklearn\\covariance\\robust_covariance.py:171: RuntimeWarning: Determinant has increased; this should not happen: log(det) > log(previous_det) (-59.952747042150378 > -92.041210439380691). You may want to try with a higher value of support_fraction (current value: 0.501).\n",
      "  RuntimeWarning)\n",
      "C:\\Users\\JAYESH\\Anaconda3\\lib\\site-packages\\sklearn\\covariance\\robust_covariance.py:171: RuntimeWarning: Determinant has increased; this should not happen: log(det) > log(previous_det) (-60.007875451199986 > -92.743029415575364). You may want to try with a higher value of support_fraction (current value: 0.501).\n",
      "  RuntimeWarning)\n",
      "C:\\Users\\JAYESH\\Anaconda3\\lib\\site-packages\\sklearn\\covariance\\robust_covariance.py:171: RuntimeWarning: Determinant has increased; this should not happen: log(det) > log(previous_det) (-58.539864592209902 > -86.876326145025047). You may want to try with a higher value of support_fraction (current value: 0.501).\n",
      "  RuntimeWarning)\n",
      "C:\\Users\\JAYESH\\Anaconda3\\lib\\site-packages\\sklearn\\covariance\\robust_covariance.py:171: RuntimeWarning: Determinant has increased; this should not happen: log(det) > log(previous_det) (-57.644225587939601 > -86.300450967924007). You may want to try with a higher value of support_fraction (current value: 0.501).\n",
      "  RuntimeWarning)\n"
     ]
    },
    {
     "name": "stderr",
     "output_type": "stream",
     "text": [
      "C:\\Users\\JAYESH\\Anaconda3\\lib\\site-packages\\sklearn\\covariance\\robust_covariance.py:171: RuntimeWarning: Determinant has increased; this should not happen: log(det) > log(previous_det) (-57.012491159365219 > -85.385075285086657). You may want to try with a higher value of support_fraction (current value: 0.501).\n",
      "  RuntimeWarning)\n",
      "C:\\Users\\JAYESH\\Anaconda3\\lib\\site-packages\\sklearn\\covariance\\robust_covariance.py:171: RuntimeWarning: Determinant has increased; this should not happen: log(det) > log(previous_det) (-91.230438251355167 > -92.411784159959566). You may want to try with a higher value of support_fraction (current value: 0.501).\n",
      "  RuntimeWarning)\n",
      "C:\\Users\\JAYESH\\Anaconda3\\lib\\site-packages\\sklearn\\covariance\\robust_covariance.py:171: RuntimeWarning: Determinant has increased; this should not happen: log(det) > log(previous_det) (-58.209603521208429 > -92.867950369260370). You may want to try with a higher value of support_fraction (current value: 0.501).\n",
      "  RuntimeWarning)\n",
      "C:\\Users\\JAYESH\\Anaconda3\\lib\\site-packages\\sklearn\\covariance\\robust_covariance.py:171: RuntimeWarning: Determinant has increased; this should not happen: log(det) > log(previous_det) (-58.511266916076792 > -85.835070539071950). You may want to try with a higher value of support_fraction (current value: 0.501).\n",
      "  RuntimeWarning)\n",
      "C:\\Users\\JAYESH\\Anaconda3\\lib\\site-packages\\sklearn\\covariance\\robust_covariance.py:171: RuntimeWarning: Determinant has increased; this should not happen: log(det) > log(previous_det) (-58.436263232974063 > -86.640435815775334). You may want to try with a higher value of support_fraction (current value: 0.501).\n",
      "  RuntimeWarning)\n",
      "C:\\Users\\JAYESH\\Anaconda3\\lib\\site-packages\\sklearn\\covariance\\robust_covariance.py:171: RuntimeWarning: Determinant has increased; this should not happen: log(det) > log(previous_det) (-58.139610871338206 > -88.418447196325047). You may want to try with a higher value of support_fraction (current value: 0.501).\n",
      "  RuntimeWarning)\n",
      "C:\\Users\\JAYESH\\Anaconda3\\lib\\site-packages\\sklearn\\covariance\\robust_covariance.py:171: RuntimeWarning: Determinant has increased; this should not happen: log(det) > log(previous_det) (-57.881646930701088 > -87.392862830086898). You may want to try with a higher value of support_fraction (current value: 0.501).\n",
      "  RuntimeWarning)\n",
      "C:\\Users\\JAYESH\\Anaconda3\\lib\\site-packages\\sklearn\\covariance\\robust_covariance.py:171: RuntimeWarning: Determinant has increased; this should not happen: log(det) > log(previous_det) (-57.755349752014155 > -88.573815418361164). You may want to try with a higher value of support_fraction (current value: 0.501).\n",
      "  RuntimeWarning)\n",
      "C:\\Users\\JAYESH\\Anaconda3\\lib\\site-packages\\sklearn\\covariance\\robust_covariance.py:171: RuntimeWarning: Determinant has increased; this should not happen: log(det) > log(previous_det) (-59.827743775457890 > -88.269835021128202). You may want to try with a higher value of support_fraction (current value: 0.501).\n",
      "  RuntimeWarning)\n",
      "C:\\Users\\JAYESH\\Anaconda3\\lib\\site-packages\\sklearn\\covariance\\robust_covariance.py:171: RuntimeWarning: Determinant has increased; this should not happen: log(det) > log(previous_det) (-53.970393851587211 > -71.670917457355088). You may want to try with a higher value of support_fraction (current value: 0.501).\n",
      "  RuntimeWarning)\n",
      "C:\\Users\\JAYESH\\Anaconda3\\lib\\site-packages\\sklearn\\covariance\\robust_covariance.py:171: RuntimeWarning: Determinant has increased; this should not happen: log(det) > log(previous_det) (-57.747178173751081 > -86.667805334524331). You may want to try with a higher value of support_fraction (current value: 0.501).\n",
      "  RuntimeWarning)\n",
      "C:\\Users\\JAYESH\\Anaconda3\\lib\\site-packages\\sklearn\\covariance\\robust_covariance.py:171: RuntimeWarning: Determinant has increased; this should not happen: log(det) > log(previous_det) (-57.321957028095611 > -88.079903169315401). You may want to try with a higher value of support_fraction (current value: 0.501).\n",
      "  RuntimeWarning)\n",
      "C:\\Users\\JAYESH\\Anaconda3\\lib\\site-packages\\sklearn\\covariance\\robust_covariance.py:171: RuntimeWarning: Determinant has increased; this should not happen: log(det) > log(previous_det) (-57.287814621598997 > -87.435928322704825). You may want to try with a higher value of support_fraction (current value: 0.501).\n",
      "  RuntimeWarning)\n",
      "C:\\Users\\JAYESH\\Anaconda3\\lib\\site-packages\\sklearn\\covariance\\robust_covariance.py:171: RuntimeWarning: Determinant has increased; this should not happen: log(det) > log(previous_det) (-55.652827902183887 > -88.409488168667650). You may want to try with a higher value of support_fraction (current value: 0.501).\n",
      "  RuntimeWarning)\n",
      "C:\\Users\\JAYESH\\Anaconda3\\lib\\site-packages\\sklearn\\covariance\\robust_covariance.py:171: RuntimeWarning: Determinant has increased; this should not happen: log(det) > log(previous_det) (-55.711126601832163 > -73.466780602542912). You may want to try with a higher value of support_fraction (current value: 0.501).\n",
      "  RuntimeWarning)\n",
      "C:\\Users\\JAYESH\\Anaconda3\\lib\\site-packages\\sklearn\\covariance\\robust_covariance.py:171: RuntimeWarning: Determinant has increased; this should not happen: log(det) > log(previous_det) (-58.358728932416533 > -84.423278822369639). You may want to try with a higher value of support_fraction (current value: 0.501).\n",
      "  RuntimeWarning)\n",
      "C:\\Users\\JAYESH\\Anaconda3\\lib\\site-packages\\sklearn\\covariance\\robust_covariance.py:171: RuntimeWarning: Determinant has increased; this should not happen: log(det) > log(previous_det) (-57.542065197235928 > -87.042333457964745). You may want to try with a higher value of support_fraction (current value: 0.501).\n",
      "  RuntimeWarning)\n",
      "C:\\Users\\JAYESH\\Anaconda3\\lib\\site-packages\\sklearn\\covariance\\robust_covariance.py:171: RuntimeWarning: Determinant has increased; this should not happen: log(det) > log(previous_det) (-57.046064023356969 > -85.106448963741059). You may want to try with a higher value of support_fraction (current value: 0.501).\n",
      "  RuntimeWarning)\n",
      "C:\\Users\\JAYESH\\Anaconda3\\lib\\site-packages\\sklearn\\covariance\\robust_covariance.py:171: RuntimeWarning: Determinant has increased; this should not happen: log(det) > log(previous_det) (-92.893328104234598 > -95.872630911144867). You may want to try with a higher value of support_fraction (current value: 0.501).\n",
      "  RuntimeWarning)\n",
      "C:\\Users\\JAYESH\\Anaconda3\\lib\\site-packages\\sklearn\\covariance\\robust_covariance.py:171: RuntimeWarning: Determinant has increased; this should not happen: log(det) > log(previous_det) (-59.861903758545665 > -86.653444474682374). You may want to try with a higher value of support_fraction (current value: 0.501).\n",
      "  RuntimeWarning)\n",
      "C:\\Users\\JAYESH\\Anaconda3\\lib\\site-packages\\sklearn\\covariance\\robust_covariance.py:171: RuntimeWarning: Determinant has increased; this should not happen: log(det) > log(previous_det) (-57.809421110879292 > -81.724417883467623). You may want to try with a higher value of support_fraction (current value: 0.501).\n",
      "  RuntimeWarning)\n",
      "C:\\Users\\JAYESH\\Anaconda3\\lib\\site-packages\\sklearn\\covariance\\robust_covariance.py:171: RuntimeWarning: Determinant has increased; this should not happen: log(det) > log(previous_det) (-56.441414424074054 > -76.181677884255464). You may want to try with a higher value of support_fraction (current value: 0.501).\n",
      "  RuntimeWarning)\n",
      "C:\\Users\\JAYESH\\Anaconda3\\lib\\site-packages\\sklearn\\covariance\\robust_covariance.py:171: RuntimeWarning: Determinant has increased; this should not happen: log(det) > log(previous_det) (-58.473669249595453 > -88.327833018836145). You may want to try with a higher value of support_fraction (current value: 0.501).\n",
      "  RuntimeWarning)\n",
      "C:\\Users\\JAYESH\\Anaconda3\\lib\\site-packages\\sklearn\\covariance\\robust_covariance.py:171: RuntimeWarning: Determinant has increased; this should not happen: log(det) > log(previous_det) (-58.672869088477377 > -87.586272004774770). You may want to try with a higher value of support_fraction (current value: 0.501).\n",
      "  RuntimeWarning)\n",
      "C:\\Users\\JAYESH\\Anaconda3\\lib\\site-packages\\sklearn\\covariance\\robust_covariance.py:171: RuntimeWarning: Determinant has increased; this should not happen: log(det) > log(previous_det) (-56.503775605230153 > -77.327821290211290). You may want to try with a higher value of support_fraction (current value: 0.501).\n",
      "  RuntimeWarning)\n"
     ]
    },
    {
     "name": "stderr",
     "output_type": "stream",
     "text": [
      "C:\\Users\\JAYESH\\Anaconda3\\lib\\site-packages\\sklearn\\covariance\\robust_covariance.py:171: RuntimeWarning: Determinant has increased; this should not happen: log(det) > log(previous_det) (-59.421611846471230 > -89.862129574339008). You may want to try with a higher value of support_fraction (current value: 0.501).\n",
      "  RuntimeWarning)\n",
      "C:\\Users\\JAYESH\\Anaconda3\\lib\\site-packages\\sklearn\\covariance\\robust_covariance.py:171: RuntimeWarning: Determinant has increased; this should not happen: log(det) > log(previous_det) (-60.225412977769466 > -89.789376601744664). You may want to try with a higher value of support_fraction (current value: 0.501).\n",
      "  RuntimeWarning)\n",
      "C:\\Users\\JAYESH\\Anaconda3\\lib\\site-packages\\sklearn\\covariance\\robust_covariance.py:171: RuntimeWarning: Determinant has increased; this should not happen: log(det) > log(previous_det) (-58.247147840007941 > -87.425731592958414). You may want to try with a higher value of support_fraction (current value: 0.501).\n",
      "  RuntimeWarning)\n",
      "C:\\Users\\JAYESH\\Anaconda3\\lib\\site-packages\\sklearn\\covariance\\robust_covariance.py:171: RuntimeWarning: Determinant has increased; this should not happen: log(det) > log(previous_det) (-60.313601523435985 > -84.298193331629108). You may want to try with a higher value of support_fraction (current value: 0.501).\n",
      "  RuntimeWarning)\n",
      "C:\\Users\\JAYESH\\Anaconda3\\lib\\site-packages\\sklearn\\covariance\\robust_covariance.py:171: RuntimeWarning: Determinant has increased; this should not happen: log(det) > log(previous_det) (-59.605481273651186 > -82.035651988074676). You may want to try with a higher value of support_fraction (current value: 0.501).\n",
      "  RuntimeWarning)\n",
      "C:\\Users\\JAYESH\\Anaconda3\\lib\\site-packages\\sklearn\\covariance\\robust_covariance.py:171: RuntimeWarning: Determinant has increased; this should not happen: log(det) > log(previous_det) (-57.838945920255291 > -85.328113013285332). You may want to try with a higher value of support_fraction (current value: 0.501).\n",
      "  RuntimeWarning)\n",
      "C:\\Users\\JAYESH\\Anaconda3\\lib\\site-packages\\sklearn\\covariance\\robust_covariance.py:171: RuntimeWarning: Determinant has increased; this should not happen: log(det) > log(previous_det) (-55.846520728828942 > -74.934411642793975). You may want to try with a higher value of support_fraction (current value: 0.501).\n",
      "  RuntimeWarning)\n",
      "C:\\Users\\JAYESH\\Anaconda3\\lib\\site-packages\\sklearn\\covariance\\robust_covariance.py:171: RuntimeWarning: Determinant has increased; this should not happen: log(det) > log(previous_det) (-56.910738232119954 > -83.795670915837349). You may want to try with a higher value of support_fraction (current value: 0.501).\n",
      "  RuntimeWarning)\n",
      "C:\\Users\\JAYESH\\Anaconda3\\lib\\site-packages\\sklearn\\covariance\\robust_covariance.py:171: RuntimeWarning: Determinant has increased; this should not happen: log(det) > log(previous_det) (-56.792547879641255 > -77.017280927979414). You may want to try with a higher value of support_fraction (current value: 0.501).\n",
      "  RuntimeWarning)\n",
      "C:\\Users\\JAYESH\\Anaconda3\\lib\\site-packages\\sklearn\\covariance\\robust_covariance.py:171: RuntimeWarning: Determinant has increased; this should not happen: log(det) > log(previous_det) (-57.847781392472577 > -84.669389145425370). You may want to try with a higher value of support_fraction (current value: 0.501).\n",
      "  RuntimeWarning)\n",
      "C:\\Users\\JAYESH\\Anaconda3\\lib\\site-packages\\sklearn\\covariance\\robust_covariance.py:171: RuntimeWarning: Determinant has increased; this should not happen: log(det) > log(previous_det) (-60.222933560151276 > -88.065806846359919). You may want to try with a higher value of support_fraction (current value: 0.501).\n",
      "  RuntimeWarning)\n",
      "C:\\Users\\JAYESH\\Anaconda3\\lib\\site-packages\\sklearn\\covariance\\robust_covariance.py:171: RuntimeWarning: Determinant has increased; this should not happen: log(det) > log(previous_det) (-57.940291072169728 > -83.413347878817163). You may want to try with a higher value of support_fraction (current value: 0.501).\n",
      "  RuntimeWarning)\n",
      "C:\\Users\\JAYESH\\Anaconda3\\lib\\site-packages\\sklearn\\covariance\\robust_covariance.py:171: RuntimeWarning: Determinant has increased; this should not happen: log(det) > log(previous_det) (-55.268081384527832 > -75.216808057071233). You may want to try with a higher value of support_fraction (current value: 0.501).\n",
      "  RuntimeWarning)\n",
      "C:\\Users\\JAYESH\\Anaconda3\\lib\\site-packages\\sklearn\\covariance\\robust_covariance.py:171: RuntimeWarning: Determinant has increased; this should not happen: log(det) > log(previous_det) (-56.412198222224021 > -57.532267764607184). You may want to try with a higher value of support_fraction (current value: 0.501).\n",
      "  RuntimeWarning)\n",
      "C:\\Users\\JAYESH\\Anaconda3\\lib\\site-packages\\sklearn\\covariance\\robust_covariance.py:171: RuntimeWarning: Determinant has increased; this should not happen: log(det) > log(previous_det) (-56.610992473520454 > -77.066066841598712). You may want to try with a higher value of support_fraction (current value: 0.501).\n",
      "  RuntimeWarning)\n",
      "C:\\Users\\JAYESH\\Anaconda3\\lib\\site-packages\\sklearn\\covariance\\robust_covariance.py:171: RuntimeWarning: Determinant has increased; this should not happen: log(det) > log(previous_det) (-56.250420257325437 > -75.851359515250380). You may want to try with a higher value of support_fraction (current value: 0.501).\n",
      "  RuntimeWarning)\n",
      "C:\\Users\\JAYESH\\Anaconda3\\lib\\site-packages\\sklearn\\covariance\\robust_covariance.py:171: RuntimeWarning: Determinant has increased; this should not happen: log(det) > log(previous_det) (-56.153040488329268 > -78.780930691688681). You may want to try with a higher value of support_fraction (current value: 0.501).\n",
      "  RuntimeWarning)\n",
      "C:\\Users\\JAYESH\\Anaconda3\\lib\\site-packages\\sklearn\\covariance\\robust_covariance.py:171: RuntimeWarning: Determinant has increased; this should not happen: log(det) > log(previous_det) (-55.527520605484014 > -57.730554619281349). You may want to try with a higher value of support_fraction (current value: 0.501).\n",
      "  RuntimeWarning)\n",
      "C:\\Users\\JAYESH\\Anaconda3\\lib\\site-packages\\sklearn\\covariance\\robust_covariance.py:171: RuntimeWarning: Determinant has increased; this should not happen: log(det) > log(previous_det) (-57.581356385531585 > -91.624355203486431). You may want to try with a higher value of support_fraction (current value: 0.501).\n",
      "  RuntimeWarning)\n",
      "C:\\Users\\JAYESH\\Anaconda3\\lib\\site-packages\\sklearn\\covariance\\robust_covariance.py:171: RuntimeWarning: Determinant has increased; this should not happen: log(det) > log(previous_det) (-57.849598520474693 > -79.804004578234512). You may want to try with a higher value of support_fraction (current value: 0.501).\n",
      "  RuntimeWarning)\n",
      "C:\\Users\\JAYESH\\Anaconda3\\lib\\site-packages\\sklearn\\covariance\\robust_covariance.py:171: RuntimeWarning: Determinant has increased; this should not happen: log(det) > log(previous_det) (-57.063735803900535 > -84.520638989534149). You may want to try with a higher value of support_fraction (current value: 0.501).\n",
      "  RuntimeWarning)\n",
      "C:\\Users\\JAYESH\\Anaconda3\\lib\\site-packages\\sklearn\\covariance\\robust_covariance.py:171: RuntimeWarning: Determinant has increased; this should not happen: log(det) > log(previous_det) (-56.830405540193084 > -88.577397788734430). You may want to try with a higher value of support_fraction (current value: 0.501).\n",
      "  RuntimeWarning)\n",
      "C:\\Users\\JAYESH\\Anaconda3\\lib\\site-packages\\sklearn\\covariance\\robust_covariance.py:171: RuntimeWarning: Determinant has increased; this should not happen: log(det) > log(previous_det) (-57.287544732790451 > -57.497055118936942). You may want to try with a higher value of support_fraction (current value: 0.501).\n",
      "  RuntimeWarning)\n",
      "C:\\Users\\JAYESH\\Anaconda3\\lib\\site-packages\\sklearn\\covariance\\robust_covariance.py:171: RuntimeWarning: Determinant has increased; this should not happen: log(det) > log(previous_det) (-56.531458714502790 > -78.739437050344407). You may want to try with a higher value of support_fraction (current value: 0.501).\n",
      "  RuntimeWarning)\n",
      "C:\\Users\\JAYESH\\Anaconda3\\lib\\site-packages\\sklearn\\covariance\\robust_covariance.py:171: RuntimeWarning: Determinant has increased; this should not happen: log(det) > log(previous_det) (-57.307205006633986 > -82.481912395108282). You may want to try with a higher value of support_fraction (current value: 0.501).\n",
      "  RuntimeWarning)\n",
      "C:\\Users\\JAYESH\\Anaconda3\\lib\\site-packages\\sklearn\\covariance\\robust_covariance.py:171: RuntimeWarning: Determinant has increased; this should not happen: log(det) > log(previous_det) (-58.450154660473700 > -83.071124850410740). You may want to try with a higher value of support_fraction (current value: 0.501).\n",
      "  RuntimeWarning)\n",
      "C:\\Users\\JAYESH\\Anaconda3\\lib\\site-packages\\sklearn\\covariance\\robust_covariance.py:171: RuntimeWarning: Determinant has increased; this should not happen: log(det) > log(previous_det) (-58.442402190633452 > -83.423532618233637). You may want to try with a higher value of support_fraction (current value: 0.501).\n",
      "  RuntimeWarning)\n"
     ]
    },
    {
     "name": "stderr",
     "output_type": "stream",
     "text": [
      "C:\\Users\\JAYESH\\Anaconda3\\lib\\site-packages\\sklearn\\covariance\\robust_covariance.py:171: RuntimeWarning: Determinant has increased; this should not happen: log(det) > log(previous_det) (-57.588217769887528 > -84.800541667722456). You may want to try with a higher value of support_fraction (current value: 0.501).\n",
      "  RuntimeWarning)\n",
      "C:\\Users\\JAYESH\\Anaconda3\\lib\\site-packages\\sklearn\\covariance\\robust_covariance.py:171: RuntimeWarning: Determinant has increased; this should not happen: log(det) > log(previous_det) (-59.622276415886056 > -60.383547934385753). You may want to try with a higher value of support_fraction (current value: 0.501).\n",
      "  RuntimeWarning)\n",
      "C:\\Users\\JAYESH\\Anaconda3\\lib\\site-packages\\sklearn\\covariance\\robust_covariance.py:171: RuntimeWarning: Determinant has increased; this should not happen: log(det) > log(previous_det) (-57.267565756213941 > -88.838284359091659). You may want to try with a higher value of support_fraction (current value: 0.501).\n",
      "  RuntimeWarning)\n",
      "C:\\Users\\JAYESH\\Anaconda3\\lib\\site-packages\\sklearn\\covariance\\robust_covariance.py:171: RuntimeWarning: Determinant has increased; this should not happen: log(det) > log(previous_det) (-57.417779812391871 > -85.687421549924196). You may want to try with a higher value of support_fraction (current value: 0.501).\n",
      "  RuntimeWarning)\n",
      "C:\\Users\\JAYESH\\Anaconda3\\lib\\site-packages\\sklearn\\covariance\\robust_covariance.py:171: RuntimeWarning: Determinant has increased; this should not happen: log(det) > log(previous_det) (-58.947751739471407 > -85.200612430897792). You may want to try with a higher value of support_fraction (current value: 0.501).\n",
      "  RuntimeWarning)\n",
      "C:\\Users\\JAYESH\\Anaconda3\\lib\\site-packages\\sklearn\\covariance\\robust_covariance.py:171: RuntimeWarning: Determinant has increased; this should not happen: log(det) > log(previous_det) (-57.319270997365706 > -87.982616631268414). You may want to try with a higher value of support_fraction (current value: 0.501).\n",
      "  RuntimeWarning)\n",
      "C:\\Users\\JAYESH\\Anaconda3\\lib\\site-packages\\sklearn\\covariance\\robust_covariance.py:171: RuntimeWarning: Determinant has increased; this should not happen: log(det) > log(previous_det) (-57.219450132340214 > -86.976155749686612). You may want to try with a higher value of support_fraction (current value: 0.501).\n",
      "  RuntimeWarning)\n",
      "C:\\Users\\JAYESH\\Anaconda3\\lib\\site-packages\\sklearn\\covariance\\robust_covariance.py:171: RuntimeWarning: Determinant has increased; this should not happen: log(det) > log(previous_det) (-55.842664357613714 > -88.079689578414786). You may want to try with a higher value of support_fraction (current value: 0.501).\n",
      "  RuntimeWarning)\n",
      "C:\\Users\\JAYESH\\Anaconda3\\lib\\site-packages\\sklearn\\covariance\\robust_covariance.py:171: RuntimeWarning: Determinant has increased; this should not happen: log(det) > log(previous_det) (-57.617236284692837 > -89.921207670065428). You may want to try with a higher value of support_fraction (current value: 0.501).\n",
      "  RuntimeWarning)\n",
      "C:\\Users\\JAYESH\\Anaconda3\\lib\\site-packages\\sklearn\\covariance\\robust_covariance.py:171: RuntimeWarning: Determinant has increased; this should not happen: log(det) > log(previous_det) (-58.079813687177683 > -87.568541586408585). You may want to try with a higher value of support_fraction (current value: 0.501).\n",
      "  RuntimeWarning)\n",
      "C:\\Users\\JAYESH\\Anaconda3\\lib\\site-packages\\sklearn\\covariance\\robust_covariance.py:171: RuntimeWarning: Determinant has increased; this should not happen: log(det) > log(previous_det) (-57.007736163673130 > -86.106551302372566). You may want to try with a higher value of support_fraction (current value: 0.501).\n",
      "  RuntimeWarning)\n",
      "C:\\Users\\JAYESH\\Anaconda3\\lib\\site-packages\\sklearn\\covariance\\robust_covariance.py:171: RuntimeWarning: Determinant has increased; this should not happen: log(det) > log(previous_det) (-53.856469966661784 > -71.398046925825511). You may want to try with a higher value of support_fraction (current value: 0.501).\n",
      "  RuntimeWarning)\n",
      "C:\\Users\\JAYESH\\Anaconda3\\lib\\site-packages\\sklearn\\covariance\\robust_covariance.py:171: RuntimeWarning: Determinant has increased; this should not happen: log(det) > log(previous_det) (-52.304621777122527 > -70.972056090901603). You may want to try with a higher value of support_fraction (current value: 0.501).\n",
      "  RuntimeWarning)\n",
      "C:\\Users\\JAYESH\\Anaconda3\\lib\\site-packages\\sklearn\\covariance\\robust_covariance.py:171: RuntimeWarning: Determinant has increased; this should not happen: log(det) > log(previous_det) (-55.080320610487675 > -71.904580251164916). You may want to try with a higher value of support_fraction (current value: 0.501).\n",
      "  RuntimeWarning)\n",
      "C:\\Users\\JAYESH\\Anaconda3\\lib\\site-packages\\sklearn\\covariance\\robust_covariance.py:171: RuntimeWarning: Determinant has increased; this should not happen: log(det) > log(previous_det) (-56.671739840383331 > -79.852841112694193). You may want to try with a higher value of support_fraction (current value: 0.501).\n",
      "  RuntimeWarning)\n",
      "C:\\Users\\JAYESH\\Anaconda3\\lib\\site-packages\\sklearn\\covariance\\robust_covariance.py:171: RuntimeWarning: Determinant has increased; this should not happen: log(det) > log(previous_det) (-59.020030021627598 > -89.683563250225546). You may want to try with a higher value of support_fraction (current value: 0.501).\n",
      "  RuntimeWarning)\n",
      "C:\\Users\\JAYESH\\Anaconda3\\lib\\site-packages\\sklearn\\covariance\\robust_covariance.py:171: RuntimeWarning: Determinant has increased; this should not happen: log(det) > log(previous_det) (-56.860228963459782 > -75.438761598986062). You may want to try with a higher value of support_fraction (current value: 0.501).\n",
      "  RuntimeWarning)\n",
      "C:\\Users\\JAYESH\\Anaconda3\\lib\\site-packages\\sklearn\\covariance\\robust_covariance.py:171: RuntimeWarning: Determinant has increased; this should not happen: log(det) > log(previous_det) (-57.131706856214137 > -78.147536522747345). You may want to try with a higher value of support_fraction (current value: 0.501).\n",
      "  RuntimeWarning)\n",
      "C:\\Users\\JAYESH\\Anaconda3\\lib\\site-packages\\sklearn\\covariance\\robust_covariance.py:171: RuntimeWarning: Determinant has increased; this should not happen: log(det) > log(previous_det) (-56.170638298473257 > -88.662438981772652). You may want to try with a higher value of support_fraction (current value: 0.501).\n",
      "  RuntimeWarning)\n",
      "C:\\Users\\JAYESH\\Anaconda3\\lib\\site-packages\\sklearn\\covariance\\robust_covariance.py:171: RuntimeWarning: Determinant has increased; this should not happen: log(det) > log(previous_det) (-58.538917032396952 > -89.341252667696281). You may want to try with a higher value of support_fraction (current value: 0.501).\n",
      "  RuntimeWarning)\n",
      "C:\\Users\\JAYESH\\Anaconda3\\lib\\site-packages\\sklearn\\covariance\\robust_covariance.py:171: RuntimeWarning: Determinant has increased; this should not happen: log(det) > log(previous_det) (-58.631688885802461 > -88.694065484420122). You may want to try with a higher value of support_fraction (current value: 0.501).\n",
      "  RuntimeWarning)\n",
      "C:\\Users\\JAYESH\\Anaconda3\\lib\\site-packages\\sklearn\\covariance\\robust_covariance.py:171: RuntimeWarning: Determinant has increased; this should not happen: log(det) > log(previous_det) (-57.443425906919451 > -89.991432890453353). You may want to try with a higher value of support_fraction (current value: 0.501).\n",
      "  RuntimeWarning)\n",
      "C:\\Users\\JAYESH\\Anaconda3\\lib\\site-packages\\sklearn\\covariance\\robust_covariance.py:171: RuntimeWarning: Determinant has increased; this should not happen: log(det) > log(previous_det) (-56.972597223433617 > -90.316538577973461). You may want to try with a higher value of support_fraction (current value: 0.501).\n",
      "  RuntimeWarning)\n",
      "C:\\Users\\JAYESH\\Anaconda3\\lib\\site-packages\\sklearn\\covariance\\robust_covariance.py:171: RuntimeWarning: Determinant has increased; this should not happen: log(det) > log(previous_det) (-57.335022715196047 > -84.415612717570212). You may want to try with a higher value of support_fraction (current value: 0.501).\n",
      "  RuntimeWarning)\n",
      "C:\\Users\\JAYESH\\Anaconda3\\lib\\site-packages\\sklearn\\covariance\\robust_covariance.py:171: RuntimeWarning: Determinant has increased; this should not happen: log(det) > log(previous_det) (-92.528655983346923 > -92.878407775690022). You may want to try with a higher value of support_fraction (current value: 0.501).\n",
      "  RuntimeWarning)\n",
      "C:\\Users\\JAYESH\\Anaconda3\\lib\\site-packages\\sklearn\\covariance\\robust_covariance.py:171: RuntimeWarning: Determinant has increased; this should not happen: log(det) > log(previous_det) (-56.586639584971813 > -77.609415074814521). You may want to try with a higher value of support_fraction (current value: 0.501).\n",
      "  RuntimeWarning)\n"
     ]
    },
    {
     "name": "stderr",
     "output_type": "stream",
     "text": [
      "C:\\Users\\JAYESH\\Anaconda3\\lib\\site-packages\\sklearn\\covariance\\robust_covariance.py:171: RuntimeWarning: Determinant has increased; this should not happen: log(det) > log(previous_det) (-57.294798628650206 > -83.385733137543099). You may want to try with a higher value of support_fraction (current value: 0.501).\n",
      "  RuntimeWarning)\n",
      "C:\\Users\\JAYESH\\Anaconda3\\lib\\site-packages\\sklearn\\covariance\\robust_covariance.py:171: RuntimeWarning: Determinant has increased; this should not happen: log(det) > log(previous_det) (-57.532431667160637 > -89.438239507289438). You may want to try with a higher value of support_fraction (current value: 0.501).\n",
      "  RuntimeWarning)\n",
      "C:\\Users\\JAYESH\\Anaconda3\\lib\\site-packages\\sklearn\\covariance\\robust_covariance.py:171: RuntimeWarning: Determinant has increased; this should not happen: log(det) > log(previous_det) (-59.269434355080065 > -84.677389026514817). You may want to try with a higher value of support_fraction (current value: 0.501).\n",
      "  RuntimeWarning)\n",
      "C:\\Users\\JAYESH\\Anaconda3\\lib\\site-packages\\sklearn\\covariance\\robust_covariance.py:171: RuntimeWarning: Determinant has increased; this should not happen: log(det) > log(previous_det) (-55.952805898117063 > -72.688516698887923). You may want to try with a higher value of support_fraction (current value: 0.501).\n",
      "  RuntimeWarning)\n",
      "C:\\Users\\JAYESH\\Anaconda3\\lib\\site-packages\\sklearn\\covariance\\robust_covariance.py:171: RuntimeWarning: Determinant has increased; this should not happen: log(det) > log(previous_det) (-58.466048245906215 > -90.612112899111622). You may want to try with a higher value of support_fraction (current value: 0.501).\n",
      "  RuntimeWarning)\n",
      "C:\\Users\\JAYESH\\Anaconda3\\lib\\site-packages\\sklearn\\covariance\\robust_covariance.py:171: RuntimeWarning: Determinant has increased; this should not happen: log(det) > log(previous_det) (-58.936207521042874 > -79.960046401134065). You may want to try with a higher value of support_fraction (current value: 0.501).\n",
      "  RuntimeWarning)\n",
      "C:\\Users\\JAYESH\\Anaconda3\\lib\\site-packages\\sklearn\\covariance\\robust_covariance.py:171: RuntimeWarning: Determinant has increased; this should not happen: log(det) > log(previous_det) (-54.742384038873794 > -73.615212484822422). You may want to try with a higher value of support_fraction (current value: 0.501).\n",
      "  RuntimeWarning)\n",
      "C:\\Users\\JAYESH\\Anaconda3\\lib\\site-packages\\sklearn\\covariance\\robust_covariance.py:171: RuntimeWarning: Determinant has increased; this should not happen: log(det) > log(previous_det) (-58.496724705413151 > -87.311062116713998). You may want to try with a higher value of support_fraction (current value: 0.501).\n",
      "  RuntimeWarning)\n",
      "C:\\Users\\JAYESH\\Anaconda3\\lib\\site-packages\\sklearn\\covariance\\robust_covariance.py:171: RuntimeWarning: Determinant has increased; this should not happen: log(det) > log(previous_det) (-59.820515863214013 > -91.620309211220672). You may want to try with a higher value of support_fraction (current value: 0.501).\n",
      "  RuntimeWarning)\n",
      "C:\\Users\\JAYESH\\Anaconda3\\lib\\site-packages\\sklearn\\covariance\\robust_covariance.py:171: RuntimeWarning: Determinant has increased; this should not happen: log(det) > log(previous_det) (-55.360822944867557 > -74.688826821294398). You may want to try with a higher value of support_fraction (current value: 0.501).\n",
      "  RuntimeWarning)\n",
      "C:\\Users\\JAYESH\\Anaconda3\\lib\\site-packages\\sklearn\\covariance\\robust_covariance.py:171: RuntimeWarning: Determinant has increased; this should not happen: log(det) > log(previous_det) (-57.507535695407348 > -90.297365122105191). You may want to try with a higher value of support_fraction (current value: 0.501).\n",
      "  RuntimeWarning)\n",
      "C:\\Users\\JAYESH\\Anaconda3\\lib\\site-packages\\sklearn\\covariance\\robust_covariance.py:171: RuntimeWarning: Determinant has increased; this should not happen: log(det) > log(previous_det) (-57.876377369324658 > -88.178483650037307). You may want to try with a higher value of support_fraction (current value: 0.501).\n",
      "  RuntimeWarning)\n",
      "C:\\Users\\JAYESH\\Anaconda3\\lib\\site-packages\\sklearn\\covariance\\robust_covariance.py:171: RuntimeWarning: Determinant has increased; this should not happen: log(det) > log(previous_det) (-57.469216151729604 > -86.010979663119230). You may want to try with a higher value of support_fraction (current value: 0.501).\n",
      "  RuntimeWarning)\n",
      "C:\\Users\\JAYESH\\Anaconda3\\lib\\site-packages\\sklearn\\covariance\\robust_covariance.py:171: RuntimeWarning: Determinant has increased; this should not happen: log(det) > log(previous_det) (-59.177576008235462 > -83.745347735443943). You may want to try with a higher value of support_fraction (current value: 0.501).\n",
      "  RuntimeWarning)\n",
      "C:\\Users\\JAYESH\\Anaconda3\\lib\\site-packages\\sklearn\\covariance\\robust_covariance.py:171: RuntimeWarning: Determinant has increased; this should not happen: log(det) > log(previous_det) (-55.816330111145760 > -76.698438336380761). You may want to try with a higher value of support_fraction (current value: 0.501).\n",
      "  RuntimeWarning)\n",
      "C:\\Users\\JAYESH\\Anaconda3\\lib\\site-packages\\sklearn\\covariance\\robust_covariance.py:171: RuntimeWarning: Determinant has increased; this should not happen: log(det) > log(previous_det) (-56.335455738643788 > -88.972822408151089). You may want to try with a higher value of support_fraction (current value: 0.501).\n",
      "  RuntimeWarning)\n",
      "C:\\Users\\JAYESH\\Anaconda3\\lib\\site-packages\\sklearn\\covariance\\robust_covariance.py:171: RuntimeWarning: Determinant has increased; this should not happen: log(det) > log(previous_det) (-54.306286869388074 > -73.097591519539463). You may want to try with a higher value of support_fraction (current value: 0.501).\n",
      "  RuntimeWarning)\n",
      "C:\\Users\\JAYESH\\Anaconda3\\lib\\site-packages\\sklearn\\covariance\\robust_covariance.py:171: RuntimeWarning: Determinant has increased; this should not happen: log(det) > log(previous_det) (-56.033345456835832 > -88.980658628881741). You may want to try with a higher value of support_fraction (current value: 0.501).\n",
      "  RuntimeWarning)\n",
      "C:\\Users\\JAYESH\\Anaconda3\\lib\\site-packages\\sklearn\\covariance\\robust_covariance.py:171: RuntimeWarning: Determinant has increased; this should not happen: log(det) > log(previous_det) (-56.749905509494127 > -89.280143760619296). You may want to try with a higher value of support_fraction (current value: 0.501).\n",
      "  RuntimeWarning)\n",
      "C:\\Users\\JAYESH\\Anaconda3\\lib\\site-packages\\sklearn\\covariance\\robust_covariance.py:171: RuntimeWarning: Determinant has increased; this should not happen: log(det) > log(previous_det) (-56.500058563042018 > -76.161860775603643). You may want to try with a higher value of support_fraction (current value: 0.501).\n",
      "  RuntimeWarning)\n",
      "C:\\Users\\JAYESH\\Anaconda3\\lib\\site-packages\\sklearn\\covariance\\robust_covariance.py:171: RuntimeWarning: Determinant has increased; this should not happen: log(det) > log(previous_det) (-57.528296941183328 > -88.570255714224828). You may want to try with a higher value of support_fraction (current value: 0.501).\n",
      "  RuntimeWarning)\n",
      "C:\\Users\\JAYESH\\Anaconda3\\lib\\site-packages\\sklearn\\covariance\\robust_covariance.py:171: RuntimeWarning: Determinant has increased; this should not happen: log(det) > log(previous_det) (-56.856862066380366 > -91.249031412662333). You may want to try with a higher value of support_fraction (current value: 0.501).\n",
      "  RuntimeWarning)\n",
      "C:\\Users\\JAYESH\\Anaconda3\\lib\\site-packages\\sklearn\\covariance\\robust_covariance.py:171: RuntimeWarning: Determinant has increased; this should not happen: log(det) > log(previous_det) (-57.292999019885812 > -82.661957486698796). You may want to try with a higher value of support_fraction (current value: 0.501).\n",
      "  RuntimeWarning)\n",
      "C:\\Users\\JAYESH\\Anaconda3\\lib\\site-packages\\sklearn\\covariance\\robust_covariance.py:171: RuntimeWarning: Determinant has increased; this should not happen: log(det) > log(previous_det) (-57.438105290044831 > -82.677718505189944). You may want to try with a higher value of support_fraction (current value: 0.501).\n",
      "  RuntimeWarning)\n",
      "C:\\Users\\JAYESH\\Anaconda3\\lib\\site-packages\\sklearn\\covariance\\robust_covariance.py:171: RuntimeWarning: Determinant has increased; this should not happen: log(det) > log(previous_det) (-58.275766068041747 > -58.633537816122889). You may want to try with a higher value of support_fraction (current value: 0.501).\n",
      "  RuntimeWarning)\n"
     ]
    },
    {
     "name": "stderr",
     "output_type": "stream",
     "text": [
      "C:\\Users\\JAYESH\\Anaconda3\\lib\\site-packages\\sklearn\\covariance\\robust_covariance.py:171: RuntimeWarning: Determinant has increased; this should not happen: log(det) > log(previous_det) (-57.198382026251970 > -87.509992716000639). You may want to try with a higher value of support_fraction (current value: 0.501).\n",
      "  RuntimeWarning)\n",
      "C:\\Users\\JAYESH\\Anaconda3\\lib\\site-packages\\sklearn\\covariance\\robust_covariance.py:171: RuntimeWarning: Determinant has increased; this should not happen: log(det) > log(previous_det) (-58.331243832283441 > -85.111450870642443). You may want to try with a higher value of support_fraction (current value: 0.501).\n",
      "  RuntimeWarning)\n",
      "C:\\Users\\JAYESH\\Anaconda3\\lib\\site-packages\\sklearn\\covariance\\robust_covariance.py:171: RuntimeWarning: Determinant has increased; this should not happen: log(det) > log(previous_det) (-58.622810827720791 > -58.690148431272540). You may want to try with a higher value of support_fraction (current value: 0.501).\n",
      "  RuntimeWarning)\n",
      "C:\\Users\\JAYESH\\Anaconda3\\lib\\site-packages\\sklearn\\covariance\\robust_covariance.py:171: RuntimeWarning: Determinant has increased; this should not happen: log(det) > log(previous_det) (-56.114365186264379 > -73.984892710341541). You may want to try with a higher value of support_fraction (current value: 0.501).\n",
      "  RuntimeWarning)\n",
      "C:\\Users\\JAYESH\\Anaconda3\\lib\\site-packages\\sklearn\\covariance\\robust_covariance.py:171: RuntimeWarning: Determinant has increased; this should not happen: log(det) > log(previous_det) (-53.650255160594838 > -72.210873827569515). You may want to try with a higher value of support_fraction (current value: 0.501).\n",
      "  RuntimeWarning)\n",
      "C:\\Users\\JAYESH\\Anaconda3\\lib\\site-packages\\sklearn\\covariance\\robust_covariance.py:171: RuntimeWarning: Determinant has increased; this should not happen: log(det) > log(previous_det) (-57.995017014110864 > -69.265345656361831). You may want to try with a higher value of support_fraction (current value: 0.500).\n",
      "  RuntimeWarning)\n",
      "C:\\Users\\JAYESH\\Anaconda3\\lib\\site-packages\\sklearn\\covariance\\robust_covariance.py:171: RuntimeWarning: Determinant has increased; this should not happen: log(det) > log(previous_det) (-59.425472418710484 > -71.063454258118469). You may want to try with a higher value of support_fraction (current value: 0.500).\n",
      "  RuntimeWarning)\n",
      "C:\\Users\\JAYESH\\Anaconda3\\lib\\site-packages\\sklearn\\covariance\\robust_covariance.py:171: RuntimeWarning: Determinant has increased; this should not happen: log(det) > log(previous_det) (-63.014853562778690 > -67.683561011679046). You may want to try with a higher value of support_fraction (current value: 0.500).\n",
      "  RuntimeWarning)\n",
      "C:\\Users\\JAYESH\\Anaconda3\\lib\\site-packages\\sklearn\\covariance\\robust_covariance.py:171: RuntimeWarning: Determinant has increased; this should not happen: log(det) > log(previous_det) (-62.934797356276412 > -67.651283658686367). You may want to try with a higher value of support_fraction (current value: 0.500).\n",
      "  RuntimeWarning)\n",
      "C:\\Users\\JAYESH\\Anaconda3\\lib\\site-packages\\sklearn\\covariance\\robust_covariance.py:171: RuntimeWarning: Determinant has increased; this should not happen: log(det) > log(previous_det) (-61.366873526891666 > -68.617167065731209). You may want to try with a higher value of support_fraction (current value: 0.500).\n",
      "  RuntimeWarning)\n",
      "C:\\Users\\JAYESH\\Anaconda3\\lib\\site-packages\\sklearn\\covariance\\robust_covariance.py:171: RuntimeWarning: Determinant has increased; this should not happen: log(det) > log(previous_det) (-57.985617521168876 > -69.256543772027030). You may want to try with a higher value of support_fraction (current value: 0.500).\n",
      "  RuntimeWarning)\n",
      "C:\\Users\\JAYESH\\Anaconda3\\lib\\site-packages\\sklearn\\covariance\\robust_covariance.py:171: RuntimeWarning: Determinant has increased; this should not happen: log(det) > log(previous_det) (-62.556449006049590 > -69.515646401605665). You may want to try with a higher value of support_fraction (current value: 0.500).\n",
      "  RuntimeWarning)\n",
      "C:\\Users\\JAYESH\\Anaconda3\\lib\\site-packages\\sklearn\\covariance\\robust_covariance.py:171: RuntimeWarning: Determinant has increased; this should not happen: log(det) > log(previous_det) (-64.255891620775031 > -67.367692948744846). You may want to try with a higher value of support_fraction (current value: 0.500).\n",
      "  RuntimeWarning)\n",
      "C:\\Users\\JAYESH\\Anaconda3\\lib\\site-packages\\sklearn\\covariance\\robust_covariance.py:171: RuntimeWarning: Determinant has increased; this should not happen: log(det) > log(previous_det) (-62.883434359600635 > -67.648813615655641). You may want to try with a higher value of support_fraction (current value: 0.500).\n",
      "  RuntimeWarning)\n"
     ]
    }
   ],
   "source": [
    "envelope =  EllipticEnvelope(contamination = outliers_fraction) \n",
    "envelope.fit(X)\n",
    "processed_data['anomalyEE'] = envelope.predict(X)"
   ]
  },
  {
   "cell_type": "code",
   "execution_count": 35,
   "metadata": {},
   "outputs": [],
   "source": [
    "processed_data['anomalyEE'] = processed_data['anomalyEE'].map( {1: 0, -1: 1} )"
   ]
  },
  {
   "cell_type": "code",
   "execution_count": 36,
   "metadata": {},
   "outputs": [
    {
     "data": {
      "text/plain": [
       "0    766515\n",
       "1      8683\n",
       "Name: anomalyEE, dtype: int64"
      ]
     },
     "execution_count": 36,
     "metadata": {},
     "output_type": "execute_result"
    }
   ],
   "source": [
    "processed_data['anomalyEE'].value_counts()"
   ]
  },
  {
   "cell_type": "code",
   "execution_count": 37,
   "metadata": {},
   "outputs": [],
   "source": [
    "anmly1_set = set(processed_data[processed_data['anomalyEE']==1].index)"
   ]
  },
  {
   "cell_type": "code",
   "execution_count": 38,
   "metadata": {},
   "outputs": [],
   "source": [
    "anml25 = set(processed_data[processed_data['anomalyIF']==1].index)"
   ]
  },
  {
   "cell_type": "code",
   "execution_count": 39,
   "metadata": {},
   "outputs": [],
   "source": [
    "true_idx = set(Y[Y==1].index)"
   ]
  },
  {
   "cell_type": "code",
   "execution_count": 40,
   "metadata": {},
   "outputs": [
    {
     "data": {
      "text/plain": [
       "40"
      ]
     },
     "execution_count": 40,
     "metadata": {},
     "output_type": "execute_result"
    }
   ],
   "source": [
    "len(anmly1_set & true_idx)"
   ]
  },
  {
   "cell_type": "code",
   "execution_count": 41,
   "metadata": {},
   "outputs": [
    {
     "data": {
      "text/plain": [
       "117"
      ]
     },
     "execution_count": 41,
     "metadata": {},
     "output_type": "execute_result"
    }
   ],
   "source": [
    "len(anmly1_set & anml25)"
   ]
  },
  {
   "cell_type": "code",
   "execution_count": 42,
   "metadata": {},
   "outputs": [
    {
     "data": {
      "text/plain": [
       "2"
      ]
     },
     "execution_count": 42,
     "metadata": {},
     "output_type": "execute_result"
    }
   ],
   "source": [
    "len(anmly1_set & anml25 & true_idx)"
   ]
  },
  {
   "cell_type": "code",
   "execution_count": null,
   "metadata": {},
   "outputs": [],
   "source": []
  },
  {
   "cell_type": "code",
   "execution_count": 47,
   "metadata": {},
   "outputs": [],
   "source": [
    "X_train_am, X_test_am, y_train_am, y_test_am = train_test_split(processed_data, Y, test_size=0.3, random_state=42)"
   ]
  },
  {
   "cell_type": "code",
   "execution_count": 48,
   "metadata": {},
   "outputs": [
    {
     "name": "stderr",
     "output_type": "stream",
     "text": [
      "C:\\Users\\JAYESH\\Anaconda3\\lib\\site-packages\\sklearn\\preprocessing\\data.py:323: DataConversionWarning: Data with input dtype int32, int64, float64 were all converted to float64 by MinMaxScaler.\n",
      "  return self.partial_fit(X, y)\n"
     ]
    }
   ],
   "source": [
    "scal = MinMaxScaler()\n",
    "X_train_am = scal.fit_transform(X_train_am)\n",
    "X_test_am = scal.transform(X_test_am)"
   ]
  },
  {
   "cell_type": "code",
   "execution_count": 49,
   "metadata": {},
   "outputs": [
    {
     "name": "stdout",
     "output_type": "stream",
     "text": [
      "\n",
      "The accuracy of the Logistic Regression is {} 96.92853457172342\n",
      "Classification Report\n",
      "              precision    recall  f1-score   support\n",
      "\n",
      "           0       0.99      0.98      0.98    229969\n",
      "           1       0.11      0.25      0.15      2591\n",
      "\n",
      "   micro avg       0.97      0.97      0.97    232560\n",
      "   macro avg       0.55      0.61      0.57    232560\n",
      "weighted avg       0.98      0.97      0.98    232560\n",
      "\n"
     ]
    }
   ],
   "source": [
    "from sklearn.naive_bayes import BernoulliNB\n",
    "optimal_nb_sm = BernoulliNB()\n",
    "lp = optimal_nb_sm.fit(X_train_am, y_train_am)\n",
    "\n",
    "nb_prd_am = optimal_nb_sm.predict(X_test_am)\n",
    "\n",
    "acc = accuracy_score(y_test_am, nb_prd_am) * 100\n",
    "print('\\nThe accuracy of the Logistic Regression is {}' , acc)\n",
    "\n",
    "print(\"Classification Report\")\n",
    "print(classification_report(y_test_am,nb_prd_am))"
   ]
  },
  {
   "cell_type": "code",
   "execution_count": 55,
   "metadata": {},
   "outputs": [
    {
     "data": {
      "image/png": "[encoded data removed]",
      "text/plain": [
       "<Figure size 432x288 with 2 Axes>"
      ]
     },
     "metadata": {
      "needs_background": "light"
     },
     "output_type": "display_data"
    }
   ],
   "source": [
    "#y_test_np= np.asarray(y_test)\n",
    "from sklearn.metrics import confusion_matrix\n",
    "import seaborn as sns\n",
    "import matplotlib.pyplot as plt\n",
    "\n",
    "mat = confusion_matrix(y_test_am,nb_prd_am)\n",
    "tn, fp, fn, tp = confusion_matrix(y_test_am,nb_prd_am).ravel()\n",
    "\n",
    "sns.heatmap(mat.T, square=True, annot=True, fmt='d', cbar=True,cmap='RdYlBu_r',\n",
    "            xticklabels=['0','1'], yticklabels=['0','1'])\n",
    "plt.title(\"confusion Matrix\")\n",
    "plt.xlabel('true label')\n",
    "plt.ylabel('predicted label');"
   ]
  },
  {
   "cell_type": "code",
   "execution_count": 51,
   "metadata": {},
   "outputs": [
    {
     "name": "stdout",
     "output_type": "stream",
     "text": [
      "True positive rate: 24.93245851022771\n",
      "False positive rate: 2.260304649757141\n",
      "True negative rate: 97.73969535024285\n",
      "False negative rate: 75.0675414897723\n"
     ]
    }
   ],
   "source": [
    "print(\"True positive rate:\",(tp/(tp+fn))*100)\n",
    "print(\"False positive rate:\",(fp/(tn+fp))*100)\n",
    "print(\"True negative rate:\",(tn/(tn+fp))*100)\n",
    "print(\"False negative rate:\",(fn/(tp+fn))*100)"
   ]
  },
  {
   "cell_type": "code",
   "execution_count": null,
   "metadata": {},
   "outputs": [],
   "source": []
  },
  {
   "cell_type": "code",
   "execution_count": 52,
   "metadata": {},
   "outputs": [
    {
     "name": "stderr",
     "output_type": "stream",
     "text": [
      "C:\\Users\\JAYESH\\Anaconda3\\lib\\site-packages\\sklearn\\linear_model\\logistic.py:432: FutureWarning: Default solver will be changed to 'lbfgs' in 0.22. Specify a solver to silence this warning.\n",
      "  FutureWarning)\n"
     ]
    },
    {
     "name": "stdout",
     "output_type": "stream",
     "text": [
      "\n",
      "The accuracy of the Logistic Regression is {} 86.30589955280358\n",
      "Classification Report\n",
      "              precision    recall  f1-score   support\n",
      "\n",
      "           0       1.00      0.86      0.93    229969\n",
      "           1       0.06      0.72      0.10      2591\n",
      "\n",
      "   micro avg       0.86      0.86      0.86    232560\n",
      "   macro avg       0.53      0.79      0.52    232560\n",
      "weighted avg       0.99      0.86      0.92    232560\n",
      "\n"
     ]
    }
   ],
   "source": [
    "optimal_lr_sm = LogisticRegression(class_weight='balanced')\n",
    "lp = optimal_lr_sm.fit(X_train_am, y_train_am)\n",
    "\n",
    "log_prd_am = optimal_lr_sm.predict(X_test_am)\n",
    "\n",
    "acc = accuracy_score(y_test_am, log_prd_am) * 100\n",
    "print('\\nThe accuracy of the Logistic Regression is {}' , acc)\n",
    "\n",
    "print(\"Classification Report\")\n",
    "print(classification_report(y_test_am,log_prd_am))"
   ]
  },
  {
   "cell_type": "code",
   "execution_count": 53,
   "metadata": {},
   "outputs": [
    {
     "data": {
      "image/png": "[encoded data removed]",
      "text/plain": [
       "<Figure size 432x288 with 2 Axes>"
      ]
     },
     "metadata": {
      "needs_background": "light"
     },
     "output_type": "display_data"
    }
   ],
   "source": [
    "#y_test_np= np.asarray(y_test)\n",
    "from sklearn.metrics import confusion_matrix\n",
    "import seaborn as sns\n",
    "import matplotlib.pyplot as plt\n",
    "\n",
    "mat = confusion_matrix(y_test_am,log_prd_am)\n",
    "tn, fp, fn, tp = confusion_matrix(y_test_am,log_prd_am).ravel()\n",
    "\n",
    "sns.heatmap(mat.T, square=True, annot=True, fmt='d', cbar=True,cmap='RdYlBu_r',\n",
    "            xticklabels=['0','1'], yticklabels=['0','1'])\n",
    "plt.title(\"confusion Matrix\")\n",
    "plt.xlabel('true label')\n",
    "plt.ylabel('predicted label');"
   ]
  },
  {
   "cell_type": "code",
   "execution_count": 54,
   "metadata": {},
   "outputs": [
    {
     "name": "stdout",
     "output_type": "stream",
     "text": [
      "True positive rate: 71.67116943265148\n",
      "False positive rate: 13.529214807213148\n",
      "True negative rate: 86.47078519278686\n",
      "False negative rate: 28.32883056734851\n"
     ]
    }
   ],
   "source": [
    "print(\"True positive rate:\",(tp/(tp+fn))*100)\n",
    "print(\"False positive rate:\",(fp/(tn+fp))*100)\n",
    "print(\"True negative rate:\",(tn/(tn+fp))*100)\n",
    "print(\"False negative rate:\",(fn/(tp+fn))*100)"
   ]
  },
  {
   "cell_type": "code",
   "execution_count": 75,
   "metadata": {},
   "outputs": [],
   "source": [
    "\n",
    "from sklearn.model_selection import RandomizedSearchCV"
   ]
  },
  {
   "cell_type": "code",
   "execution_count": 73,
   "metadata": {},
   "outputs": [],
   "source": [
    "tuned_parameters_rscv = {'C': [10**-4, 10**-2,10**-1, 10**0, 10**1,10**2,10**3]}"
   ]
  },
  {
   "cell_type": "code",
   "execution_count": 77,
   "metadata": {},
   "outputs": [
    {
     "name": "stderr",
     "output_type": "stream",
     "text": [
      "C:\\Users\\JAYESH\\Anaconda3\\lib\\site-packages\\sklearn\\model_selection\\_search.py:271: UserWarning: The total space of parameters 7 is smaller than n_iter=10. Running 7 iterations. For exhaustive searches, use GridSearchCV.\n",
      "  % (grid_size, self.n_iter, grid_size), UserWarning)\n",
      "C:\\Users\\JAYESH\\Anaconda3\\lib\\site-packages\\sklearn\\linear_model\\logistic.py:432: FutureWarning: Default solver will be changed to 'lbfgs' in 0.22. Specify a solver to silence this warning.\n",
      "  FutureWarning)\n",
      "C:\\Users\\JAYESH\\Anaconda3\\lib\\site-packages\\sklearn\\metrics\\classification.py:1143: UndefinedMetricWarning: F-score is ill-defined and being set to 0.0 due to no predicted samples.\n",
      "  'precision', 'predicted', average, warn_for)\n",
      "C:\\Users\\JAYESH\\Anaconda3\\lib\\site-packages\\sklearn\\metrics\\classification.py:1143: UndefinedMetricWarning: F-score is ill-defined and being set to 0.0 due to no predicted samples.\n",
      "  'precision', 'predicted', average, warn_for)\n",
      "C:\\Users\\JAYESH\\Anaconda3\\lib\\site-packages\\sklearn\\linear_model\\logistic.py:432: FutureWarning: Default solver will be changed to 'lbfgs' in 0.22. Specify a solver to silence this warning.\n",
      "  FutureWarning)\n",
      "C:\\Users\\JAYESH\\Anaconda3\\lib\\site-packages\\sklearn\\metrics\\classification.py:1143: UndefinedMetricWarning: F-score is ill-defined and being set to 0.0 due to no predicted samples.\n",
      "  'precision', 'predicted', average, warn_for)\n",
      "C:\\Users\\JAYESH\\Anaconda3\\lib\\site-packages\\sklearn\\metrics\\classification.py:1143: UndefinedMetricWarning: F-score is ill-defined and being set to 0.0 due to no predicted samples.\n",
      "  'precision', 'predicted', average, warn_for)\n",
      "C:\\Users\\JAYESH\\Anaconda3\\lib\\site-packages\\sklearn\\linear_model\\logistic.py:432: FutureWarning: Default solver will be changed to 'lbfgs' in 0.22. Specify a solver to silence this warning.\n",
      "  FutureWarning)\n",
      "C:\\Users\\JAYESH\\Anaconda3\\lib\\site-packages\\sklearn\\metrics\\classification.py:1143: UndefinedMetricWarning: F-score is ill-defined and being set to 0.0 due to no predicted samples.\n",
      "  'precision', 'predicted', average, warn_for)\n",
      "C:\\Users\\JAYESH\\Anaconda3\\lib\\site-packages\\sklearn\\metrics\\classification.py:1143: UndefinedMetricWarning: F-score is ill-defined and being set to 0.0 due to no predicted samples.\n",
      "  'precision', 'predicted', average, warn_for)\n",
      "C:\\Users\\JAYESH\\Anaconda3\\lib\\site-packages\\sklearn\\linear_model\\logistic.py:432: FutureWarning: Default solver will be changed to 'lbfgs' in 0.22. Specify a solver to silence this warning.\n",
      "  FutureWarning)\n",
      "C:\\Users\\JAYESH\\Anaconda3\\lib\\site-packages\\sklearn\\metrics\\classification.py:1143: UndefinedMetricWarning: F-score is ill-defined and being set to 0.0 due to no predicted samples.\n",
      "  'precision', 'predicted', average, warn_for)\n",
      "C:\\Users\\JAYESH\\Anaconda3\\lib\\site-packages\\sklearn\\metrics\\classification.py:1143: UndefinedMetricWarning: F-score is ill-defined and being set to 0.0 due to no predicted samples.\n",
      "  'precision', 'predicted', average, warn_for)\n",
      "C:\\Users\\JAYESH\\Anaconda3\\lib\\site-packages\\sklearn\\linear_model\\logistic.py:432: FutureWarning: Default solver will be changed to 'lbfgs' in 0.22. Specify a solver to silence this warning.\n",
      "  FutureWarning)\n",
      "C:\\Users\\JAYESH\\Anaconda3\\lib\\site-packages\\sklearn\\metrics\\classification.py:1143: UndefinedMetricWarning: F-score is ill-defined and being set to 0.0 due to no predicted samples.\n",
      "  'precision', 'predicted', average, warn_for)\n",
      "C:\\Users\\JAYESH\\Anaconda3\\lib\\site-packages\\sklearn\\metrics\\classification.py:1143: UndefinedMetricWarning: F-score is ill-defined and being set to 0.0 due to no predicted samples.\n",
      "  'precision', 'predicted', average, warn_for)\n",
      "C:\\Users\\JAYESH\\Anaconda3\\lib\\site-packages\\sklearn\\linear_model\\logistic.py:432: FutureWarning: Default solver will be changed to 'lbfgs' in 0.22. Specify a solver to silence this warning.\n",
      "  FutureWarning)\n",
      "C:\\Users\\JAYESH\\Anaconda3\\lib\\site-packages\\sklearn\\metrics\\classification.py:1143: UndefinedMetricWarning: F-score is ill-defined and being set to 0.0 due to no predicted samples.\n",
      "  'precision', 'predicted', average, warn_for)\n",
      "C:\\Users\\JAYESH\\Anaconda3\\lib\\site-packages\\sklearn\\metrics\\classification.py:1143: UndefinedMetricWarning: F-score is ill-defined and being set to 0.0 due to no predicted samples.\n",
      "  'precision', 'predicted', average, warn_for)\n",
      "C:\\Users\\JAYESH\\Anaconda3\\lib\\site-packages\\sklearn\\linear_model\\logistic.py:432: FutureWarning: Default solver will be changed to 'lbfgs' in 0.22. Specify a solver to silence this warning.\n",
      "  FutureWarning)\n",
      "C:\\Users\\JAYESH\\Anaconda3\\lib\\site-packages\\sklearn\\metrics\\classification.py:1143: UndefinedMetricWarning: F-score is ill-defined and being set to 0.0 due to no predicted samples.\n",
      "  'precision', 'predicted', average, warn_for)\n",
      "C:\\Users\\JAYESH\\Anaconda3\\lib\\site-packages\\sklearn\\metrics\\classification.py:1143: UndefinedMetricWarning: F-score is ill-defined and being set to 0.0 due to no predicted samples.\n",
      "  'precision', 'predicted', average, warn_for)\n",
      "C:\\Users\\JAYESH\\Anaconda3\\lib\\site-packages\\sklearn\\linear_model\\logistic.py:432: FutureWarning: Default solver will be changed to 'lbfgs' in 0.22. Specify a solver to silence this warning.\n",
      "  FutureWarning)\n",
      "C:\\Users\\JAYESH\\Anaconda3\\lib\\site-packages\\sklearn\\metrics\\classification.py:1143: UndefinedMetricWarning: F-score is ill-defined and being set to 0.0 due to no predicted samples.\n",
      "  'precision', 'predicted', average, warn_for)\n",
      "C:\\Users\\JAYESH\\Anaconda3\\lib\\site-packages\\sklearn\\metrics\\classification.py:1143: UndefinedMetricWarning: F-score is ill-defined and being set to 0.0 due to no predicted samples.\n",
      "  'precision', 'predicted', average, warn_for)\n",
      "C:\\Users\\JAYESH\\Anaconda3\\lib\\site-packages\\sklearn\\linear_model\\logistic.py:432: FutureWarning: Default solver will be changed to 'lbfgs' in 0.22. Specify a solver to silence this warning.\n",
      "  FutureWarning)\n",
      "C:\\Users\\JAYESH\\Anaconda3\\lib\\site-packages\\sklearn\\metrics\\classification.py:1143: UndefinedMetricWarning: F-score is ill-defined and being set to 0.0 due to no predicted samples.\n",
      "  'precision', 'predicted', average, warn_for)\n",
      "C:\\Users\\JAYESH\\Anaconda3\\lib\\site-packages\\sklearn\\metrics\\classification.py:1143: UndefinedMetricWarning: F-score is ill-defined and being set to 0.0 due to no predicted samples.\n",
      "  'precision', 'predicted', average, warn_for)\n",
      "C:\\Users\\JAYESH\\Anaconda3\\lib\\site-packages\\sklearn\\linear_model\\logistic.py:432: FutureWarning: Default solver will be changed to 'lbfgs' in 0.22. Specify a solver to silence this warning.\n",
      "  FutureWarning)\n",
      "C:\\Users\\JAYESH\\Anaconda3\\lib\\site-packages\\sklearn\\metrics\\classification.py:1143: UndefinedMetricWarning: F-score is ill-defined and being set to 0.0 due to no predicted samples.\n",
      "  'precision', 'predicted', average, warn_for)\n",
      "C:\\Users\\JAYESH\\Anaconda3\\lib\\site-packages\\sklearn\\metrics\\classification.py:1143: UndefinedMetricWarning: F-score is ill-defined and being set to 0.0 due to no predicted samples.\n",
      "  'precision', 'predicted', average, warn_for)\n",
      "C:\\Users\\JAYESH\\Anaconda3\\lib\\site-packages\\sklearn\\linear_model\\logistic.py:432: FutureWarning: Default solver will be changed to 'lbfgs' in 0.22. Specify a solver to silence this warning.\n",
      "  FutureWarning)\n",
      "C:\\Users\\JAYESH\\Anaconda3\\lib\\site-packages\\sklearn\\linear_model\\logistic.py:432: FutureWarning: Default solver will be changed to 'lbfgs' in 0.22. Specify a solver to silence this warning.\n",
      "  FutureWarning)\n",
      "C:\\Users\\JAYESH\\Anaconda3\\lib\\site-packages\\sklearn\\linear_model\\logistic.py:432: FutureWarning: Default solver will be changed to 'lbfgs' in 0.22. Specify a solver to silence this warning.\n",
      "  FutureWarning)\n",
      "C:\\Users\\JAYESH\\Anaconda3\\lib\\site-packages\\sklearn\\linear_model\\logistic.py:432: FutureWarning: Default solver will be changed to 'lbfgs' in 0.22. Specify a solver to silence this warning.\n",
      "  FutureWarning)\n",
      "C:\\Users\\JAYESH\\Anaconda3\\lib\\site-packages\\sklearn\\linear_model\\logistic.py:432: FutureWarning: Default solver will be changed to 'lbfgs' in 0.22. Specify a solver to silence this warning.\n",
      "  FutureWarning)\n",
      "C:\\Users\\JAYESH\\Anaconda3\\lib\\site-packages\\sklearn\\linear_model\\logistic.py:432: FutureWarning: Default solver will be changed to 'lbfgs' in 0.22. Specify a solver to silence this warning.\n",
      "  FutureWarning)\n",
      "C:\\Users\\JAYESH\\Anaconda3\\lib\\site-packages\\sklearn\\linear_model\\logistic.py:432: FutureWarning: Default solver will be changed to 'lbfgs' in 0.22. Specify a solver to silence this warning.\n",
      "  FutureWarning)\n"
     ]
    },
    {
     "name": "stderr",
     "output_type": "stream",
     "text": [
      "C:\\Users\\JAYESH\\Anaconda3\\lib\\site-packages\\sklearn\\linear_model\\logistic.py:432: FutureWarning: Default solver will be changed to 'lbfgs' in 0.22. Specify a solver to silence this warning.\n",
      "  FutureWarning)\n",
      "C:\\Users\\JAYESH\\Anaconda3\\lib\\site-packages\\sklearn\\linear_model\\logistic.py:432: FutureWarning: Default solver will be changed to 'lbfgs' in 0.22. Specify a solver to silence this warning.\n",
      "  FutureWarning)\n",
      "C:\\Users\\JAYESH\\Anaconda3\\lib\\site-packages\\sklearn\\linear_model\\logistic.py:432: FutureWarning: Default solver will be changed to 'lbfgs' in 0.22. Specify a solver to silence this warning.\n",
      "  FutureWarning)\n",
      "C:\\Users\\JAYESH\\Anaconda3\\lib\\site-packages\\sklearn\\linear_model\\logistic.py:432: FutureWarning: Default solver will be changed to 'lbfgs' in 0.22. Specify a solver to silence this warning.\n",
      "  FutureWarning)\n",
      "C:\\Users\\JAYESH\\Anaconda3\\lib\\site-packages\\sklearn\\linear_model\\logistic.py:432: FutureWarning: Default solver will be changed to 'lbfgs' in 0.22. Specify a solver to silence this warning.\n",
      "  FutureWarning)\n",
      "C:\\Users\\JAYESH\\Anaconda3\\lib\\site-packages\\sklearn\\linear_model\\logistic.py:432: FutureWarning: Default solver will be changed to 'lbfgs' in 0.22. Specify a solver to silence this warning.\n",
      "  FutureWarning)\n",
      "C:\\Users\\JAYESH\\Anaconda3\\lib\\site-packages\\sklearn\\linear_model\\logistic.py:432: FutureWarning: Default solver will be changed to 'lbfgs' in 0.22. Specify a solver to silence this warning.\n",
      "  FutureWarning)\n",
      "C:\\Users\\JAYESH\\Anaconda3\\lib\\site-packages\\sklearn\\linear_model\\logistic.py:432: FutureWarning: Default solver will be changed to 'lbfgs' in 0.22. Specify a solver to silence this warning.\n",
      "  FutureWarning)\n",
      "C:\\Users\\JAYESH\\Anaconda3\\lib\\site-packages\\sklearn\\linear_model\\logistic.py:432: FutureWarning: Default solver will be changed to 'lbfgs' in 0.22. Specify a solver to silence this warning.\n",
      "  FutureWarning)\n",
      "C:\\Users\\JAYESH\\Anaconda3\\lib\\site-packages\\sklearn\\linear_model\\logistic.py:432: FutureWarning: Default solver will be changed to 'lbfgs' in 0.22. Specify a solver to silence this warning.\n",
      "  FutureWarning)\n",
      "C:\\Users\\JAYESH\\Anaconda3\\lib\\site-packages\\sklearn\\linear_model\\logistic.py:432: FutureWarning: Default solver will be changed to 'lbfgs' in 0.22. Specify a solver to silence this warning.\n",
      "  FutureWarning)\n",
      "C:\\Users\\JAYESH\\Anaconda3\\lib\\site-packages\\sklearn\\linear_model\\logistic.py:432: FutureWarning: Default solver will be changed to 'lbfgs' in 0.22. Specify a solver to silence this warning.\n",
      "  FutureWarning)\n",
      "C:\\Users\\JAYESH\\Anaconda3\\lib\\site-packages\\sklearn\\linear_model\\logistic.py:432: FutureWarning: Default solver will be changed to 'lbfgs' in 0.22. Specify a solver to silence this warning.\n",
      "  FutureWarning)\n",
      "C:\\Users\\JAYESH\\Anaconda3\\lib\\site-packages\\sklearn\\linear_model\\logistic.py:432: FutureWarning: Default solver will be changed to 'lbfgs' in 0.22. Specify a solver to silence this warning.\n",
      "  FutureWarning)\n",
      "C:\\Users\\JAYESH\\Anaconda3\\lib\\site-packages\\sklearn\\linear_model\\logistic.py:432: FutureWarning: Default solver will be changed to 'lbfgs' in 0.22. Specify a solver to silence this warning.\n",
      "  FutureWarning)\n",
      "C:\\Users\\JAYESH\\Anaconda3\\lib\\site-packages\\sklearn\\linear_model\\logistic.py:432: FutureWarning: Default solver will be changed to 'lbfgs' in 0.22. Specify a solver to silence this warning.\n",
      "  FutureWarning)\n",
      "C:\\Users\\JAYESH\\Anaconda3\\lib\\site-packages\\sklearn\\linear_model\\logistic.py:432: FutureWarning: Default solver will be changed to 'lbfgs' in 0.22. Specify a solver to silence this warning.\n",
      "  FutureWarning)\n",
      "C:\\Users\\JAYESH\\Anaconda3\\lib\\site-packages\\sklearn\\linear_model\\logistic.py:432: FutureWarning: Default solver will be changed to 'lbfgs' in 0.22. Specify a solver to silence this warning.\n",
      "  FutureWarning)\n",
      "C:\\Users\\JAYESH\\Anaconda3\\lib\\site-packages\\sklearn\\linear_model\\logistic.py:432: FutureWarning: Default solver will be changed to 'lbfgs' in 0.22. Specify a solver to silence this warning.\n",
      "  FutureWarning)\n"
     ]
    },
    {
     "name": "stdout",
     "output_type": "stream",
     "text": [
      "LogisticRegression(C=1000, class_weight=None, dual=False, fit_intercept=True,\n",
      "          intercept_scaling=1, max_iter=100, multi_class='warn',\n",
      "          n_jobs=None, penalty='l2', random_state=None, solver='warn',\n",
      "          tol=0.0001, verbose=0, warm_start=False)\n",
      "0.03255484784147204\n"
     ]
    }
   ],
   "source": [
    "model = RandomizedSearchCV(LogisticRegression(), tuned_parameters_rscv, scoring = 'f1', cv=5)\n",
    "model.fit(X_train_am, y_train_am)\n",
    "\n",
    "print(model.best_estimator_)\n",
    "print(model.score(X_test_am, y_test_am))"
   ]
  },
  {
   "cell_type": "code",
   "execution_count": 79,
   "metadata": {},
   "outputs": [
    {
     "name": "stderr",
     "output_type": "stream",
     "text": [
      "C:\\Users\\JAYESH\\Anaconda3\\lib\\site-packages\\sklearn\\linear_model\\logistic.py:432: FutureWarning: Default solver will be changed to 'lbfgs' in 0.22. Specify a solver to silence this warning.\n",
      "  FutureWarning)\n"
     ]
    },
    {
     "name": "stdout",
     "output_type": "stream",
     "text": [
      "\n",
      "The accuracy of the Logistic Regression is {} 85.58694530443756\n",
      "Classification Report\n",
      "              precision    recall  f1-score   support\n",
      "\n",
      "           0       1.00      0.86      0.92    229969\n",
      "           1       0.06      0.75      0.10      2591\n",
      "\n",
      "   micro avg       0.86      0.86      0.86    232560\n",
      "   macro avg       0.53      0.80      0.51    232560\n",
      "weighted avg       0.99      0.86      0.91    232560\n",
      "\n"
     ]
    }
   ],
   "source": [
    "optimal_lr_sm = LogisticRegression(C=1000,class_weight='balanced')\n",
    "lp = optimal_lr_sm.fit(X_train_am, y_train_am)\n",
    "\n",
    "log_prd_am = optimal_lr_sm.predict(X_test_am)\n",
    "\n",
    "acc = accuracy_score(y_test_am, log_prd_am) * 100\n",
    "print('\\nThe accuracy of the Logistic Regression is {}' , acc)\n",
    "\n",
    "print(\"Classification Report\")\n",
    "print(classification_report(y_test_am,log_prd_am))"
   ]
  },
  {
   "cell_type": "code",
   "execution_count": null,
   "metadata": {},
   "outputs": [],
   "source": []
  },
  {
   "cell_type": "markdown",
   "metadata": {},
   "source": [
    "# k-MEANS"
   ]
  },
  {
   "cell_type": "code",
   "execution_count": 43,
   "metadata": {},
   "outputs": [],
   "source": [
    "from sklearn.cluster import KMeans,MiniBatchKMeans\n",
    "from sklearn.model_selection import RandomizedSearchCV\n",
    "from sklearn.metrics.pairwise import pairwise_distances_argmin_min\n",
    "from sklearn.metrics.pairwise import pairwise_distances"
   ]
  },
  {
   "cell_type": "code",
   "execution_count": 44,
   "metadata": {},
   "outputs": [
    {
     "data": {
      "text/plain": [
       "MiniBatchKMeans(batch_size=10000, compute_labels=True, init='k-means++',\n",
       "        init_size=None, max_iter=100, max_no_improvement=10, n_clusters=10,\n",
       "        n_init=3, random_state=42, reassignment_ratio=0.01, tol=0.0,\n",
       "        verbose=0)"
      ]
     },
     "execution_count": 44,
     "metadata": {},
     "output_type": "execute_result"
    }
   ],
   "source": [
    "kmeanModel = MiniBatchKMeans(n_clusters=10,batch_size=10000,random_state=42)\n",
    "kmeanModel.fit(processed_data)"
   ]
  },
  {
   "cell_type": "code",
   "execution_count": null,
   "metadata": {},
   "outputs": [],
   "source": []
  },
  {
   "cell_type": "code",
   "execution_count": 60,
   "metadata": {},
   "outputs": [
    {
     "name": "stdout",
     "output_type": "stream",
     "text": [
      "20\n",
      "21\n",
      "22\n",
      "23\n",
      "24\n",
      "25\n",
      "26\n",
      "27\n",
      "28\n",
      "29\n",
      "30\n",
      "31\n",
      "32\n",
      "33\n",
      "34\n",
      "35\n",
      "36\n",
      "37\n",
      "38\n",
      "39\n"
     ]
    }
   ],
   "source": [
    "cost = []\n",
    "K = range(20,40)\n",
    "for k in K:\n",
    "    print(k)\n",
    "    kmeanModel = MiniBatchKMeans(n_clusters=k,batch_size=10000,random_state=42)\n",
    "    kmeanModel.fit(X)\n",
    "    cost.append(sum(np.min(pairwise_distances(X=X, Y=kmeanModel.cluster_centers_, metric='euclidean'), axis=1))/X.shape[0])\n"
   ]
  },
  {
   "cell_type": "code",
   "execution_count": 61,
   "metadata": {},
   "outputs": [
    {
     "data": {
      "image/png": "[encoded data removed]",
      "text/plain": [
       "<Figure size 432x288 with 1 Axes>"
      ]
     },
     "metadata": {
      "needs_background": "light"
     },
     "output_type": "display_data"
    }
   ],
   "source": [
    "plt.plot(K, cost, 'bx-')\n",
    "plt.xlabel('k')\n",
    "plt.ylabel('Cost')\n",
    "plt.title('The Elbow Method showing the optimal k')\n",
    "plt.show()"
   ]
  },
  {
   "cell_type": "code",
   "execution_count": 136,
   "metadata": {},
   "outputs": [],
   "source": [
    "processed_data.drop(columns='cluster',inplace=True)\n",
    "\n"
   ]
  },
  {
   "cell_type": "code",
   "execution_count": 137,
   "metadata": {},
   "outputs": [],
   "source": [
    "kmeans_mini_batch = MiniBatchKMeans(n_clusters=25, batch_size=20000,random_state=0).fit(processed_data)"
   ]
  },
  {
   "cell_type": "code",
   "execution_count": 138,
   "metadata": {},
   "outputs": [],
   "source": [
    "processed_data['cluster']=kmeans_mini_batch.predict(X)"
   ]
  },
  {
   "cell_type": "code",
   "execution_count": 139,
   "metadata": {},
   "outputs": [
    {
     "data": {
      "text/plain": [
       "0    8590\n",
       "4      27\n",
       "5       3\n",
       "2       3\n",
       "1       1\n",
       "Name: cluster, dtype: int64"
      ]
     },
     "execution_count": 139,
     "metadata": {},
     "output_type": "execute_result"
    }
   ],
   "source": [
    "processed_data.iloc[Y[Y==1].index]['cluster'].value_counts()"
   ]
  },
  {
   "cell_type": "code",
   "execution_count": 140,
   "metadata": {},
   "outputs": [
    {
     "data": {
      "text/plain": [
       "0    767148\n",
       "4      5159\n",
       "2      1549\n",
       "5       740\n",
       "1       318\n",
       "6       184\n",
       "3        80\n",
       "7        20\n",
       "Name: cluster, dtype: int64"
      ]
     },
     "execution_count": 140,
     "metadata": {},
     "output_type": "execute_result"
    }
   ],
   "source": [
    "processed_data['cluster'].value_counts()"
   ]
  },
  {
   "cell_type": "code",
   "execution_count": null,
   "metadata": {},
   "outputs": [],
   "source": []
  },
  {
   "cell_type": "code",
   "execution_count": 67,
   "metadata": {},
   "outputs": [
    {
     "data": {
      "text/plain": [
       "(25, 28)"
      ]
     },
     "execution_count": 67,
     "metadata": {},
     "output_type": "execute_result"
    }
   ],
   "source": [
    "kmeans_mini_batch.cluster_centers_.shape"
   ]
  },
  {
   "cell_type": "code",
   "execution_count": 100,
   "metadata": {},
   "outputs": [
    {
     "data": {
      "text/plain": [
       "730676"
      ]
     },
     "execution_count": 100,
     "metadata": {},
     "output_type": "execute_result"
    }
   ],
   "source": [
    "len(dictlist[0][1])"
   ]
  },
  {
   "cell_type": "code",
   "execution_count": 101,
   "metadata": {},
   "outputs": [
    {
     "data": {
      "text/plain": [
       "(775198, 29)"
      ]
     },
     "execution_count": 101,
     "metadata": {},
     "output_type": "execute_result"
    }
   ],
   "source": [
    "X.shape"
   ]
  },
  {
   "cell_type": "code",
   "execution_count": null,
   "metadata": {},
   "outputs": [],
   "source": [
    "mydic"
   ]
  },
  {
   "cell_type": "code",
   "execution_count": 68,
   "metadata": {},
   "outputs": [],
   "source": [
    "mydict = {i: np.where(kmeans_mini_batch.labels_ == i)[0] for i in range(kmeans_mini_batch.n_clusters)}"
   ]
  },
  {
   "cell_type": "code",
   "execution_count": 69,
   "metadata": {},
   "outputs": [],
   "source": [
    "dictlist = []\n",
    "for key, value in mydict.items():\n",
    "    temp = [key,value]\n",
    "    dictlist.append(temp)"
   ]
  },
  {
   "cell_type": "code",
   "execution_count": 91,
   "metadata": {},
   "outputs": [],
   "source": [
    "X['cluster']=\"\""
   ]
  },
  {
   "cell_type": "code",
   "execution_count": 117,
   "metadata": {},
   "outputs": [],
   "source": [
    "true_index = set(Y[Y==1].index)"
   ]
  },
  {
   "cell_type": "code",
   "execution_count": null,
   "metadata": {},
   "outputs": [],
   "source": []
  },
  {
   "cell_type": "code",
   "execution_count": null,
   "metadata": {},
   "outputs": [],
   "source": []
  }
 ],
 "metadata": {
  "kernelspec": {
   "display_name": "Python 3",
   "language": "python",
   "name": "python3"
  },
  "language_info": {
   "codemirror_mode": {
    "name": "ipython",
    "version": 3
   },
   "file_extension": ".py",
   "mimetype": "text/x-python",
   "name": "python",
   "nbconvert_exporter": "python",
   "pygments_lexer": "ipython3",
   "version": "3.6.6"
  }
 },
 "nbformat": 4,
 "nbformat_minor": 2
}
